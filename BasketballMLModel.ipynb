{
  "cells": [
    {
      "cell_type": "markdown",
      "metadata": {
        "id": "view-in-github",
        "colab_type": "text"
      },
      "source": [
        "<a href=\"https://colab.research.google.com/github/chrisalpuerto/Bball-shot-Detection/blob/main/BasketballMLModel.ipynb\" target=\"_parent\"><img src=\"https://colab.research.google.com/assets/colab-badge.svg\" alt=\"Open In Colab\"/></a>"
      ]
    },
    {
      "cell_type": "markdown",
      "metadata": {
        "id": "RltSS5C-57Pm"
      },
      "source": [
        "**Basketball Detection Test Run Using PyTorch**"
      ]
    },
    {
      "cell_type": "code",
      "execution_count": null,
      "metadata": {
        "colab": {
          "base_uri": "https://localhost:8080/"
        },
        "id": "K3IpRGfI5wv_",
        "outputId": "f97a28e3-9d91-44ca-a291-ced47117ddd0"
      },
      "outputs": [
        {
          "output_type": "stream",
          "name": "stdout",
          "text": [
            "Collecting ultralytics\n",
            "  Downloading ultralytics-8.3.167-py3-none-any.whl.metadata (37 kB)\n",
            "Collecting roboflow\n",
            "  Downloading roboflow-1.2.1-py3-none-any.whl.metadata (9.7 kB)\n",
            "Requirement already satisfied: numpy>=1.23.0 in /usr/local/lib/python3.11/dist-packages (from ultralytics) (2.0.2)\n",
            "Requirement already satisfied: matplotlib>=3.3.0 in /usr/local/lib/python3.11/dist-packages (from ultralytics) (3.10.0)\n",
            "Requirement already satisfied: opencv-python>=4.6.0 in /usr/local/lib/python3.11/dist-packages (from ultralytics) (4.11.0.86)\n",
            "Requirement already satisfied: pillow>=7.1.2 in /usr/local/lib/python3.11/dist-packages (from ultralytics) (11.2.1)\n",
            "Requirement already satisfied: pyyaml>=5.3.1 in /usr/local/lib/python3.11/dist-packages (from ultralytics) (6.0.2)\n",
            "Requirement already satisfied: requests>=2.23.0 in /usr/local/lib/python3.11/dist-packages (from ultralytics) (2.32.3)\n",
            "Requirement already satisfied: scipy>=1.4.1 in /usr/local/lib/python3.11/dist-packages (from ultralytics) (1.15.3)\n",
            "Requirement already satisfied: torch>=1.8.0 in /usr/local/lib/python3.11/dist-packages (from ultralytics) (2.6.0+cu124)\n",
            "Requirement already satisfied: torchvision>=0.9.0 in /usr/local/lib/python3.11/dist-packages (from ultralytics) (0.21.0+cu124)\n",
            "Requirement already satisfied: tqdm>=4.64.0 in /usr/local/lib/python3.11/dist-packages (from ultralytics) (4.67.1)\n",
            "Requirement already satisfied: psutil in /usr/local/lib/python3.11/dist-packages (from ultralytics) (5.9.5)\n",
            "Requirement already satisfied: py-cpuinfo in /usr/local/lib/python3.11/dist-packages (from ultralytics) (9.0.0)\n",
            "Requirement already satisfied: pandas>=1.1.4 in /usr/local/lib/python3.11/dist-packages (from ultralytics) (2.2.2)\n",
            "Collecting ultralytics-thop>=2.0.0 (from ultralytics)\n",
            "  Downloading ultralytics_thop-2.0.14-py3-none-any.whl.metadata (9.4 kB)\n",
            "Requirement already satisfied: certifi in /usr/local/lib/python3.11/dist-packages (from roboflow) (2025.7.14)\n",
            "Collecting idna==3.7 (from roboflow)\n",
            "  Downloading idna-3.7-py3-none-any.whl.metadata (9.9 kB)\n",
            "Requirement already satisfied: cycler in /usr/local/lib/python3.11/dist-packages (from roboflow) (0.12.1)\n",
            "Requirement already satisfied: kiwisolver>=1.3.1 in /usr/local/lib/python3.11/dist-packages (from roboflow) (1.4.8)\n",
            "Collecting opencv-python-headless==4.10.0.84 (from roboflow)\n",
            "  Downloading opencv_python_headless-4.10.0.84-cp37-abi3-manylinux_2_17_x86_64.manylinux2014_x86_64.whl.metadata (20 kB)\n",
            "Collecting pillow-heif<2 (from roboflow)\n",
            "  Downloading pillow_heif-1.0.0-cp311-cp311-manylinux_2_17_x86_64.manylinux2014_x86_64.whl.metadata (9.6 kB)\n",
            "Collecting pillow-avif-plugin<2 (from roboflow)\n",
            "  Downloading pillow_avif_plugin-1.5.2-cp311-cp311-manylinux_2_28_x86_64.whl.metadata (2.1 kB)\n",
            "Requirement already satisfied: python-dateutil in /usr/local/lib/python3.11/dist-packages (from roboflow) (2.9.0.post0)\n",
            "Collecting python-dotenv (from roboflow)\n",
            "  Downloading python_dotenv-1.1.1-py3-none-any.whl.metadata (24 kB)\n",
            "Requirement already satisfied: six in /usr/local/lib/python3.11/dist-packages (from roboflow) (1.17.0)\n",
            "Requirement already satisfied: urllib3>=1.26.6 in /usr/local/lib/python3.11/dist-packages (from roboflow) (2.4.0)\n",
            "Requirement already satisfied: requests-toolbelt in /usr/local/lib/python3.11/dist-packages (from roboflow) (1.0.0)\n",
            "Collecting filetype (from roboflow)\n",
            "  Downloading filetype-1.2.0-py2.py3-none-any.whl.metadata (6.5 kB)\n",
            "Requirement already satisfied: contourpy>=1.0.1 in /usr/local/lib/python3.11/dist-packages (from matplotlib>=3.3.0->ultralytics) (1.3.2)\n",
            "Requirement already satisfied: fonttools>=4.22.0 in /usr/local/lib/python3.11/dist-packages (from matplotlib>=3.3.0->ultralytics) (4.58.5)\n",
            "Requirement already satisfied: packaging>=20.0 in /usr/local/lib/python3.11/dist-packages (from matplotlib>=3.3.0->ultralytics) (25.0)\n",
            "Requirement already satisfied: pyparsing>=2.3.1 in /usr/local/lib/python3.11/dist-packages (from matplotlib>=3.3.0->ultralytics) (3.2.3)\n",
            "Requirement already satisfied: pytz>=2020.1 in /usr/local/lib/python3.11/dist-packages (from pandas>=1.1.4->ultralytics) (2025.2)\n",
            "Requirement already satisfied: tzdata>=2022.7 in /usr/local/lib/python3.11/dist-packages (from pandas>=1.1.4->ultralytics) (2025.2)\n",
            "Requirement already satisfied: charset-normalizer<4,>=2 in /usr/local/lib/python3.11/dist-packages (from requests>=2.23.0->ultralytics) (3.4.2)\n",
            "Requirement already satisfied: filelock in /usr/local/lib/python3.11/dist-packages (from torch>=1.8.0->ultralytics) (3.18.0)\n",
            "Requirement already satisfied: typing-extensions>=4.10.0 in /usr/local/lib/python3.11/dist-packages (from torch>=1.8.0->ultralytics) (4.14.1)\n",
            "Requirement already satisfied: networkx in /usr/local/lib/python3.11/dist-packages (from torch>=1.8.0->ultralytics) (3.5)\n",
            "Requirement already satisfied: jinja2 in /usr/local/lib/python3.11/dist-packages (from torch>=1.8.0->ultralytics) (3.1.6)\n",
            "Requirement already satisfied: fsspec in /usr/local/lib/python3.11/dist-packages (from torch>=1.8.0->ultralytics) (2025.3.2)\n",
            "Collecting nvidia-cuda-nvrtc-cu12==12.4.127 (from torch>=1.8.0->ultralytics)\n",
            "  Downloading nvidia_cuda_nvrtc_cu12-12.4.127-py3-none-manylinux2014_x86_64.whl.metadata (1.5 kB)\n",
            "Collecting nvidia-cuda-runtime-cu12==12.4.127 (from torch>=1.8.0->ultralytics)\n",
            "  Downloading nvidia_cuda_runtime_cu12-12.4.127-py3-none-manylinux2014_x86_64.whl.metadata (1.5 kB)\n",
            "Collecting nvidia-cuda-cupti-cu12==12.4.127 (from torch>=1.8.0->ultralytics)\n",
            "  Downloading nvidia_cuda_cupti_cu12-12.4.127-py3-none-manylinux2014_x86_64.whl.metadata (1.6 kB)\n",
            "Collecting nvidia-cudnn-cu12==9.1.0.70 (from torch>=1.8.0->ultralytics)\n",
            "  Downloading nvidia_cudnn_cu12-9.1.0.70-py3-none-manylinux2014_x86_64.whl.metadata (1.6 kB)\n",
            "Collecting nvidia-cublas-cu12==12.4.5.8 (from torch>=1.8.0->ultralytics)\n",
            "  Downloading nvidia_cublas_cu12-12.4.5.8-py3-none-manylinux2014_x86_64.whl.metadata (1.5 kB)\n",
            "Collecting nvidia-cufft-cu12==11.2.1.3 (from torch>=1.8.0->ultralytics)\n",
            "  Downloading nvidia_cufft_cu12-11.2.1.3-py3-none-manylinux2014_x86_64.whl.metadata (1.5 kB)\n",
            "Collecting nvidia-curand-cu12==10.3.5.147 (from torch>=1.8.0->ultralytics)\n",
            "  Downloading nvidia_curand_cu12-10.3.5.147-py3-none-manylinux2014_x86_64.whl.metadata (1.5 kB)\n",
            "Collecting nvidia-cusolver-cu12==11.6.1.9 (from torch>=1.8.0->ultralytics)\n",
            "  Downloading nvidia_cusolver_cu12-11.6.1.9-py3-none-manylinux2014_x86_64.whl.metadata (1.6 kB)\n",
            "Collecting nvidia-cusparse-cu12==12.3.1.170 (from torch>=1.8.0->ultralytics)\n",
            "  Downloading nvidia_cusparse_cu12-12.3.1.170-py3-none-manylinux2014_x86_64.whl.metadata (1.6 kB)\n",
            "Requirement already satisfied: nvidia-cusparselt-cu12==0.6.2 in /usr/local/lib/python3.11/dist-packages (from torch>=1.8.0->ultralytics) (0.6.2)\n",
            "Requirement already satisfied: nvidia-nccl-cu12==2.21.5 in /usr/local/lib/python3.11/dist-packages (from torch>=1.8.0->ultralytics) (2.21.5)\n",
            "Requirement already satisfied: nvidia-nvtx-cu12==12.4.127 in /usr/local/lib/python3.11/dist-packages (from torch>=1.8.0->ultralytics) (12.4.127)\n",
            "Collecting nvidia-nvjitlink-cu12==12.4.127 (from torch>=1.8.0->ultralytics)\n",
            "  Downloading nvidia_nvjitlink_cu12-12.4.127-py3-none-manylinux2014_x86_64.whl.metadata (1.5 kB)\n",
            "Requirement already satisfied: triton==3.2.0 in /usr/local/lib/python3.11/dist-packages (from torch>=1.8.0->ultralytics) (3.2.0)\n",
            "Requirement already satisfied: sympy==1.13.1 in /usr/local/lib/python3.11/dist-packages (from torch>=1.8.0->ultralytics) (1.13.1)\n",
            "Requirement already satisfied: mpmath<1.4,>=1.1.0 in /usr/local/lib/python3.11/dist-packages (from sympy==1.13.1->torch>=1.8.0->ultralytics) (1.3.0)\n",
            "Requirement already satisfied: MarkupSafe>=2.0 in /usr/local/lib/python3.11/dist-packages (from jinja2->torch>=1.8.0->ultralytics) (3.0.2)\n",
            "Downloading ultralytics-8.3.167-py3-none-any.whl (1.0 MB)\n",
            "\u001b[2K   \u001b[90m━━━━━━━━━━━━━━━━━━━━━━━━━━━━━━━━━━━━━━━━\u001b[0m \u001b[32m1.0/1.0 MB\u001b[0m \u001b[31m58.0 MB/s\u001b[0m eta \u001b[36m0:00:00\u001b[0m\n",
            "\u001b[?25hDownloading roboflow-1.2.1-py3-none-any.whl (86 kB)\n",
            "\u001b[2K   \u001b[90m━━━━━━━━━━━━━━━━━━━━━━━━━━━━━━━━━━━━━━━━\u001b[0m \u001b[32m86.9/86.9 kB\u001b[0m \u001b[31m10.0 MB/s\u001b[0m eta \u001b[36m0:00:00\u001b[0m\n",
            "\u001b[?25hDownloading idna-3.7-py3-none-any.whl (66 kB)\n",
            "\u001b[2K   \u001b[90m━━━━━━━━━━━━━━━━━━━━━━━━━━━━━━━━━━━━━━━━\u001b[0m \u001b[32m66.8/66.8 kB\u001b[0m \u001b[31m6.9 MB/s\u001b[0m eta \u001b[36m0:00:00\u001b[0m\n",
            "\u001b[?25hDownloading opencv_python_headless-4.10.0.84-cp37-abi3-manylinux_2_17_x86_64.manylinux2014_x86_64.whl (49.9 MB)\n",
            "\u001b[2K   \u001b[90m━━━━━━━━━━━━━━━━━━━━━━━━━━━━━━━━━━━━━━━━\u001b[0m \u001b[32m49.9/49.9 MB\u001b[0m \u001b[31m15.4 MB/s\u001b[0m eta \u001b[36m0:00:00\u001b[0m\n",
            "\u001b[?25hDownloading pillow_avif_plugin-1.5.2-cp311-cp311-manylinux_2_28_x86_64.whl (4.2 MB)\n",
            "\u001b[2K   \u001b[90m━━━━━━━━━━━━━━━━━━━━━━━━━━━━━━━━━━━━━━━━\u001b[0m \u001b[32m4.2/4.2 MB\u001b[0m \u001b[31m34.6 MB/s\u001b[0m eta \u001b[36m0:00:00\u001b[0m\n",
            "\u001b[?25hDownloading pillow_heif-1.0.0-cp311-cp311-manylinux_2_17_x86_64.manylinux2014_x86_64.whl (4.9 MB)\n",
            "\u001b[2K   \u001b[90m━━━━━━━━━━━━━━━━━━━━━━━━━━━━━━━━━━━━━━━━\u001b[0m \u001b[32m4.9/4.9 MB\u001b[0m \u001b[31m125.8 MB/s\u001b[0m eta \u001b[36m0:00:00\u001b[0m\n",
            "\u001b[?25hDownloading nvidia_cublas_cu12-12.4.5.8-py3-none-manylinux2014_x86_64.whl (363.4 MB)\n",
            "\u001b[2K   \u001b[90m━━━━━━━━━━━━━━━━━━━━━━━━━━━━━━━━━━━━━━━━\u001b[0m \u001b[32m363.4/363.4 MB\u001b[0m \u001b[31m3.2 MB/s\u001b[0m eta \u001b[36m0:00:00\u001b[0m\n",
            "\u001b[?25hDownloading nvidia_cuda_cupti_cu12-12.4.127-py3-none-manylinux2014_x86_64.whl (13.8 MB)\n",
            "\u001b[2K   \u001b[90m━━━━━━━━━━━━━━━━━━━━━━━━━━━━━━━━━━━━━━━━\u001b[0m \u001b[32m13.8/13.8 MB\u001b[0m \u001b[31m124.3 MB/s\u001b[0m eta \u001b[36m0:00:00\u001b[0m\n",
            "\u001b[?25hDownloading nvidia_cuda_nvrtc_cu12-12.4.127-py3-none-manylinux2014_x86_64.whl (24.6 MB)\n",
            "\u001b[2K   \u001b[90m━━━━━━━━━━━━━━━━━━━━━━━━━━━━━━━━━━━━━━━━\u001b[0m \u001b[32m24.6/24.6 MB\u001b[0m \u001b[31m100.5 MB/s\u001b[0m eta \u001b[36m0:00:00\u001b[0m\n",
            "\u001b[?25hDownloading nvidia_cuda_runtime_cu12-12.4.127-py3-none-manylinux2014_x86_64.whl (883 kB)\n",
            "\u001b[2K   \u001b[90m━━━━━━━━━━━━━━━━━━━━━━━━━━━━━━━━━━━━━━━━\u001b[0m \u001b[32m883.7/883.7 kB\u001b[0m \u001b[31m59.2 MB/s\u001b[0m eta \u001b[36m0:00:00\u001b[0m\n",
            "\u001b[?25hDownloading nvidia_cudnn_cu12-9.1.0.70-py3-none-manylinux2014_x86_64.whl (664.8 MB)\n",
            "\u001b[2K   \u001b[90m━━━━━━━━━━━━━━━━━━━━━━━━━━━━━━━━━━━━━━━━\u001b[0m \u001b[32m664.8/664.8 MB\u001b[0m \u001b[31m2.8 MB/s\u001b[0m eta \u001b[36m0:00:00\u001b[0m\n",
            "\u001b[?25hDownloading nvidia_cufft_cu12-11.2.1.3-py3-none-manylinux2014_x86_64.whl (211.5 MB)\n",
            "\u001b[2K   \u001b[90m━━━━━━━━━━━━━━━━━━━━━━━━━━━━━━━━━━━━━━━━\u001b[0m \u001b[32m211.5/211.5 MB\u001b[0m \u001b[31m5.2 MB/s\u001b[0m eta \u001b[36m0:00:00\u001b[0m\n",
            "\u001b[?25hDownloading nvidia_curand_cu12-10.3.5.147-py3-none-manylinux2014_x86_64.whl (56.3 MB)\n",
            "\u001b[2K   \u001b[90m━━━━━━━━━━━━━━━━━━━━━━━━━━━━━━━━━━━━━━━━\u001b[0m \u001b[32m56.3/56.3 MB\u001b[0m \u001b[31m12.9 MB/s\u001b[0m eta \u001b[36m0:00:00\u001b[0m\n",
            "\u001b[?25hDownloading nvidia_cusolver_cu12-11.6.1.9-py3-none-manylinux2014_x86_64.whl (127.9 MB)\n",
            "\u001b[2K   \u001b[90m━━━━━━━━━━━━━━━━━━━━━━━━━━━━━━━━━━━━━━━━\u001b[0m \u001b[32m127.9/127.9 MB\u001b[0m \u001b[31m7.3 MB/s\u001b[0m eta \u001b[36m0:00:00\u001b[0m\n",
            "\u001b[?25hDownloading nvidia_cusparse_cu12-12.3.1.170-py3-none-manylinux2014_x86_64.whl (207.5 MB)\n",
            "\u001b[2K   \u001b[90m━━━━━━━━━━━━━━━━━━━━━━━━━━━━━━━━━━━━━━━━\u001b[0m \u001b[32m207.5/207.5 MB\u001b[0m \u001b[31m6.2 MB/s\u001b[0m eta \u001b[36m0:00:00\u001b[0m\n",
            "\u001b[?25hDownloading nvidia_nvjitlink_cu12-12.4.127-py3-none-manylinux2014_x86_64.whl (21.1 MB)\n",
            "\u001b[2K   \u001b[90m━━━━━━━━━━━━━━━━━━━━━━━━━━━━━━━━━━━━━━━━\u001b[0m \u001b[32m21.1/21.1 MB\u001b[0m \u001b[31m107.9 MB/s\u001b[0m eta \u001b[36m0:00:00\u001b[0m\n",
            "\u001b[?25hDownloading ultralytics_thop-2.0.14-py3-none-any.whl (26 kB)\n",
            "Downloading filetype-1.2.0-py2.py3-none-any.whl (19 kB)\n",
            "Downloading python_dotenv-1.1.1-py3-none-any.whl (20 kB)\n",
            "Installing collected packages: pillow-avif-plugin, filetype, python-dotenv, pillow-heif, opencv-python-headless, nvidia-nvjitlink-cu12, nvidia-curand-cu12, nvidia-cufft-cu12, nvidia-cuda-runtime-cu12, nvidia-cuda-nvrtc-cu12, nvidia-cuda-cupti-cu12, nvidia-cublas-cu12, idna, nvidia-cusparse-cu12, nvidia-cudnn-cu12, nvidia-cusolver-cu12, roboflow, ultralytics-thop, ultralytics\n",
            "  Attempting uninstall: opencv-python-headless\n",
            "    Found existing installation: opencv-python-headless 4.12.0.88\n",
            "    Uninstalling opencv-python-headless-4.12.0.88:\n",
            "      Successfully uninstalled opencv-python-headless-4.12.0.88\n",
            "  Attempting uninstall: nvidia-nvjitlink-cu12\n",
            "    Found existing installation: nvidia-nvjitlink-cu12 12.5.82\n",
            "    Uninstalling nvidia-nvjitlink-cu12-12.5.82:\n",
            "      Successfully uninstalled nvidia-nvjitlink-cu12-12.5.82\n",
            "  Attempting uninstall: nvidia-curand-cu12\n",
            "    Found existing installation: nvidia-curand-cu12 10.3.6.82\n",
            "    Uninstalling nvidia-curand-cu12-10.3.6.82:\n",
            "      Successfully uninstalled nvidia-curand-cu12-10.3.6.82\n",
            "  Attempting uninstall: nvidia-cufft-cu12\n",
            "    Found existing installation: nvidia-cufft-cu12 11.2.3.61\n",
            "    Uninstalling nvidia-cufft-cu12-11.2.3.61:\n",
            "      Successfully uninstalled nvidia-cufft-cu12-11.2.3.61\n",
            "  Attempting uninstall: nvidia-cuda-runtime-cu12\n",
            "    Found existing installation: nvidia-cuda-runtime-cu12 12.5.82\n",
            "    Uninstalling nvidia-cuda-runtime-cu12-12.5.82:\n",
            "      Successfully uninstalled nvidia-cuda-runtime-cu12-12.5.82\n",
            "  Attempting uninstall: nvidia-cuda-nvrtc-cu12\n",
            "    Found existing installation: nvidia-cuda-nvrtc-cu12 12.5.82\n",
            "    Uninstalling nvidia-cuda-nvrtc-cu12-12.5.82:\n",
            "      Successfully uninstalled nvidia-cuda-nvrtc-cu12-12.5.82\n",
            "  Attempting uninstall: nvidia-cuda-cupti-cu12\n",
            "    Found existing installation: nvidia-cuda-cupti-cu12 12.5.82\n",
            "    Uninstalling nvidia-cuda-cupti-cu12-12.5.82:\n",
            "      Successfully uninstalled nvidia-cuda-cupti-cu12-12.5.82\n",
            "  Attempting uninstall: nvidia-cublas-cu12\n",
            "    Found existing installation: nvidia-cublas-cu12 12.5.3.2\n",
            "    Uninstalling nvidia-cublas-cu12-12.5.3.2:\n",
            "      Successfully uninstalled nvidia-cublas-cu12-12.5.3.2\n",
            "  Attempting uninstall: idna\n",
            "    Found existing installation: idna 3.10\n",
            "    Uninstalling idna-3.10:\n",
            "      Successfully uninstalled idna-3.10\n",
            "  Attempting uninstall: nvidia-cusparse-cu12\n",
            "    Found existing installation: nvidia-cusparse-cu12 12.5.1.3\n",
            "    Uninstalling nvidia-cusparse-cu12-12.5.1.3:\n",
            "      Successfully uninstalled nvidia-cusparse-cu12-12.5.1.3\n",
            "  Attempting uninstall: nvidia-cudnn-cu12\n",
            "    Found existing installation: nvidia-cudnn-cu12 9.3.0.75\n",
            "    Uninstalling nvidia-cudnn-cu12-9.3.0.75:\n",
            "      Successfully uninstalled nvidia-cudnn-cu12-9.3.0.75\n",
            "  Attempting uninstall: nvidia-cusolver-cu12\n",
            "    Found existing installation: nvidia-cusolver-cu12 11.6.3.83\n",
            "    Uninstalling nvidia-cusolver-cu12-11.6.3.83:\n",
            "      Successfully uninstalled nvidia-cusolver-cu12-11.6.3.83\n",
            "Successfully installed filetype-1.2.0 idna-3.7 nvidia-cublas-cu12-12.4.5.8 nvidia-cuda-cupti-cu12-12.4.127 nvidia-cuda-nvrtc-cu12-12.4.127 nvidia-cuda-runtime-cu12-12.4.127 nvidia-cudnn-cu12-9.1.0.70 nvidia-cufft-cu12-11.2.1.3 nvidia-curand-cu12-10.3.5.147 nvidia-cusolver-cu12-11.6.1.9 nvidia-cusparse-cu12-12.3.1.170 nvidia-nvjitlink-cu12-12.4.127 opencv-python-headless-4.10.0.84 pillow-avif-plugin-1.5.2 pillow-heif-1.0.0 python-dotenv-1.1.1 roboflow-1.2.1 ultralytics-8.3.167 ultralytics-thop-2.0.14\n"
          ]
        }
      ],
      "source": [
        "!pip install ultralytics roboflow"
      ]
    },
    {
      "cell_type": "markdown",
      "metadata": {
        "id": "W3pLbFWB6fiz"
      },
      "source": [
        "Import Dataset"
      ]
    },
    {
      "cell_type": "code",
      "execution_count": null,
      "metadata": {
        "colab": {
          "base_uri": "https://localhost:8080/"
        },
        "id": "hn1MwrAI53rZ",
        "outputId": "65edf38e-69d4-40a6-c15b-9a63bfb0b18c"
      },
      "outputs": [
        {
          "output_type": "stream",
          "name": "stdout",
          "text": [
            "loading Roboflow workspace...\n",
            "loading Roboflow project...\n"
          ]
        },
        {
          "output_type": "stream",
          "name": "stderr",
          "text": [
            "Downloading Dataset Version Zip in basketball-1 to yolov8:: 100%|██████████| 9927/9927 [00:02<00:00, 4906.78it/s] "
          ]
        },
        {
          "output_type": "stream",
          "name": "stdout",
          "text": [
            "\n"
          ]
        },
        {
          "output_type": "stream",
          "name": "stderr",
          "text": [
            "\n",
            "Extracting Dataset Version Zip to basketball-1 in yolov8:: 100%|██████████| 806/806 [00:00<00:00, 5471.13it/s]\n"
          ]
        },
        {
          "output_type": "stream",
          "name": "stdout",
          "text": [
            "Creating new Ultralytics Settings v0.0.6 file ✅ \n",
            "View Ultralytics Settings with 'yolo settings' or at '/root/.config/Ultralytics/settings.json'\n",
            "Update Settings with 'yolo settings key=value', i.e. 'yolo settings runs_dir=path/to/dir'. For help see https://docs.ultralytics.com/quickstart/#ultralytics-settings.\n"
          ]
        }
      ],
      "source": [
        "from roboflow import Roboflow\n",
        "\n",
        "rf = Roboflow(api_key=\"kSbyldBcppeFTfZOiAQr\")\n",
        "project = rf.workspace(\"train-apozl\").project(\"basketball-ffnzz-ouegp\")\n",
        "version = project.version(1)\n",
        "dataset = version.download(\"yolov8\")\n"
      ]
    },
    {
      "cell_type": "markdown",
      "metadata": {
        "id": "nLWdfVbS6w1l"
      },
      "source": [
        "Import YOLO to import pretrained Model. We will use pretrained model for now, because of its ability to detect basketballs and hoops faster with less data"
      ]
    },
    {
      "cell_type": "code",
      "execution_count": null,
      "metadata": {
        "id": "tbMQIP7y6hFy"
      },
      "outputs": [],
      "source": [
        "from ultralytics import YOLO"
      ]
    },
    {
      "cell_type": "code",
      "execution_count": null,
      "metadata": {
        "colab": {
          "base_uri": "https://localhost:8080/"
        },
        "id": "hcmJS_516ubG",
        "outputId": "2a41c9d1-44fe-454a-9ecf-ed82689e25c9"
      },
      "outputs": [
        {
          "output_type": "stream",
          "name": "stdout",
          "text": [
            "Downloading https://github.com/ultralytics/assets/releases/download/v8.3.0/yolov8n.pt to 'yolov8n.pt'...\n"
          ]
        },
        {
          "output_type": "stream",
          "name": "stderr",
          "text": [
            "100%|██████████| 6.25M/6.25M [00:00<00:00, 291MB/s]\n"
          ]
        }
      ],
      "source": [
        "model = YOLO(\"yolov8n.pt\")"
      ]
    },
    {
      "cell_type": "code",
      "execution_count": null,
      "metadata": {
        "colab": {
          "base_uri": "https://localhost:8080/"
        },
        "id": "9H1zg4Q66wMg",
        "outputId": "b96b7761-501e-404f-c5dc-8ff8caa5459d"
      },
      "outputs": [
        {
          "output_type": "stream",
          "name": "stdout",
          "text": [
            "/content/basketball-1\n"
          ]
        }
      ],
      "source": [
        "print(dataset.location)"
      ]
    },
    {
      "cell_type": "code",
      "execution_count": null,
      "metadata": {
        "colab": {
          "base_uri": "https://localhost:8080/"
        },
        "id": "Vm6BNMYG7DnZ",
        "outputId": "ce513671-07d5-4753-cf45-79c44a428220"
      },
      "outputs": [
        {
          "output_type": "stream",
          "name": "stdout",
          "text": [
            "data.yaml  README.dataset.txt  README.roboflow.txt  train\n"
          ]
        }
      ],
      "source": [
        "!ls /content/basketball-1"
      ]
    },
    {
      "cell_type": "code",
      "execution_count": null,
      "metadata": {
        "id": "eVga9CIZ7wNE"
      },
      "outputs": [],
      "source": [
        "import os, shutil\n",
        "from sklearn.model_selection import train_test_split\n",
        "\n",
        "# Paths\n",
        "base_path = \"/content/basketball-1\"\n",
        "train_images = os.path.join(base_path, \"train\", \"images\")\n",
        "train_labels = os.path.join(base_path, \"train\", \"labels\")\n",
        "\n",
        "# Get all image files\n",
        "images = os.listdir(train_images)\n",
        "train_files, val_files = train_test_split(images, test_size=0.2, random_state=42)\n",
        "\n",
        "# Create new valid/ folders\n",
        "os.makedirs(os.path.join(base_path, \"valid\", \"images\"), exist_ok=True)\n",
        "os.makedirs(os.path.join(base_path, \"valid\", \"labels\"), exist_ok=True)\n",
        "\n",
        "# Move 20% of data into valid/\n",
        "for file in val_files:\n",
        "    shutil.move(os.path.join(train_images, file), os.path.join(base_path, \"valid\", \"images\", file))\n",
        "    label_file = file.replace(\".jpg\", \".txt\").replace(\".png\", \".txt\")\n",
        "    shutil.move(os.path.join(train_labels, label_file), os.path.join(base_path, \"valid\", \"labels\", label_file))\n"
      ]
    },
    {
      "cell_type": "code",
      "execution_count": null,
      "metadata": {
        "colab": {
          "base_uri": "https://localhost:8080/"
        },
        "id": "1oCsfYiF8S4l",
        "outputId": "556acbcd-9fb2-4d79-ae94-7e8fe040df8e"
      },
      "outputs": [
        {
          "output_type": "stream",
          "name": "stdout",
          "text": [
            "Ultralytics 8.3.167 🚀 Python-3.11.13 torch-2.6.0+cu124 CUDA:0 (Tesla T4, 15095MiB)\n",
            "\u001b[34m\u001b[1mengine/trainer: \u001b[0magnostic_nms=False, amp=True, augment=False, auto_augment=randaugment, batch=16, bgr=0.0, box=7.5, cache=False, cfg=None, classes=None, close_mosaic=10, cls=0.5, conf=None, copy_paste=0.0, copy_paste_mode=flip, cos_lr=False, cutmix=0.0, data=/content/basketball-1/data.yaml, degrees=0.0, deterministic=True, device=None, dfl=1.5, dnn=False, dropout=0.0, dynamic=False, embed=None, epochs=50, erasing=0.4, exist_ok=False, fliplr=0.5, flipud=0.0, format=torchscript, fraction=1.0, freeze=None, half=False, hsv_h=0.015, hsv_s=0.7, hsv_v=0.4, imgsz=640, int8=False, iou=0.7, keras=False, kobj=1.0, line_width=None, lr0=0.01, lrf=0.01, mask_ratio=4, max_det=300, mixup=0.0, mode=train, model=yolov8n.pt, momentum=0.937, mosaic=1.0, multi_scale=False, name=train, nbs=64, nms=False, opset=None, optimize=False, optimizer=auto, overlap_mask=True, patience=100, perspective=0.0, plots=True, pose=12.0, pretrained=True, profile=False, project=None, rect=False, resume=False, retina_masks=False, save=True, save_conf=False, save_crop=False, save_dir=runs/detect/train, save_frames=False, save_json=False, save_period=-1, save_txt=False, scale=0.5, seed=0, shear=0.0, show=False, show_boxes=True, show_conf=True, show_labels=True, simplify=True, single_cls=False, source=None, split=val, stream_buffer=False, task=detect, time=None, tracker=botsort.yaml, translate=0.1, val=True, verbose=True, vid_stride=1, visualize=False, warmup_bias_lr=0.1, warmup_epochs=3.0, warmup_momentum=0.8, weight_decay=0.0005, workers=8, workspace=None\n",
            "Downloading https://ultralytics.com/assets/Arial.ttf to '/root/.config/Ultralytics/Arial.ttf'...\n"
          ]
        },
        {
          "output_type": "stream",
          "name": "stderr",
          "text": [
            "100%|██████████| 755k/755k [00:00<00:00, 124MB/s]"
          ]
        },
        {
          "output_type": "stream",
          "name": "stdout",
          "text": [
            "Overriding model.yaml nc=80 with nc=1\n",
            "\n",
            "                   from  n    params  module                                       arguments                     \n",
            "  0                  -1  1       464  ultralytics.nn.modules.conv.Conv             [3, 16, 3, 2]                 \n",
            "  1                  -1  1      4672  ultralytics.nn.modules.conv.Conv             [16, 32, 3, 2]                \n",
            "  2                  -1  1      7360  ultralytics.nn.modules.block.C2f             [32, 32, 1, True]             \n",
            "  3                  -1  1     18560  ultralytics.nn.modules.conv.Conv             [32, 64, 3, 2]                \n",
            "  4                  -1  2     49664  ultralytics.nn.modules.block.C2f             [64, 64, 2, True]             \n",
            "  5                  -1  1     73984  ultralytics.nn.modules.conv.Conv             [64, 128, 3, 2]               \n",
            "  6                  -1  2    197632  ultralytics.nn.modules.block.C2f             [128, 128, 2, True]           \n",
            "  7                  -1  1    295424  ultralytics.nn.modules.conv.Conv             [128, 256, 3, 2]              \n",
            "  8                  -1  1    460288  ultralytics.nn.modules.block.C2f             [256, 256, 1, True]           \n",
            "  9                  -1  1    164608  ultralytics.nn.modules.block.SPPF            [256, 256, 5]                 \n",
            " 10                  -1  1         0  torch.nn.modules.upsampling.Upsample         [None, 2, 'nearest']          \n",
            " 11             [-1, 6]  1         0  ultralytics.nn.modules.conv.Concat           [1]                           \n",
            " 12                  -1  1    148224  ultralytics.nn.modules.block.C2f             [384, 128, 1]                 \n",
            " 13                  -1  1         0  torch.nn.modules.upsampling.Upsample         [None, 2, 'nearest']          \n",
            " 14             [-1, 4]  1         0  ultralytics.nn.modules.conv.Concat           [1]                           \n",
            " 15                  -1  1     37248  ultralytics.nn.modules.block.C2f             [192, 64, 1]                  \n",
            " 16                  -1  1     36992  ultralytics.nn.modules.conv.Conv             [64, 64, 3, 2]                \n",
            " 17            [-1, 12]  1         0  ultralytics.nn.modules.conv.Concat           [1]                           \n",
            " 18                  -1  1    123648  ultralytics.nn.modules.block.C2f             [192, 128, 1]                 \n",
            " 19                  -1  1    147712  ultralytics.nn.modules.conv.Conv             [128, 128, 3, 2]              \n",
            " 20             [-1, 9]  1         0  ultralytics.nn.modules.conv.Concat           [1]                           \n",
            " 21                  -1  1    493056  ultralytics.nn.modules.block.C2f             [384, 256, 1]                 \n"
          ]
        },
        {
          "output_type": "stream",
          "name": "stderr",
          "text": [
            "\n"
          ]
        },
        {
          "output_type": "stream",
          "name": "stdout",
          "text": [
            " 22        [15, 18, 21]  1    751507  ultralytics.nn.modules.head.Detect           [1, [64, 128, 256]]           \n",
            "Model summary: 129 layers, 3,011,043 parameters, 3,011,027 gradients, 8.2 GFLOPs\n",
            "\n",
            "Transferred 319/355 items from pretrained weights\n",
            "Freezing layer 'model.22.dfl.conv.weight'\n",
            "\u001b[34m\u001b[1mAMP: \u001b[0mrunning Automatic Mixed Precision (AMP) checks...\n",
            "Downloading https://github.com/ultralytics/assets/releases/download/v8.3.0/yolo11n.pt to 'yolo11n.pt'...\n"
          ]
        },
        {
          "output_type": "stream",
          "name": "stderr",
          "text": [
            "100%|██████████| 5.35M/5.35M [00:00<00:00, 170MB/s]\n"
          ]
        },
        {
          "output_type": "stream",
          "name": "stdout",
          "text": [
            "\u001b[34m\u001b[1mAMP: \u001b[0mchecks passed ✅\n",
            "\u001b[34m\u001b[1mtrain: \u001b[0mFast image access ✅ (ping: 0.0±0.0 ms, read: 771.8±291.3 MB/s, size: 21.9 KB)\n"
          ]
        },
        {
          "output_type": "stream",
          "name": "stderr",
          "text": [
            "\u001b[34m\u001b[1mtrain: \u001b[0mScanning /content/basketball-1/train/labels... 320 images, 0 backgrounds, 0 corrupt: 100%|██████████| 320/320 [00:00<00:00, 2242.61it/s]"
          ]
        },
        {
          "output_type": "stream",
          "name": "stdout",
          "text": [
            "\u001b[34m\u001b[1mtrain: \u001b[0mNew cache created: /content/basketball-1/train/labels.cache\n",
            "WARNING ⚠️ Box and segment counts should be equal, but got len(segments) = 5, len(boxes) = 348. To resolve this only boxes will be used and all segments will be removed. To avoid this please supply either a detect or segment dataset, not a detect-segment mixed dataset.\n"
          ]
        },
        {
          "output_type": "stream",
          "name": "stderr",
          "text": [
            "\n"
          ]
        },
        {
          "output_type": "stream",
          "name": "stdout",
          "text": [
            "\u001b[34m\u001b[1malbumentations: \u001b[0mBlur(p=0.01, blur_limit=(3, 7)), MedianBlur(p=0.01, blur_limit=(3, 7)), ToGray(p=0.01, method='weighted_average', num_output_channels=3), CLAHE(p=0.01, clip_limit=(1.0, 4.0), tile_grid_size=(8, 8))\n",
            "\u001b[34m\u001b[1mval: \u001b[0mFast image access ✅ (ping: 0.0±0.0 ms, read: 538.5±359.0 MB/s, size: 24.2 KB)\n"
          ]
        },
        {
          "output_type": "stream",
          "name": "stderr",
          "text": [
            "\u001b[34m\u001b[1mval: \u001b[0mScanning /content/basketball-1/valid/labels... 80 images, 0 backgrounds, 0 corrupt: 100%|██████████| 80/80 [00:00<00:00, 2257.14it/s]"
          ]
        },
        {
          "output_type": "stream",
          "name": "stdout",
          "text": [
            "\u001b[34m\u001b[1mval: \u001b[0mNew cache created: /content/basketball-1/valid/labels.cache\n",
            "WARNING ⚠️ Box and segment counts should be equal, but got len(segments) = 1, len(boxes) = 86. To resolve this only boxes will be used and all segments will be removed. To avoid this please supply either a detect or segment dataset, not a detect-segment mixed dataset.\n"
          ]
        },
        {
          "output_type": "stream",
          "name": "stderr",
          "text": [
            "\n"
          ]
        },
        {
          "output_type": "stream",
          "name": "stdout",
          "text": [
            "Plotting labels to runs/detect/train/labels.jpg... \n",
            "\u001b[34m\u001b[1moptimizer:\u001b[0m 'optimizer=auto' found, ignoring 'lr0=0.01' and 'momentum=0.937' and determining best 'optimizer', 'lr0' and 'momentum' automatically... \n",
            "\u001b[34m\u001b[1moptimizer:\u001b[0m AdamW(lr=0.002, momentum=0.9) with parameter groups 57 weight(decay=0.0), 64 weight(decay=0.0005), 63 bias(decay=0.0)\n",
            "Image sizes 640 train, 640 val\n",
            "Using 2 dataloader workers\n",
            "Logging results to \u001b[1mruns/detect/train\u001b[0m\n",
            "Starting training for 50 epochs...\n",
            "\n",
            "      Epoch    GPU_mem   box_loss   cls_loss   dfl_loss  Instances       Size\n"
          ]
        },
        {
          "output_type": "stream",
          "name": "stderr",
          "text": [
            "       1/50      2.02G      1.106      2.923      1.289         30        640: 100%|██████████| 20/20 [00:07<00:00,  2.84it/s]\n",
            "                 Class     Images  Instances      Box(P          R      mAP50  mAP50-95): 100%|██████████| 3/3 [00:01<00:00,  1.51it/s]"
          ]
        },
        {
          "output_type": "stream",
          "name": "stdout",
          "text": [
            "                   all         80         86    0.00329      0.919      0.213      0.145\n"
          ]
        },
        {
          "output_type": "stream",
          "name": "stderr",
          "text": [
            "\n"
          ]
        },
        {
          "output_type": "stream",
          "name": "stdout",
          "text": [
            "\n",
            "      Epoch    GPU_mem   box_loss   cls_loss   dfl_loss  Instances       Size\n"
          ]
        },
        {
          "output_type": "stream",
          "name": "stderr",
          "text": [
            "       2/50       2.5G      1.144      2.038      1.262         34        640: 100%|██████████| 20/20 [00:05<00:00,  3.40it/s]\n",
            "                 Class     Images  Instances      Box(P          R      mAP50  mAP50-95): 100%|██████████| 3/3 [00:00<00:00,  3.01it/s]"
          ]
        },
        {
          "output_type": "stream",
          "name": "stdout",
          "text": [
            "                   all         80         86          1     0.0396       0.38      0.226\n"
          ]
        },
        {
          "output_type": "stream",
          "name": "stderr",
          "text": [
            "\n"
          ]
        },
        {
          "output_type": "stream",
          "name": "stdout",
          "text": [
            "\n",
            "      Epoch    GPU_mem   box_loss   cls_loss   dfl_loss  Instances       Size\n"
          ]
        },
        {
          "output_type": "stream",
          "name": "stderr",
          "text": [
            "       3/50      2.52G      1.206      1.969      1.269         25        640: 100%|██████████| 20/20 [00:04<00:00,  4.32it/s]\n",
            "                 Class     Images  Instances      Box(P          R      mAP50  mAP50-95): 100%|██████████| 3/3 [00:01<00:00,  2.70it/s]"
          ]
        },
        {
          "output_type": "stream",
          "name": "stdout",
          "text": [
            "                   all         80         86      0.541      0.291      0.298      0.196\n"
          ]
        },
        {
          "output_type": "stream",
          "name": "stderr",
          "text": [
            "\n"
          ]
        },
        {
          "output_type": "stream",
          "name": "stdout",
          "text": [
            "\n",
            "      Epoch    GPU_mem   box_loss   cls_loss   dfl_loss  Instances       Size\n"
          ]
        },
        {
          "output_type": "stream",
          "name": "stderr",
          "text": [
            "       4/50      2.54G       1.23      1.863      1.297         30        640: 100%|██████████| 20/20 [00:06<00:00,  3.27it/s]\n",
            "                 Class     Images  Instances      Box(P          R      mAP50  mAP50-95): 100%|██████████| 3/3 [00:00<00:00,  3.42it/s]"
          ]
        },
        {
          "output_type": "stream",
          "name": "stdout",
          "text": [
            "                   all         80         86      0.427      0.267      0.297      0.179\n"
          ]
        },
        {
          "output_type": "stream",
          "name": "stderr",
          "text": [
            "\n"
          ]
        },
        {
          "output_type": "stream",
          "name": "stdout",
          "text": [
            "\n",
            "      Epoch    GPU_mem   box_loss   cls_loss   dfl_loss  Instances       Size\n"
          ]
        },
        {
          "output_type": "stream",
          "name": "stderr",
          "text": [
            "       5/50      2.55G      1.261      1.867      1.304         25        640: 100%|██████████| 20/20 [00:04<00:00,  4.28it/s]\n",
            "                 Class     Images  Instances      Box(P          R      mAP50  mAP50-95): 100%|██████████| 3/3 [00:00<00:00,  3.46it/s]"
          ]
        },
        {
          "output_type": "stream",
          "name": "stdout",
          "text": [
            "                   all         80         86      0.335      0.267      0.217      0.141\n"
          ]
        },
        {
          "output_type": "stream",
          "name": "stderr",
          "text": [
            "\n"
          ]
        },
        {
          "output_type": "stream",
          "name": "stdout",
          "text": [
            "\n",
            "      Epoch    GPU_mem   box_loss   cls_loss   dfl_loss  Instances       Size\n"
          ]
        },
        {
          "output_type": "stream",
          "name": "stderr",
          "text": [
            "       6/50      2.57G       1.16      1.593      1.256         26        640: 100%|██████████| 20/20 [00:05<00:00,  3.49it/s]\n",
            "                 Class     Images  Instances      Box(P          R      mAP50  mAP50-95): 100%|██████████| 3/3 [00:01<00:00,  2.95it/s]"
          ]
        },
        {
          "output_type": "stream",
          "name": "stdout",
          "text": [
            "                   all         80         86      0.359      0.416      0.285      0.147\n"
          ]
        },
        {
          "output_type": "stream",
          "name": "stderr",
          "text": [
            "\n"
          ]
        },
        {
          "output_type": "stream",
          "name": "stdout",
          "text": [
            "\n",
            "      Epoch    GPU_mem   box_loss   cls_loss   dfl_loss  Instances       Size\n"
          ]
        },
        {
          "output_type": "stream",
          "name": "stderr",
          "text": [
            "       7/50      2.59G      1.206      1.547      1.259         27        640: 100%|██████████| 20/20 [00:04<00:00,  4.28it/s]\n",
            "                 Class     Images  Instances      Box(P          R      mAP50  mAP50-95): 100%|██████████| 3/3 [00:00<00:00,  3.32it/s]"
          ]
        },
        {
          "output_type": "stream",
          "name": "stdout",
          "text": [
            "                   all         80         86      0.459      0.395      0.374      0.203\n"
          ]
        },
        {
          "output_type": "stream",
          "name": "stderr",
          "text": [
            "\n"
          ]
        },
        {
          "output_type": "stream",
          "name": "stdout",
          "text": [
            "\n",
            "      Epoch    GPU_mem   box_loss   cls_loss   dfl_loss  Instances       Size\n"
          ]
        },
        {
          "output_type": "stream",
          "name": "stderr",
          "text": [
            "       8/50       2.6G      1.174      1.501      1.254         20        640: 100%|██████████| 20/20 [00:06<00:00,  3.25it/s]\n",
            "                 Class     Images  Instances      Box(P          R      mAP50  mAP50-95): 100%|██████████| 3/3 [00:01<00:00,  2.20it/s]"
          ]
        },
        {
          "output_type": "stream",
          "name": "stdout",
          "text": [
            "                   all         80         86      0.747      0.548      0.598      0.367\n"
          ]
        },
        {
          "output_type": "stream",
          "name": "stderr",
          "text": [
            "\n"
          ]
        },
        {
          "output_type": "stream",
          "name": "stdout",
          "text": [
            "\n",
            "      Epoch    GPU_mem   box_loss   cls_loss   dfl_loss  Instances       Size\n"
          ]
        },
        {
          "output_type": "stream",
          "name": "stderr",
          "text": [
            "       9/50      2.62G      1.251       1.46      1.264         31        640: 100%|██████████| 20/20 [00:04<00:00,  4.21it/s]\n",
            "                 Class     Images  Instances      Box(P          R      mAP50  mAP50-95): 100%|██████████| 3/3 [00:00<00:00,  3.66it/s]"
          ]
        },
        {
          "output_type": "stream",
          "name": "stdout",
          "text": [
            "                   all         80         86      0.534      0.547       0.53      0.355\n"
          ]
        },
        {
          "output_type": "stream",
          "name": "stderr",
          "text": [
            "\n"
          ]
        },
        {
          "output_type": "stream",
          "name": "stdout",
          "text": [
            "\n",
            "      Epoch    GPU_mem   box_loss   cls_loss   dfl_loss  Instances       Size\n"
          ]
        },
        {
          "output_type": "stream",
          "name": "stderr",
          "text": [
            "      10/50      2.64G      1.125       1.33      1.183         24        640: 100%|██████████| 20/20 [00:05<00:00,  3.41it/s]\n",
            "                 Class     Images  Instances      Box(P          R      mAP50  mAP50-95): 100%|██████████| 3/3 [00:00<00:00,  4.03it/s]"
          ]
        },
        {
          "output_type": "stream",
          "name": "stdout",
          "text": [
            "                   all         80         86      0.814      0.611      0.707      0.431\n"
          ]
        },
        {
          "output_type": "stream",
          "name": "stderr",
          "text": [
            "\n"
          ]
        },
        {
          "output_type": "stream",
          "name": "stdout",
          "text": [
            "\n",
            "      Epoch    GPU_mem   box_loss   cls_loss   dfl_loss  Instances       Size\n"
          ]
        },
        {
          "output_type": "stream",
          "name": "stderr",
          "text": [
            "      11/50      2.65G      1.126      1.276      1.226         32        640: 100%|██████████| 20/20 [00:04<00:00,  4.26it/s]\n",
            "                 Class     Images  Instances      Box(P          R      mAP50  mAP50-95): 100%|██████████| 3/3 [00:00<00:00,  3.27it/s]"
          ]
        },
        {
          "output_type": "stream",
          "name": "stdout",
          "text": [
            "                   all         80         86      0.711      0.756      0.762      0.518\n"
          ]
        },
        {
          "output_type": "stream",
          "name": "stderr",
          "text": [
            "\n"
          ]
        },
        {
          "output_type": "stream",
          "name": "stdout",
          "text": [
            "\n",
            "      Epoch    GPU_mem   box_loss   cls_loss   dfl_loss  Instances       Size\n"
          ]
        },
        {
          "output_type": "stream",
          "name": "stderr",
          "text": [
            "      12/50      2.67G      1.065      1.173      1.182         28        640: 100%|██████████| 20/20 [00:05<00:00,  3.49it/s]\n",
            "                 Class     Images  Instances      Box(P          R      mAP50  mAP50-95): 100%|██████████| 3/3 [00:00<00:00,  3.45it/s]"
          ]
        },
        {
          "output_type": "stream",
          "name": "stdout",
          "text": [
            "                   all         80         86      0.787      0.688      0.765      0.507\n"
          ]
        },
        {
          "output_type": "stream",
          "name": "stderr",
          "text": [
            "\n"
          ]
        },
        {
          "output_type": "stream",
          "name": "stdout",
          "text": [
            "\n",
            "      Epoch    GPU_mem   box_loss   cls_loss   dfl_loss  Instances       Size\n"
          ]
        },
        {
          "output_type": "stream",
          "name": "stderr",
          "text": [
            "      13/50      2.69G      1.149      1.192      1.185         32        640: 100%|██████████| 20/20 [00:04<00:00,  4.12it/s]\n",
            "                 Class     Images  Instances      Box(P          R      mAP50  mAP50-95): 100%|██████████| 3/3 [00:00<00:00,  3.89it/s]"
          ]
        },
        {
          "output_type": "stream",
          "name": "stdout",
          "text": [
            "                   all         80         86      0.812      0.721      0.783      0.501\n"
          ]
        },
        {
          "output_type": "stream",
          "name": "stderr",
          "text": [
            "\n"
          ]
        },
        {
          "output_type": "stream",
          "name": "stdout",
          "text": [
            "\n",
            "      Epoch    GPU_mem   box_loss   cls_loss   dfl_loss  Instances       Size\n"
          ]
        },
        {
          "output_type": "stream",
          "name": "stderr",
          "text": [
            "      14/50      2.71G      1.096      1.139      1.205         24        640: 100%|██████████| 20/20 [00:05<00:00,  3.43it/s]\n",
            "                 Class     Images  Instances      Box(P          R      mAP50  mAP50-95): 100%|██████████| 3/3 [00:00<00:00,  3.13it/s]"
          ]
        },
        {
          "output_type": "stream",
          "name": "stdout",
          "text": [
            "                   all         80         86      0.842      0.621      0.738      0.456\n"
          ]
        },
        {
          "output_type": "stream",
          "name": "stderr",
          "text": [
            "\n"
          ]
        },
        {
          "output_type": "stream",
          "name": "stdout",
          "text": [
            "\n",
            "      Epoch    GPU_mem   box_loss   cls_loss   dfl_loss  Instances       Size\n"
          ]
        },
        {
          "output_type": "stream",
          "name": "stderr",
          "text": [
            "      15/50      2.72G      1.079      1.038      1.189         23        640: 100%|██████████| 20/20 [00:04<00:00,  4.27it/s]\n",
            "                 Class     Images  Instances      Box(P          R      mAP50  mAP50-95): 100%|██████████| 3/3 [00:00<00:00,  4.05it/s]"
          ]
        },
        {
          "output_type": "stream",
          "name": "stdout",
          "text": [
            "                   all         80         86      0.843      0.674      0.814      0.478\n"
          ]
        },
        {
          "output_type": "stream",
          "name": "stderr",
          "text": [
            "\n"
          ]
        },
        {
          "output_type": "stream",
          "name": "stdout",
          "text": [
            "\n",
            "      Epoch    GPU_mem   box_loss   cls_loss   dfl_loss  Instances       Size\n"
          ]
        },
        {
          "output_type": "stream",
          "name": "stderr",
          "text": [
            "      16/50      2.74G      1.056       1.02      1.193         33        640: 100%|██████████| 20/20 [00:05<00:00,  3.41it/s]\n",
            "                 Class     Images  Instances      Box(P          R      mAP50  mAP50-95): 100%|██████████| 3/3 [00:00<00:00,  3.75it/s]"
          ]
        },
        {
          "output_type": "stream",
          "name": "stdout",
          "text": [
            "                   all         80         86      0.821      0.799      0.819      0.489\n"
          ]
        },
        {
          "output_type": "stream",
          "name": "stderr",
          "text": [
            "\n"
          ]
        },
        {
          "output_type": "stream",
          "name": "stdout",
          "text": [
            "\n",
            "      Epoch    GPU_mem   box_loss   cls_loss   dfl_loss  Instances       Size\n"
          ]
        },
        {
          "output_type": "stream",
          "name": "stderr",
          "text": [
            "      17/50      2.76G      1.049     0.9885       1.15         29        640: 100%|██████████| 20/20 [00:04<00:00,  4.32it/s]\n",
            "                 Class     Images  Instances      Box(P          R      mAP50  mAP50-95): 100%|██████████| 3/3 [00:00<00:00,  3.77it/s]"
          ]
        },
        {
          "output_type": "stream",
          "name": "stdout",
          "text": [
            "                   all         80         86      0.875      0.812      0.886      0.595\n"
          ]
        },
        {
          "output_type": "stream",
          "name": "stderr",
          "text": [
            "\n"
          ]
        },
        {
          "output_type": "stream",
          "name": "stdout",
          "text": [
            "\n",
            "      Epoch    GPU_mem   box_loss   cls_loss   dfl_loss  Instances       Size\n"
          ]
        },
        {
          "output_type": "stream",
          "name": "stderr",
          "text": [
            "      18/50      2.78G     0.9982     0.9475       1.13         30        640: 100%|██████████| 20/20 [00:05<00:00,  3.52it/s]\n",
            "                 Class     Images  Instances      Box(P          R      mAP50  mAP50-95): 100%|██████████| 3/3 [00:00<00:00,  3.27it/s]\n"
          ]
        },
        {
          "output_type": "stream",
          "name": "stdout",
          "text": [
            "                   all         80         86      0.858      0.701      0.831      0.586\n",
            "\n",
            "      Epoch    GPU_mem   box_loss   cls_loss   dfl_loss  Instances       Size\n"
          ]
        },
        {
          "output_type": "stream",
          "name": "stderr",
          "text": [
            "      19/50      2.79G       1.08     0.9639      1.158         29        640: 100%|██████████| 20/20 [00:04<00:00,  4.49it/s]\n",
            "                 Class     Images  Instances      Box(P          R      mAP50  mAP50-95): 100%|██████████| 3/3 [00:00<00:00,  3.14it/s]"
          ]
        },
        {
          "output_type": "stream",
          "name": "stdout",
          "text": [
            "                   all         80         86       0.86      0.767       0.86      0.596\n"
          ]
        },
        {
          "output_type": "stream",
          "name": "stderr",
          "text": [
            "\n"
          ]
        },
        {
          "output_type": "stream",
          "name": "stdout",
          "text": [
            "\n",
            "      Epoch    GPU_mem   box_loss   cls_loss   dfl_loss  Instances       Size\n"
          ]
        },
        {
          "output_type": "stream",
          "name": "stderr",
          "text": [
            "      20/50      2.81G      1.054      0.954      1.153         36        640: 100%|██████████| 20/20 [00:05<00:00,  3.45it/s]\n",
            "                 Class     Images  Instances      Box(P          R      mAP50  mAP50-95): 100%|██████████| 3/3 [00:00<00:00,  3.44it/s]"
          ]
        },
        {
          "output_type": "stream",
          "name": "stdout",
          "text": [
            "                   all         80         86      0.898      0.802      0.869      0.608\n"
          ]
        },
        {
          "output_type": "stream",
          "name": "stderr",
          "text": [
            "\n"
          ]
        },
        {
          "output_type": "stream",
          "name": "stdout",
          "text": [
            "\n",
            "      Epoch    GPU_mem   box_loss   cls_loss   dfl_loss  Instances       Size\n"
          ]
        },
        {
          "output_type": "stream",
          "name": "stderr",
          "text": [
            "      21/50      2.83G     0.9816     0.8433      1.122         28        640: 100%|██████████| 20/20 [00:04<00:00,  4.33it/s]\n",
            "                 Class     Images  Instances      Box(P          R      mAP50  mAP50-95): 100%|██████████| 3/3 [00:00<00:00,  3.30it/s]"
          ]
        },
        {
          "output_type": "stream",
          "name": "stdout",
          "text": [
            "                   all         80         86       0.87      0.859      0.912      0.626\n"
          ]
        },
        {
          "output_type": "stream",
          "name": "stderr",
          "text": [
            "\n"
          ]
        },
        {
          "output_type": "stream",
          "name": "stdout",
          "text": [
            "\n",
            "      Epoch    GPU_mem   box_loss   cls_loss   dfl_loss  Instances       Size\n"
          ]
        },
        {
          "output_type": "stream",
          "name": "stderr",
          "text": [
            "      22/50      2.84G     0.9743     0.8416      1.099         39        640: 100%|██████████| 20/20 [00:05<00:00,  3.44it/s]\n",
            "                 Class     Images  Instances      Box(P          R      mAP50  mAP50-95): 100%|██████████| 3/3 [00:00<00:00,  3.02it/s]"
          ]
        },
        {
          "output_type": "stream",
          "name": "stdout",
          "text": [
            "                   all         80         86      0.902      0.826        0.9      0.609\n"
          ]
        },
        {
          "output_type": "stream",
          "name": "stderr",
          "text": [
            "\n"
          ]
        },
        {
          "output_type": "stream",
          "name": "stdout",
          "text": [
            "\n",
            "      Epoch    GPU_mem   box_loss   cls_loss   dfl_loss  Instances       Size\n"
          ]
        },
        {
          "output_type": "stream",
          "name": "stderr",
          "text": [
            "      23/50      2.86G     0.9749     0.8427       1.12         26        640: 100%|██████████| 20/20 [00:04<00:00,  4.39it/s]\n",
            "                 Class     Images  Instances      Box(P          R      mAP50  mAP50-95): 100%|██████████| 3/3 [00:00<00:00,  3.29it/s]"
          ]
        },
        {
          "output_type": "stream",
          "name": "stdout",
          "text": [
            "                   all         80         86      0.919      0.788      0.887      0.609\n"
          ]
        },
        {
          "output_type": "stream",
          "name": "stderr",
          "text": [
            "\n"
          ]
        },
        {
          "output_type": "stream",
          "name": "stdout",
          "text": [
            "\n",
            "      Epoch    GPU_mem   box_loss   cls_loss   dfl_loss  Instances       Size\n"
          ]
        },
        {
          "output_type": "stream",
          "name": "stderr",
          "text": [
            "      24/50      2.88G     0.9326     0.8182      1.095         30        640: 100%|██████████| 20/20 [00:06<00:00,  3.31it/s]\n",
            "                 Class     Images  Instances      Box(P          R      mAP50  mAP50-95): 100%|██████████| 3/3 [00:00<00:00,  3.38it/s]"
          ]
        },
        {
          "output_type": "stream",
          "name": "stdout",
          "text": [
            "                   all         80         86       0.86      0.786      0.879      0.611\n"
          ]
        },
        {
          "output_type": "stream",
          "name": "stderr",
          "text": [
            "\n"
          ]
        },
        {
          "output_type": "stream",
          "name": "stdout",
          "text": [
            "\n",
            "      Epoch    GPU_mem   box_loss   cls_loss   dfl_loss  Instances       Size\n"
          ]
        },
        {
          "output_type": "stream",
          "name": "stderr",
          "text": [
            "      25/50      2.89G     0.9475     0.8213      1.116         40        640: 100%|██████████| 20/20 [00:04<00:00,  4.23it/s]\n",
            "                 Class     Images  Instances      Box(P          R      mAP50  mAP50-95): 100%|██████████| 3/3 [00:00<00:00,  3.46it/s]"
          ]
        },
        {
          "output_type": "stream",
          "name": "stdout",
          "text": [
            "                   all         80         86      0.911      0.832      0.902      0.649\n"
          ]
        },
        {
          "output_type": "stream",
          "name": "stderr",
          "text": [
            "\n"
          ]
        },
        {
          "output_type": "stream",
          "name": "stdout",
          "text": [
            "\n",
            "      Epoch    GPU_mem   box_loss   cls_loss   dfl_loss  Instances       Size\n"
          ]
        },
        {
          "output_type": "stream",
          "name": "stderr",
          "text": [
            "      26/50      2.91G     0.9257      0.802      1.112         26        640: 100%|██████████| 20/20 [00:05<00:00,  3.50it/s]\n",
            "                 Class     Images  Instances      Box(P          R      mAP50  mAP50-95): 100%|██████████| 3/3 [00:00<00:00,  3.41it/s]"
          ]
        },
        {
          "output_type": "stream",
          "name": "stdout",
          "text": [
            "                   all         80         86      0.906      0.826      0.908      0.649\n"
          ]
        },
        {
          "output_type": "stream",
          "name": "stderr",
          "text": [
            "\n"
          ]
        },
        {
          "output_type": "stream",
          "name": "stdout",
          "text": [
            "\n",
            "      Epoch    GPU_mem   box_loss   cls_loss   dfl_loss  Instances       Size\n"
          ]
        },
        {
          "output_type": "stream",
          "name": "stderr",
          "text": [
            "      27/50      2.93G     0.8825     0.7315      1.075         25        640: 100%|██████████| 20/20 [00:04<00:00,  4.13it/s]\n",
            "                 Class     Images  Instances      Box(P          R      mAP50  mAP50-95): 100%|██████████| 3/3 [00:00<00:00,  4.02it/s]"
          ]
        },
        {
          "output_type": "stream",
          "name": "stdout",
          "text": [
            "                   all         80         86      0.884      0.887      0.912      0.628\n"
          ]
        },
        {
          "output_type": "stream",
          "name": "stderr",
          "text": [
            "\n"
          ]
        },
        {
          "output_type": "stream",
          "name": "stdout",
          "text": [
            "\n",
            "      Epoch    GPU_mem   box_loss   cls_loss   dfl_loss  Instances       Size\n"
          ]
        },
        {
          "output_type": "stream",
          "name": "stderr",
          "text": [
            "      28/50      2.94G     0.9236      0.774      1.083         28        640: 100%|██████████| 20/20 [00:05<00:00,  3.50it/s]\n",
            "                 Class     Images  Instances      Box(P          R      mAP50  mAP50-95): 100%|██████████| 3/3 [00:00<00:00,  3.73it/s]"
          ]
        },
        {
          "output_type": "stream",
          "name": "stdout",
          "text": [
            "                   all         80         86      0.912       0.86      0.904      0.638\n"
          ]
        },
        {
          "output_type": "stream",
          "name": "stderr",
          "text": [
            "\n"
          ]
        },
        {
          "output_type": "stream",
          "name": "stdout",
          "text": [
            "\n",
            "      Epoch    GPU_mem   box_loss   cls_loss   dfl_loss  Instances       Size\n"
          ]
        },
        {
          "output_type": "stream",
          "name": "stderr",
          "text": [
            "      29/50      2.96G     0.8699     0.7625      1.053         24        640: 100%|██████████| 20/20 [00:04<00:00,  4.33it/s]\n",
            "                 Class     Images  Instances      Box(P          R      mAP50  mAP50-95): 100%|██████████| 3/3 [00:00<00:00,  3.42it/s]"
          ]
        },
        {
          "output_type": "stream",
          "name": "stdout",
          "text": [
            "                   all         80         86       0.91      0.872      0.919      0.652\n"
          ]
        },
        {
          "output_type": "stream",
          "name": "stderr",
          "text": [
            "\n"
          ]
        },
        {
          "output_type": "stream",
          "name": "stdout",
          "text": [
            "\n",
            "      Epoch    GPU_mem   box_loss   cls_loss   dfl_loss  Instances       Size\n"
          ]
        },
        {
          "output_type": "stream",
          "name": "stderr",
          "text": [
            "      30/50      2.98G     0.9206     0.7555       1.08         31        640: 100%|██████████| 20/20 [00:05<00:00,  3.62it/s]\n",
            "                 Class     Images  Instances      Box(P          R      mAP50  mAP50-95): 100%|██████████| 3/3 [00:01<00:00,  2.80it/s]"
          ]
        },
        {
          "output_type": "stream",
          "name": "stdout",
          "text": [
            "                   all         80         86      0.936      0.884      0.907      0.643\n"
          ]
        },
        {
          "output_type": "stream",
          "name": "stderr",
          "text": [
            "\n"
          ]
        },
        {
          "output_type": "stream",
          "name": "stdout",
          "text": [
            "\n",
            "      Epoch    GPU_mem   box_loss   cls_loss   dfl_loss  Instances       Size\n"
          ]
        },
        {
          "output_type": "stream",
          "name": "stderr",
          "text": [
            "      31/50         3G     0.9098     0.7491      1.078         23        640: 100%|██████████| 20/20 [00:04<00:00,  4.36it/s]\n",
            "                 Class     Images  Instances      Box(P          R      mAP50  mAP50-95): 100%|██████████| 3/3 [00:00<00:00,  3.55it/s]"
          ]
        },
        {
          "output_type": "stream",
          "name": "stdout",
          "text": [
            "                   all         80         86      0.905      0.872       0.92      0.664\n"
          ]
        },
        {
          "output_type": "stream",
          "name": "stderr",
          "text": [
            "\n"
          ]
        },
        {
          "output_type": "stream",
          "name": "stdout",
          "text": [
            "\n",
            "      Epoch    GPU_mem   box_loss   cls_loss   dfl_loss  Instances       Size\n"
          ]
        },
        {
          "output_type": "stream",
          "name": "stderr",
          "text": [
            "      32/50      3.01G     0.8704     0.7089      1.051         30        640: 100%|██████████| 20/20 [00:05<00:00,  3.68it/s]\n",
            "                 Class     Images  Instances      Box(P          R      mAP50  mAP50-95): 100%|██████████| 3/3 [00:01<00:00,  2.35it/s]"
          ]
        },
        {
          "output_type": "stream",
          "name": "stdout",
          "text": [
            "                   all         80         86      0.907      0.789      0.863        0.6\n"
          ]
        },
        {
          "output_type": "stream",
          "name": "stderr",
          "text": [
            "\n"
          ]
        },
        {
          "output_type": "stream",
          "name": "stdout",
          "text": [
            "\n",
            "      Epoch    GPU_mem   box_loss   cls_loss   dfl_loss  Instances       Size\n"
          ]
        },
        {
          "output_type": "stream",
          "name": "stderr",
          "text": [
            "      33/50      3.03G     0.8347     0.6948      1.044         22        640: 100%|██████████| 20/20 [00:04<00:00,  4.22it/s]\n",
            "                 Class     Images  Instances      Box(P          R      mAP50  mAP50-95): 100%|██████████| 3/3 [00:00<00:00,  3.66it/s]"
          ]
        },
        {
          "output_type": "stream",
          "name": "stdout",
          "text": [
            "                   all         80         86      0.936      0.843      0.921      0.632\n"
          ]
        },
        {
          "output_type": "stream",
          "name": "stderr",
          "text": [
            "\n"
          ]
        },
        {
          "output_type": "stream",
          "name": "stdout",
          "text": [
            "\n",
            "      Epoch    GPU_mem   box_loss   cls_loss   dfl_loss  Instances       Size\n"
          ]
        },
        {
          "output_type": "stream",
          "name": "stderr",
          "text": [
            "      34/50      3.05G     0.8356     0.6546      1.042         28        640: 100%|██████████| 20/20 [00:05<00:00,  3.86it/s]\n",
            "                 Class     Images  Instances      Box(P          R      mAP50  mAP50-95): 100%|██████████| 3/3 [00:01<00:00,  2.04it/s]"
          ]
        },
        {
          "output_type": "stream",
          "name": "stdout",
          "text": [
            "                   all         80         86      0.939      0.895      0.944      0.654\n"
          ]
        },
        {
          "output_type": "stream",
          "name": "stderr",
          "text": [
            "\n"
          ]
        },
        {
          "output_type": "stream",
          "name": "stdout",
          "text": [
            "\n",
            "      Epoch    GPU_mem   box_loss   cls_loss   dfl_loss  Instances       Size\n"
          ]
        },
        {
          "output_type": "stream",
          "name": "stderr",
          "text": [
            "      35/50      3.06G      0.791     0.6354      1.026         31        640: 100%|██████████| 20/20 [00:04<00:00,  4.34it/s]\n",
            "                 Class     Images  Instances      Box(P          R      mAP50  mAP50-95): 100%|██████████| 3/3 [00:00<00:00,  3.62it/s]"
          ]
        },
        {
          "output_type": "stream",
          "name": "stdout",
          "text": [
            "                   all         80         86      0.972      0.812      0.934      0.681\n"
          ]
        },
        {
          "output_type": "stream",
          "name": "stderr",
          "text": [
            "\n"
          ]
        },
        {
          "output_type": "stream",
          "name": "stdout",
          "text": [
            "\n",
            "      Epoch    GPU_mem   box_loss   cls_loss   dfl_loss  Instances       Size\n"
          ]
        },
        {
          "output_type": "stream",
          "name": "stderr",
          "text": [
            "      36/50      3.08G     0.8036     0.6375      1.026         41        640: 100%|██████████| 20/20 [00:05<00:00,  3.88it/s]\n",
            "                 Class     Images  Instances      Box(P          R      mAP50  mAP50-95): 100%|██████████| 3/3 [00:01<00:00,  2.06it/s]"
          ]
        },
        {
          "output_type": "stream",
          "name": "stdout",
          "text": [
            "                   all         80         86      0.949       0.86      0.914      0.675\n"
          ]
        },
        {
          "output_type": "stream",
          "name": "stderr",
          "text": [
            "\n"
          ]
        },
        {
          "output_type": "stream",
          "name": "stdout",
          "text": [
            "\n",
            "      Epoch    GPU_mem   box_loss   cls_loss   dfl_loss  Instances       Size\n"
          ]
        },
        {
          "output_type": "stream",
          "name": "stderr",
          "text": [
            "      37/50       3.1G     0.8079     0.6263      1.029         33        640: 100%|██████████| 20/20 [00:04<00:00,  4.40it/s]\n",
            "                 Class     Images  Instances      Box(P          R      mAP50  mAP50-95): 100%|██████████| 3/3 [00:00<00:00,  3.28it/s]"
          ]
        },
        {
          "output_type": "stream",
          "name": "stdout",
          "text": [
            "                   all         80         86      0.967      0.849      0.929      0.679\n"
          ]
        },
        {
          "output_type": "stream",
          "name": "stderr",
          "text": [
            "\n"
          ]
        },
        {
          "output_type": "stream",
          "name": "stdout",
          "text": [
            "\n",
            "      Epoch    GPU_mem   box_loss   cls_loss   dfl_loss  Instances       Size\n"
          ]
        },
        {
          "output_type": "stream",
          "name": "stderr",
          "text": [
            "      38/50      3.12G     0.7902      0.603      1.029         21        640: 100%|██████████| 20/20 [00:04<00:00,  4.32it/s]\n",
            "                 Class     Images  Instances      Box(P          R      mAP50  mAP50-95): 100%|██████████| 3/3 [00:01<00:00,  2.07it/s]"
          ]
        },
        {
          "output_type": "stream",
          "name": "stdout",
          "text": [
            "                   all         80         86      0.941      0.895      0.931      0.697\n"
          ]
        },
        {
          "output_type": "stream",
          "name": "stderr",
          "text": [
            "\n"
          ]
        },
        {
          "output_type": "stream",
          "name": "stdout",
          "text": [
            "\n",
            "      Epoch    GPU_mem   box_loss   cls_loss   dfl_loss  Instances       Size\n"
          ]
        },
        {
          "output_type": "stream",
          "name": "stderr",
          "text": [
            "      39/50      3.13G     0.7816     0.6041      1.003         40        640: 100%|██████████| 20/20 [00:04<00:00,  4.25it/s]\n",
            "                 Class     Images  Instances      Box(P          R      mAP50  mAP50-95): 100%|██████████| 3/3 [00:00<00:00,  3.57it/s]"
          ]
        },
        {
          "output_type": "stream",
          "name": "stdout",
          "text": [
            "                   all         80         86      0.938      0.886      0.939      0.665\n"
          ]
        },
        {
          "output_type": "stream",
          "name": "stderr",
          "text": [
            "\n"
          ]
        },
        {
          "output_type": "stream",
          "name": "stdout",
          "text": [
            "\n",
            "      Epoch    GPU_mem   box_loss   cls_loss   dfl_loss  Instances       Size\n"
          ]
        },
        {
          "output_type": "stream",
          "name": "stderr",
          "text": [
            "      40/50      3.15G     0.7736     0.6371      1.016         35        640: 100%|██████████| 20/20 [00:04<00:00,  4.32it/s]\n",
            "                 Class     Images  Instances      Box(P          R      mAP50  mAP50-95): 100%|██████████| 3/3 [00:01<00:00,  2.34it/s]"
          ]
        },
        {
          "output_type": "stream",
          "name": "stdout",
          "text": [
            "                   all         80         86      0.906      0.919      0.937      0.673\n"
          ]
        },
        {
          "output_type": "stream",
          "name": "stderr",
          "text": [
            "\n"
          ]
        },
        {
          "output_type": "stream",
          "name": "stdout",
          "text": [
            "Closing dataloader mosaic\n",
            "\u001b[34m\u001b[1malbumentations: \u001b[0mBlur(p=0.01, blur_limit=(3, 7)), MedianBlur(p=0.01, blur_limit=(3, 7)), ToGray(p=0.01, method='weighted_average', num_output_channels=3), CLAHE(p=0.01, clip_limit=(1.0, 4.0), tile_grid_size=(8, 8))\n",
            "\n",
            "      Epoch    GPU_mem   box_loss   cls_loss   dfl_loss  Instances       Size\n"
          ]
        },
        {
          "output_type": "stream",
          "name": "stderr",
          "text": [
            "      41/50      3.17G     0.7552     0.5655     0.9883         16        640: 100%|██████████| 20/20 [00:06<00:00,  3.12it/s]\n",
            "                 Class     Images  Instances      Box(P          R      mAP50  mAP50-95): 100%|██████████| 3/3 [00:00<00:00,  3.83it/s]"
          ]
        },
        {
          "output_type": "stream",
          "name": "stdout",
          "text": [
            "                   all         80         86      0.973      0.814      0.927      0.675\n"
          ]
        },
        {
          "output_type": "stream",
          "name": "stderr",
          "text": [
            "\n"
          ]
        },
        {
          "output_type": "stream",
          "name": "stdout",
          "text": [
            "\n",
            "      Epoch    GPU_mem   box_loss   cls_loss   dfl_loss  Instances       Size\n"
          ]
        },
        {
          "output_type": "stream",
          "name": "stderr",
          "text": [
            "      42/50      3.19G     0.7572     0.5944     0.9936         18        640: 100%|██████████| 20/20 [00:05<00:00,  3.70it/s]\n",
            "                 Class     Images  Instances      Box(P          R      mAP50  mAP50-95): 100%|██████████| 3/3 [00:01<00:00,  2.75it/s]"
          ]
        },
        {
          "output_type": "stream",
          "name": "stdout",
          "text": [
            "                   all         80         86      0.948      0.854      0.937       0.69\n"
          ]
        },
        {
          "output_type": "stream",
          "name": "stderr",
          "text": [
            "\n"
          ]
        },
        {
          "output_type": "stream",
          "name": "stdout",
          "text": [
            "\n",
            "      Epoch    GPU_mem   box_loss   cls_loss   dfl_loss  Instances       Size\n"
          ]
        },
        {
          "output_type": "stream",
          "name": "stderr",
          "text": [
            "      43/50       3.2G     0.7263      0.518     0.9579         16        640: 100%|██████████| 20/20 [00:04<00:00,  4.56it/s]\n",
            "                 Class     Images  Instances      Box(P          R      mAP50  mAP50-95): 100%|██████████| 3/3 [00:00<00:00,  3.20it/s]"
          ]
        },
        {
          "output_type": "stream",
          "name": "stdout",
          "text": [
            "                   all         80         86      0.958      0.872       0.95       0.72\n"
          ]
        },
        {
          "output_type": "stream",
          "name": "stderr",
          "text": [
            "\n"
          ]
        },
        {
          "output_type": "stream",
          "name": "stdout",
          "text": [
            "\n",
            "      Epoch    GPU_mem   box_loss   cls_loss   dfl_loss  Instances       Size\n"
          ]
        },
        {
          "output_type": "stream",
          "name": "stderr",
          "text": [
            "      44/50      3.22G     0.7098     0.5213     0.9577         24        640: 100%|██████████| 20/20 [00:04<00:00,  4.13it/s]\n",
            "                 Class     Images  Instances      Box(P          R      mAP50  mAP50-95): 100%|██████████| 3/3 [00:01<00:00,  1.79it/s]"
          ]
        },
        {
          "output_type": "stream",
          "name": "stdout",
          "text": [
            "                   all         80         86      0.949      0.865      0.944      0.718\n"
          ]
        },
        {
          "output_type": "stream",
          "name": "stderr",
          "text": [
            "\n"
          ]
        },
        {
          "output_type": "stream",
          "name": "stdout",
          "text": [
            "\n",
            "      Epoch    GPU_mem   box_loss   cls_loss   dfl_loss  Instances       Size\n"
          ]
        },
        {
          "output_type": "stream",
          "name": "stderr",
          "text": [
            "      45/50      3.24G     0.6999     0.5228     0.9589         16        640: 100%|██████████| 20/20 [00:04<00:00,  4.45it/s]\n",
            "                 Class     Images  Instances      Box(P          R      mAP50  mAP50-95): 100%|██████████| 3/3 [00:00<00:00,  3.49it/s]"
          ]
        },
        {
          "output_type": "stream",
          "name": "stdout",
          "text": [
            "                   all         80         86      0.934       0.93      0.946      0.699\n"
          ]
        },
        {
          "output_type": "stream",
          "name": "stderr",
          "text": [
            "\n"
          ]
        },
        {
          "output_type": "stream",
          "name": "stdout",
          "text": [
            "\n",
            "      Epoch    GPU_mem   box_loss   cls_loss   dfl_loss  Instances       Size\n"
          ]
        },
        {
          "output_type": "stream",
          "name": "stderr",
          "text": [
            "      46/50      3.25G     0.6581      0.479     0.9497         15        640: 100%|██████████| 20/20 [00:04<00:00,  4.43it/s]\n",
            "                 Class     Images  Instances      Box(P          R      mAP50  mAP50-95): 100%|██████████| 3/3 [00:01<00:00,  1.87it/s]"
          ]
        },
        {
          "output_type": "stream",
          "name": "stdout",
          "text": [
            "                   all         80         86       0.95      0.919      0.947      0.716\n"
          ]
        },
        {
          "output_type": "stream",
          "name": "stderr",
          "text": [
            "\n"
          ]
        },
        {
          "output_type": "stream",
          "name": "stdout",
          "text": [
            "\n",
            "      Epoch    GPU_mem   box_loss   cls_loss   dfl_loss  Instances       Size\n"
          ]
        },
        {
          "output_type": "stream",
          "name": "stderr",
          "text": [
            "      47/50      3.27G     0.6764     0.4868     0.9218         19        640: 100%|██████████| 20/20 [00:04<00:00,  4.41it/s]\n",
            "                 Class     Images  Instances      Box(P          R      mAP50  mAP50-95): 100%|██████████| 3/3 [00:00<00:00,  3.90it/s]"
          ]
        },
        {
          "output_type": "stream",
          "name": "stdout",
          "text": [
            "                   all         80         86      0.918      0.913      0.946      0.722\n"
          ]
        },
        {
          "output_type": "stream",
          "name": "stderr",
          "text": [
            "\n"
          ]
        },
        {
          "output_type": "stream",
          "name": "stdout",
          "text": [
            "\n",
            "      Epoch    GPU_mem   box_loss   cls_loss   dfl_loss  Instances       Size\n"
          ]
        },
        {
          "output_type": "stream",
          "name": "stderr",
          "text": [
            "      48/50      3.29G     0.6408      0.462     0.9367         16        640: 100%|██████████| 20/20 [00:04<00:00,  4.61it/s]\n",
            "                 Class     Images  Instances      Box(P          R      mAP50  mAP50-95): 100%|██████████| 3/3 [00:01<00:00,  2.79it/s]"
          ]
        },
        {
          "output_type": "stream",
          "name": "stdout",
          "text": [
            "                   all         80         86      0.946      0.895      0.943      0.716\n"
          ]
        },
        {
          "output_type": "stream",
          "name": "stderr",
          "text": [
            "\n"
          ]
        },
        {
          "output_type": "stream",
          "name": "stdout",
          "text": [
            "\n",
            "      Epoch    GPU_mem   box_loss   cls_loss   dfl_loss  Instances       Size\n"
          ]
        },
        {
          "output_type": "stream",
          "name": "stderr",
          "text": [
            "      49/50       3.3G     0.6351     0.4495     0.9288         17        640: 100%|██████████| 20/20 [00:05<00:00,  3.91it/s]\n",
            "                 Class     Images  Instances      Box(P          R      mAP50  mAP50-95): 100%|██████████| 3/3 [00:00<00:00,  4.15it/s]"
          ]
        },
        {
          "output_type": "stream",
          "name": "stdout",
          "text": [
            "                   all         80         86      0.952      0.916      0.942      0.721\n"
          ]
        },
        {
          "output_type": "stream",
          "name": "stderr",
          "text": [
            "\n"
          ]
        },
        {
          "output_type": "stream",
          "name": "stdout",
          "text": [
            "\n",
            "      Epoch    GPU_mem   box_loss   cls_loss   dfl_loss  Instances       Size\n"
          ]
        },
        {
          "output_type": "stream",
          "name": "stderr",
          "text": [
            "      50/50      3.32G     0.6466     0.4763     0.9386         16        640: 100%|██████████| 20/20 [00:04<00:00,  4.51it/s]\n",
            "                 Class     Images  Instances      Box(P          R      mAP50  mAP50-95): 100%|██████████| 3/3 [00:00<00:00,  3.56it/s]"
          ]
        },
        {
          "output_type": "stream",
          "name": "stdout",
          "text": [
            "                   all         80         86       0.95      0.919      0.941      0.723\n"
          ]
        },
        {
          "output_type": "stream",
          "name": "stderr",
          "text": [
            "\n"
          ]
        },
        {
          "output_type": "stream",
          "name": "stdout",
          "text": [
            "\n",
            "50 epochs completed in 0.090 hours.\n",
            "Optimizer stripped from runs/detect/train/weights/last.pt, 6.2MB\n",
            "Optimizer stripped from runs/detect/train/weights/best.pt, 6.2MB\n",
            "\n",
            "Validating runs/detect/train/weights/best.pt...\n",
            "Ultralytics 8.3.167 🚀 Python-3.11.13 torch-2.6.0+cu124 CUDA:0 (Tesla T4, 15095MiB)\n",
            "Model summary (fused): 72 layers, 3,005,843 parameters, 0 gradients, 8.1 GFLOPs\n"
          ]
        },
        {
          "output_type": "stream",
          "name": "stderr",
          "text": [
            "                 Class     Images  Instances      Box(P          R      mAP50  mAP50-95): 100%|██████████| 3/3 [00:01<00:00,  1.76it/s]\n"
          ]
        },
        {
          "output_type": "stream",
          "name": "stdout",
          "text": [
            "                   all         80         86      0.918      0.913      0.946      0.724\n",
            "Speed: 0.3ms preprocess, 2.7ms inference, 0.0ms loss, 5.0ms postprocess per image\n",
            "Results saved to \u001b[1mruns/detect/train\u001b[0m\n"
          ]
        },
        {
          "output_type": "execute_result",
          "data": {
            "text/plain": [
              "ultralytics.utils.metrics.DetMetrics object with attributes:\n",
              "\n",
              "ap_class_index: array([0])\n",
              "box: ultralytics.utils.metrics.Metric object\n",
              "confusion_matrix: <ultralytics.utils.metrics.ConfusionMatrix object at 0x7ab58619e310>\n",
              "curves: ['Precision-Recall(B)', 'F1-Confidence(B)', 'Precision-Confidence(B)', 'Recall-Confidence(B)']\n",
              "curves_results: [[array([          0,    0.001001,    0.002002,    0.003003,    0.004004,    0.005005,    0.006006,    0.007007,    0.008008,    0.009009,     0.01001,    0.011011,    0.012012,    0.013013,    0.014014,    0.015015,    0.016016,    0.017017,    0.018018,    0.019019,     0.02002,    0.021021,    0.022022,    0.023023,\n",
              "          0.024024,    0.025025,    0.026026,    0.027027,    0.028028,    0.029029,     0.03003,    0.031031,    0.032032,    0.033033,    0.034034,    0.035035,    0.036036,    0.037037,    0.038038,    0.039039,     0.04004,    0.041041,    0.042042,    0.043043,    0.044044,    0.045045,    0.046046,    0.047047,\n",
              "          0.048048,    0.049049,     0.05005,    0.051051,    0.052052,    0.053053,    0.054054,    0.055055,    0.056056,    0.057057,    0.058058,    0.059059,     0.06006,    0.061061,    0.062062,    0.063063,    0.064064,    0.065065,    0.066066,    0.067067,    0.068068,    0.069069,     0.07007,    0.071071,\n",
              "          0.072072,    0.073073,    0.074074,    0.075075,    0.076076,    0.077077,    0.078078,    0.079079,     0.08008,    0.081081,    0.082082,    0.083083,    0.084084,    0.085085,    0.086086,    0.087087,    0.088088,    0.089089,     0.09009,    0.091091,    0.092092,    0.093093,    0.094094,    0.095095,\n",
              "          0.096096,    0.097097,    0.098098,    0.099099,      0.1001,      0.1011,      0.1021,      0.1031,      0.1041,     0.10511,     0.10611,     0.10711,     0.10811,     0.10911,     0.11011,     0.11111,     0.11211,     0.11311,     0.11411,     0.11512,     0.11612,     0.11712,     0.11812,     0.11912,\n",
              "           0.12012,     0.12112,     0.12212,     0.12312,     0.12412,     0.12513,     0.12613,     0.12713,     0.12813,     0.12913,     0.13013,     0.13113,     0.13213,     0.13313,     0.13413,     0.13514,     0.13614,     0.13714,     0.13814,     0.13914,     0.14014,     0.14114,     0.14214,     0.14314,\n",
              "           0.14414,     0.14515,     0.14615,     0.14715,     0.14815,     0.14915,     0.15015,     0.15115,     0.15215,     0.15315,     0.15415,     0.15516,     0.15616,     0.15716,     0.15816,     0.15916,     0.16016,     0.16116,     0.16216,     0.16316,     0.16416,     0.16517,     0.16617,     0.16717,\n",
              "           0.16817,     0.16917,     0.17017,     0.17117,     0.17217,     0.17317,     0.17417,     0.17518,     0.17618,     0.17718,     0.17818,     0.17918,     0.18018,     0.18118,     0.18218,     0.18318,     0.18418,     0.18519,     0.18619,     0.18719,     0.18819,     0.18919,     0.19019,     0.19119,\n",
              "           0.19219,     0.19319,     0.19419,      0.1952,      0.1962,      0.1972,      0.1982,      0.1992,      0.2002,      0.2012,      0.2022,      0.2032,      0.2042,     0.20521,     0.20621,     0.20721,     0.20821,     0.20921,     0.21021,     0.21121,     0.21221,     0.21321,     0.21421,     0.21522,\n",
              "           0.21622,     0.21722,     0.21822,     0.21922,     0.22022,     0.22122,     0.22222,     0.22322,     0.22422,     0.22523,     0.22623,     0.22723,     0.22823,     0.22923,     0.23023,     0.23123,     0.23223,     0.23323,     0.23423,     0.23524,     0.23624,     0.23724,     0.23824,     0.23924,\n",
              "           0.24024,     0.24124,     0.24224,     0.24324,     0.24424,     0.24525,     0.24625,     0.24725,     0.24825,     0.24925,     0.25025,     0.25125,     0.25225,     0.25325,     0.25425,     0.25526,     0.25626,     0.25726,     0.25826,     0.25926,     0.26026,     0.26126,     0.26226,     0.26326,\n",
              "           0.26426,     0.26527,     0.26627,     0.26727,     0.26827,     0.26927,     0.27027,     0.27127,     0.27227,     0.27327,     0.27427,     0.27528,     0.27628,     0.27728,     0.27828,     0.27928,     0.28028,     0.28128,     0.28228,     0.28328,     0.28428,     0.28529,     0.28629,     0.28729,\n",
              "           0.28829,     0.28929,     0.29029,     0.29129,     0.29229,     0.29329,     0.29429,      0.2953,      0.2963,      0.2973,      0.2983,      0.2993,      0.3003,      0.3013,      0.3023,      0.3033,      0.3043,     0.30531,     0.30631,     0.30731,     0.30831,     0.30931,     0.31031,     0.31131,\n",
              "           0.31231,     0.31331,     0.31431,     0.31532,     0.31632,     0.31732,     0.31832,     0.31932,     0.32032,     0.32132,     0.32232,     0.32332,     0.32432,     0.32533,     0.32633,     0.32733,     0.32833,     0.32933,     0.33033,     0.33133,     0.33233,     0.33333,     0.33433,     0.33534,\n",
              "           0.33634,     0.33734,     0.33834,     0.33934,     0.34034,     0.34134,     0.34234,     0.34334,     0.34434,     0.34535,     0.34635,     0.34735,     0.34835,     0.34935,     0.35035,     0.35135,     0.35235,     0.35335,     0.35435,     0.35536,     0.35636,     0.35736,     0.35836,     0.35936,\n",
              "           0.36036,     0.36136,     0.36236,     0.36336,     0.36436,     0.36537,     0.36637,     0.36737,     0.36837,     0.36937,     0.37037,     0.37137,     0.37237,     0.37337,     0.37437,     0.37538,     0.37638,     0.37738,     0.37838,     0.37938,     0.38038,     0.38138,     0.38238,     0.38338,\n",
              "           0.38438,     0.38539,     0.38639,     0.38739,     0.38839,     0.38939,     0.39039,     0.39139,     0.39239,     0.39339,     0.39439,      0.3954,      0.3964,      0.3974,      0.3984,      0.3994,      0.4004,      0.4014,      0.4024,      0.4034,      0.4044,     0.40541,     0.40641,     0.40741,\n",
              "           0.40841,     0.40941,     0.41041,     0.41141,     0.41241,     0.41341,     0.41441,     0.41542,     0.41642,     0.41742,     0.41842,     0.41942,     0.42042,     0.42142,     0.42242,     0.42342,     0.42442,     0.42543,     0.42643,     0.42743,     0.42843,     0.42943,     0.43043,     0.43143,\n",
              "           0.43243,     0.43343,     0.43443,     0.43544,     0.43644,     0.43744,     0.43844,     0.43944,     0.44044,     0.44144,     0.44244,     0.44344,     0.44444,     0.44545,     0.44645,     0.44745,     0.44845,     0.44945,     0.45045,     0.45145,     0.45245,     0.45345,     0.45445,     0.45546,\n",
              "           0.45646,     0.45746,     0.45846,     0.45946,     0.46046,     0.46146,     0.46246,     0.46346,     0.46446,     0.46547,     0.46647,     0.46747,     0.46847,     0.46947,     0.47047,     0.47147,     0.47247,     0.47347,     0.47447,     0.47548,     0.47648,     0.47748,     0.47848,     0.47948,\n",
              "           0.48048,     0.48148,     0.48248,     0.48348,     0.48448,     0.48549,     0.48649,     0.48749,     0.48849,     0.48949,     0.49049,     0.49149,     0.49249,     0.49349,     0.49449,      0.4955,      0.4965,      0.4975,      0.4985,      0.4995,      0.5005,      0.5015,      0.5025,      0.5035,\n",
              "            0.5045,     0.50551,     0.50651,     0.50751,     0.50851,     0.50951,     0.51051,     0.51151,     0.51251,     0.51351,     0.51451,     0.51552,     0.51652,     0.51752,     0.51852,     0.51952,     0.52052,     0.52152,     0.52252,     0.52352,     0.52452,     0.52553,     0.52653,     0.52753,\n",
              "           0.52853,     0.52953,     0.53053,     0.53153,     0.53253,     0.53353,     0.53453,     0.53554,     0.53654,     0.53754,     0.53854,     0.53954,     0.54054,     0.54154,     0.54254,     0.54354,     0.54454,     0.54555,     0.54655,     0.54755,     0.54855,     0.54955,     0.55055,     0.55155,\n",
              "           0.55255,     0.55355,     0.55455,     0.55556,     0.55656,     0.55756,     0.55856,     0.55956,     0.56056,     0.56156,     0.56256,     0.56356,     0.56456,     0.56557,     0.56657,     0.56757,     0.56857,     0.56957,     0.57057,     0.57157,     0.57257,     0.57357,     0.57457,     0.57558,\n",
              "           0.57658,     0.57758,     0.57858,     0.57958,     0.58058,     0.58158,     0.58258,     0.58358,     0.58458,     0.58559,     0.58659,     0.58759,     0.58859,     0.58959,     0.59059,     0.59159,     0.59259,     0.59359,     0.59459,      0.5956,      0.5966,      0.5976,      0.5986,      0.5996,\n",
              "            0.6006,      0.6016,      0.6026,      0.6036,      0.6046,     0.60561,     0.60661,     0.60761,     0.60861,     0.60961,     0.61061,     0.61161,     0.61261,     0.61361,     0.61461,     0.61562,     0.61662,     0.61762,     0.61862,     0.61962,     0.62062,     0.62162,     0.62262,     0.62362,\n",
              "           0.62462,     0.62563,     0.62663,     0.62763,     0.62863,     0.62963,     0.63063,     0.63163,     0.63263,     0.63363,     0.63463,     0.63564,     0.63664,     0.63764,     0.63864,     0.63964,     0.64064,     0.64164,     0.64264,     0.64364,     0.64464,     0.64565,     0.64665,     0.64765,\n",
              "           0.64865,     0.64965,     0.65065,     0.65165,     0.65265,     0.65365,     0.65465,     0.65566,     0.65666,     0.65766,     0.65866,     0.65966,     0.66066,     0.66166,     0.66266,     0.66366,     0.66466,     0.66567,     0.66667,     0.66767,     0.66867,     0.66967,     0.67067,     0.67167,\n",
              "           0.67267,     0.67367,     0.67467,     0.67568,     0.67668,     0.67768,     0.67868,     0.67968,     0.68068,     0.68168,     0.68268,     0.68368,     0.68468,     0.68569,     0.68669,     0.68769,     0.68869,     0.68969,     0.69069,     0.69169,     0.69269,     0.69369,     0.69469,      0.6957,\n",
              "            0.6967,      0.6977,      0.6987,      0.6997,      0.7007,      0.7017,      0.7027,      0.7037,      0.7047,     0.70571,     0.70671,     0.70771,     0.70871,     0.70971,     0.71071,     0.71171,     0.71271,     0.71371,     0.71471,     0.71572,     0.71672,     0.71772,     0.71872,     0.71972,\n",
              "           0.72072,     0.72172,     0.72272,     0.72372,     0.72472,     0.72573,     0.72673,     0.72773,     0.72873,     0.72973,     0.73073,     0.73173,     0.73273,     0.73373,     0.73473,     0.73574,     0.73674,     0.73774,     0.73874,     0.73974,     0.74074,     0.74174,     0.74274,     0.74374,\n",
              "           0.74474,     0.74575,     0.74675,     0.74775,     0.74875,     0.74975,     0.75075,     0.75175,     0.75275,     0.75375,     0.75475,     0.75576,     0.75676,     0.75776,     0.75876,     0.75976,     0.76076,     0.76176,     0.76276,     0.76376,     0.76476,     0.76577,     0.76677,     0.76777,\n",
              "           0.76877,     0.76977,     0.77077,     0.77177,     0.77277,     0.77377,     0.77477,     0.77578,     0.77678,     0.77778,     0.77878,     0.77978,     0.78078,     0.78178,     0.78278,     0.78378,     0.78478,     0.78579,     0.78679,     0.78779,     0.78879,     0.78979,     0.79079,     0.79179,\n",
              "           0.79279,     0.79379,     0.79479,      0.7958,      0.7968,      0.7978,      0.7988,      0.7998,      0.8008,      0.8018,      0.8028,      0.8038,      0.8048,     0.80581,     0.80681,     0.80781,     0.80881,     0.80981,     0.81081,     0.81181,     0.81281,     0.81381,     0.81481,     0.81582,\n",
              "           0.81682,     0.81782,     0.81882,     0.81982,     0.82082,     0.82182,     0.82282,     0.82382,     0.82482,     0.82583,     0.82683,     0.82783,     0.82883,     0.82983,     0.83083,     0.83183,     0.83283,     0.83383,     0.83483,     0.83584,     0.83684,     0.83784,     0.83884,     0.83984,\n",
              "           0.84084,     0.84184,     0.84284,     0.84384,     0.84484,     0.84585,     0.84685,     0.84785,     0.84885,     0.84985,     0.85085,     0.85185,     0.85285,     0.85385,     0.85485,     0.85586,     0.85686,     0.85786,     0.85886,     0.85986,     0.86086,     0.86186,     0.86286,     0.86386,\n",
              "           0.86486,     0.86587,     0.86687,     0.86787,     0.86887,     0.86987,     0.87087,     0.87187,     0.87287,     0.87387,     0.87487,     0.87588,     0.87688,     0.87788,     0.87888,     0.87988,     0.88088,     0.88188,     0.88288,     0.88388,     0.88488,     0.88589,     0.88689,     0.88789,\n",
              "           0.88889,     0.88989,     0.89089,     0.89189,     0.89289,     0.89389,     0.89489,      0.8959,      0.8969,      0.8979,      0.8989,      0.8999,      0.9009,      0.9019,      0.9029,      0.9039,      0.9049,     0.90591,     0.90691,     0.90791,     0.90891,     0.90991,     0.91091,     0.91191,\n",
              "           0.91291,     0.91391,     0.91491,     0.91592,     0.91692,     0.91792,     0.91892,     0.91992,     0.92092,     0.92192,     0.92292,     0.92392,     0.92492,     0.92593,     0.92693,     0.92793,     0.92893,     0.92993,     0.93093,     0.93193,     0.93293,     0.93393,     0.93493,     0.93594,\n",
              "           0.93694,     0.93794,     0.93894,     0.93994,     0.94094,     0.94194,     0.94294,     0.94394,     0.94494,     0.94595,     0.94695,     0.94795,     0.94895,     0.94995,     0.95095,     0.95195,     0.95295,     0.95395,     0.95495,     0.95596,     0.95696,     0.95796,     0.95896,     0.95996,\n",
              "           0.96096,     0.96196,     0.96296,     0.96396,     0.96496,     0.96597,     0.96697,     0.96797,     0.96897,     0.96997,     0.97097,     0.97197,     0.97297,     0.97397,     0.97497,     0.97598,     0.97698,     0.97798,     0.97898,     0.97998,     0.98098,     0.98198,     0.98298,     0.98398,\n",
              "           0.98498,     0.98599,     0.98699,     0.98799,     0.98899,     0.98999,     0.99099,     0.99199,     0.99299,     0.99399,     0.99499,       0.996,       0.997,       0.998,       0.999,           1]), array([[          1,           1,           1,           1,           1,           1,           1,           1,           1,           1,           1,           1,           1,           1,           1,           1,           1,           1,           1,           1,           1,           1,           1,\n",
              "                  1,           1,           1,           1,           1,           1,           1,           1,           1,           1,           1,           1,           1,           1,           1,           1,           1,           1,           1,           1,           1,           1,           1,\n",
              "                  1,           1,           1,           1,           1,           1,           1,           1,           1,           1,           1,           1,           1,           1,           1,           1,           1,           1,           1,           1,           1,           1,           1,\n",
              "                  1,           1,           1,           1,           1,           1,           1,           1,           1,           1,           1,           1,           1,           1,           1,           1,           1,           1,           1,           1,           1,           1,           1,\n",
              "                  1,           1,           1,           1,           1,           1,           1,           1,           1,           1,           1,           1,           1,           1,           1,           1,           1,           1,           1,           1,           1,           1,           1,\n",
              "                  1,           1,           1,           1,           1,           1,           1,           1,           1,           1,           1,           1,           1,           1,           1,           1,           1,           1,           1,           1,           1,           1,           1,\n",
              "                  1,           1,           1,           1,           1,           1,           1,           1,           1,           1,           1,           1,           1,           1,           1,           1,           1,           1,           1,           1,           1,           1,           1,\n",
              "                  1,           1,           1,           1,           1,           1,           1,           1,           1,           1,           1,           1,           1,           1,           1,           1,           1,           1,           1,           1,           1,           1,           1,\n",
              "                  1,           1,           1,           1,           1,           1,           1,           1,           1,           1,           1,           1,           1,           1,           1,           1,           1,           1,           1,           1,           1,           1,           1,\n",
              "                  1,           1,           1,           1,           1,           1,           1,           1,           1,           1,           1,           1,           1,           1,           1,           1,           1,           1,           1,           1,           1,           1,           1,\n",
              "                  1,           1,           1,           1,           1,           1,           1,           1,           1,           1,           1,           1,           1,           1,           1,           1,           1,           1,           1,           1,           1,           1,           1,\n",
              "                  1,           1,           1,           1,           1,           1,           1,           1,           1,           1,           1,           1,           1,           1,           1,           1,           1,           1,           1,           1,           1,           1,           1,\n",
              "                  1,           1,           1,           1,           1,           1,           1,           1,           1,           1,           1,           1,           1,           1,           1,           1,           1,           1,           1,           1,           1,           1,           1,\n",
              "                  1,           1,           1,           1,           1,           1,           1,           1,           1,           1,           1,           1,           1,           1,           1,           1,           1,           1,           1,           1,           1,           1,           1,\n",
              "                  1,           1,           1,           1,           1,           1,           1,           1,           1,           1,           1,           1,           1,           1,           1,           1,           1,           1,           1,           1,           1,           1,           1,\n",
              "                  1,           1,           1,           1,           1,           1,           1,           1,           1,           1,           1,           1,           1,           1,           1,           1,           1,           1,           1,           1,           1,           1,           1,\n",
              "                  1,           1,           1,           1,           1,           1,           1,           1,           1,           1,           1,           1,           1,           1,           1,           1,           1,           1,           1,           1,           1,           1,           1,\n",
              "                  1,           1,           1,           1,           1,           1,           1,           1,           1,           1,           1,           1,           1,           1,           1,           1,           1,           1,           1,           1,           1,           1,           1,\n",
              "                  1,           1,           1,           1,           1,           1,           1,           1,           1,           1,           1,           1,           1,           1,           1,           1,           1,           1,           1,           1,           1,           1,           1,\n",
              "                  1,           1,           1,           1,           1,           1,           1,           1,           1,           1,           1,           1,           1,           1,           1,           1,           1,           1,           1,           1,           1,           1,           1,\n",
              "                  1,           1,           1,           1,           1,           1,           1,           1,           1,           1,           1,           1,           1,           1,           1,           1,           1,           1,           1,           1,           1,           1,           1,\n",
              "                  1,           1,           1,           1,           1,           1,           1,           1,           1,           1,           1,           1,           1,           1,           1,           1,           1,           1,           1,           1,           1,           1,           1,\n",
              "                  1,           1,           1,           1,           1,           1,           1,           1,           1,           1,           1,           1,           1,           1,           1,           1,           1,           1,           1,           1,           1,           1,           1,\n",
              "                  1,           1,           1,           1,           1,           1,           1,           1,           1,           1,           1,           1,           1,           1,           1,           1,           1,           1,           1,           1,           1,           1,           1,\n",
              "                  1,           1,           1,           1,           1,           1,           1,           1,           1,           1,           1,           1,           1,           1,           1,           1,           1,           1,           1,           1,           1,           1,           1,\n",
              "                  1,           1,           1,           1,           1,           1,           1,           1,           1,           1,           1,           1,           1,           1,           1,           1,           1,           1,           1,           1,           1,           1,           1,\n",
              "                  1,           1,           1,           1,           1,           1,           1,           1,           1,           1,           1,           1,           1,           1,           1,           1,           1,           1,           1,           1,           1,           1,           1,\n",
              "                  1,           1,           1,           1,           1,           1,           1,           1,           1,           1,           1,           1,           1,           1,           1,           1,           1,           1,           1,           1,           1,           1,           1,\n",
              "                  1,           1,           1,           1,           1,           1,           1,           1,           1,           1,           1,           1,           1,           1,           1,           1,           1,           1,           1,           1,           1,           1,           1,\n",
              "                  1,           1,           1,           1,           1,           1,           1,     0.98413,     0.98413,     0.98413,     0.98413,     0.98413,     0.98413,     0.98413,     0.98413,     0.98413,     0.98413,     0.98413,     0.98413,     0.98413,     0.98413,     0.98413,     0.98413,\n",
              "            0.98413,     0.98413,     0.98413,     0.98413,     0.98413,     0.98413,     0.98413,     0.98413,     0.98413,     0.98413,     0.98413,     0.98413,     0.98413,     0.98413,     0.98413,     0.98413,     0.98413,     0.98413,     0.98413,     0.98413,     0.98413,     0.98413,     0.98413,\n",
              "            0.98413,     0.98413,     0.98413,     0.98413,     0.98413,     0.98413,     0.98413,     0.98413,     0.97143,     0.97143,     0.97143,     0.97143,     0.97143,     0.97143,     0.97143,     0.97143,     0.97143,     0.97143,     0.97143,     0.97143,     0.97143,     0.97143,     0.97143,\n",
              "            0.97143,     0.97143,     0.97143,     0.97143,     0.97143,     0.97143,     0.97143,     0.97143,     0.97143,     0.97143,     0.97143,     0.97143,     0.97143,     0.97143,     0.97143,     0.97143,     0.97143,     0.97143,     0.97143,     0.97143,     0.97143,     0.97143,     0.97143,\n",
              "            0.97143,     0.97143,     0.97143,     0.97143,     0.97143,     0.97143,     0.97143,     0.97143,     0.97143,     0.97143,     0.97143,     0.97143,     0.97143,     0.97143,     0.97143,     0.97143,     0.97143,     0.97143,     0.97143,     0.97143,     0.97143,     0.97143,     0.97143,\n",
              "            0.97143,     0.97143,     0.97143,     0.97143,     0.97143,     0.97143,     0.97143,     0.97143,     0.94872,     0.94872,     0.94872,     0.94872,     0.94872,     0.94872,     0.94872,     0.94872,     0.94872,     0.94872,     0.94872,     0.94872,     0.94872,     0.94872,     0.94872,\n",
              "            0.94872,     0.94872,     0.94872,     0.94872,     0.94872,     0.94872,     0.94872,     0.94872,     0.94872,     0.94872,     0.94872,     0.94872,     0.94872,     0.94872,     0.94872,     0.94872,     0.94872,     0.94872,     0.94872,     0.94872,     0.94872,     0.94872,     0.94872,\n",
              "            0.94872,     0.94872,     0.94872,     0.94872,     0.94872,     0.94872,     0.94872,     0.94872,     0.94872,     0.94872,     0.94872,     0.94872,     0.94872,     0.94872,     0.94872,     0.94872,     0.94872,     0.94872,     0.94872,     0.94872,     0.94872,     0.94872,     0.94872,\n",
              "            0.94872,     0.94872,     0.94872,     0.94872,     0.94872,     0.94872,     0.94872,     0.94872,     0.94872,     0.93827,     0.93827,     0.93827,     0.93827,     0.93827,     0.93827,     0.93827,     0.93827,     0.93827,     0.93827,     0.93827,     0.93827,     0.93827,     0.93827,\n",
              "            0.93827,     0.93827,     0.93827,     0.93827,     0.93827,     0.93827,     0.93827,     0.93827,     0.93827,     0.92771,     0.92771,     0.92771,     0.92771,     0.92771,     0.92771,     0.92771,     0.92771,     0.92771,     0.92771,     0.92771,     0.92771,      0.9186,      0.9186,\n",
              "             0.9186,      0.9186,      0.9186,      0.9186,      0.9186,      0.9186,      0.9186,      0.9186,      0.9186,      0.9186,      0.9186,      0.9186,      0.9186,      0.9186,      0.9186,      0.9186,      0.9186,      0.9186,      0.9186,      0.9186,      0.9186,     0.89888,     0.89888,\n",
              "            0.89888,     0.89888,     0.89888,     0.89888,     0.89888,     0.89888,     0.89888,     0.89888,     0.89888,     0.89888,     0.76415,     0.76415,     0.76415,     0.76415,     0.76415,     0.76415,     0.76415,     0.76415,     0.76415,     0.76415,     0.76415,     0.75229,     0.75229,\n",
              "            0.75229,     0.75229,     0.75229,     0.75229,     0.75229,     0.75229,     0.75229,     0.75229,     0.75229,     0.75229,     0.31321,     0.31321,     0.31321,     0.31321,     0.31321,     0.31321,     0.31321,     0.31321,     0.31321,     0.31321,     0.31321,     0.31321,     0.20741,\n",
              "            0.20741,     0.20741,     0.20741,     0.20741,     0.20741,     0.20741,     0.20741,     0.20741,     0.20741,     0.20741,      0.1797,      0.1797,      0.1797,      0.1797,      0.1797,      0.1797,      0.1797,      0.1797,      0.1797,      0.1797,      0.1797,      0.1797,    0.098883,\n",
              "           0.089893,    0.080904,    0.071915,    0.062925,    0.053936,    0.044947,    0.035957,    0.026968,    0.017979,   0.0089893,           0]]), 'Recall', 'Precision'], [array([          0,    0.001001,    0.002002,    0.003003,    0.004004,    0.005005,    0.006006,    0.007007,    0.008008,    0.009009,     0.01001,    0.011011,    0.012012,    0.013013,    0.014014,    0.015015,    0.016016,    0.017017,    0.018018,    0.019019,     0.02002,    0.021021,    0.022022,    0.023023,\n",
              "          0.024024,    0.025025,    0.026026,    0.027027,    0.028028,    0.029029,     0.03003,    0.031031,    0.032032,    0.033033,    0.034034,    0.035035,    0.036036,    0.037037,    0.038038,    0.039039,     0.04004,    0.041041,    0.042042,    0.043043,    0.044044,    0.045045,    0.046046,    0.047047,\n",
              "          0.048048,    0.049049,     0.05005,    0.051051,    0.052052,    0.053053,    0.054054,    0.055055,    0.056056,    0.057057,    0.058058,    0.059059,     0.06006,    0.061061,    0.062062,    0.063063,    0.064064,    0.065065,    0.066066,    0.067067,    0.068068,    0.069069,     0.07007,    0.071071,\n",
              "          0.072072,    0.073073,    0.074074,    0.075075,    0.076076,    0.077077,    0.078078,    0.079079,     0.08008,    0.081081,    0.082082,    0.083083,    0.084084,    0.085085,    0.086086,    0.087087,    0.088088,    0.089089,     0.09009,    0.091091,    0.092092,    0.093093,    0.094094,    0.095095,\n",
              "          0.096096,    0.097097,    0.098098,    0.099099,      0.1001,      0.1011,      0.1021,      0.1031,      0.1041,     0.10511,     0.10611,     0.10711,     0.10811,     0.10911,     0.11011,     0.11111,     0.11211,     0.11311,     0.11411,     0.11512,     0.11612,     0.11712,     0.11812,     0.11912,\n",
              "           0.12012,     0.12112,     0.12212,     0.12312,     0.12412,     0.12513,     0.12613,     0.12713,     0.12813,     0.12913,     0.13013,     0.13113,     0.13213,     0.13313,     0.13413,     0.13514,     0.13614,     0.13714,     0.13814,     0.13914,     0.14014,     0.14114,     0.14214,     0.14314,\n",
              "           0.14414,     0.14515,     0.14615,     0.14715,     0.14815,     0.14915,     0.15015,     0.15115,     0.15215,     0.15315,     0.15415,     0.15516,     0.15616,     0.15716,     0.15816,     0.15916,     0.16016,     0.16116,     0.16216,     0.16316,     0.16416,     0.16517,     0.16617,     0.16717,\n",
              "           0.16817,     0.16917,     0.17017,     0.17117,     0.17217,     0.17317,     0.17417,     0.17518,     0.17618,     0.17718,     0.17818,     0.17918,     0.18018,     0.18118,     0.18218,     0.18318,     0.18418,     0.18519,     0.18619,     0.18719,     0.18819,     0.18919,     0.19019,     0.19119,\n",
              "           0.19219,     0.19319,     0.19419,      0.1952,      0.1962,      0.1972,      0.1982,      0.1992,      0.2002,      0.2012,      0.2022,      0.2032,      0.2042,     0.20521,     0.20621,     0.20721,     0.20821,     0.20921,     0.21021,     0.21121,     0.21221,     0.21321,     0.21421,     0.21522,\n",
              "           0.21622,     0.21722,     0.21822,     0.21922,     0.22022,     0.22122,     0.22222,     0.22322,     0.22422,     0.22523,     0.22623,     0.22723,     0.22823,     0.22923,     0.23023,     0.23123,     0.23223,     0.23323,     0.23423,     0.23524,     0.23624,     0.23724,     0.23824,     0.23924,\n",
              "           0.24024,     0.24124,     0.24224,     0.24324,     0.24424,     0.24525,     0.24625,     0.24725,     0.24825,     0.24925,     0.25025,     0.25125,     0.25225,     0.25325,     0.25425,     0.25526,     0.25626,     0.25726,     0.25826,     0.25926,     0.26026,     0.26126,     0.26226,     0.26326,\n",
              "           0.26426,     0.26527,     0.26627,     0.26727,     0.26827,     0.26927,     0.27027,     0.27127,     0.27227,     0.27327,     0.27427,     0.27528,     0.27628,     0.27728,     0.27828,     0.27928,     0.28028,     0.28128,     0.28228,     0.28328,     0.28428,     0.28529,     0.28629,     0.28729,\n",
              "           0.28829,     0.28929,     0.29029,     0.29129,     0.29229,     0.29329,     0.29429,      0.2953,      0.2963,      0.2973,      0.2983,      0.2993,      0.3003,      0.3013,      0.3023,      0.3033,      0.3043,     0.30531,     0.30631,     0.30731,     0.30831,     0.30931,     0.31031,     0.31131,\n",
              "           0.31231,     0.31331,     0.31431,     0.31532,     0.31632,     0.31732,     0.31832,     0.31932,     0.32032,     0.32132,     0.32232,     0.32332,     0.32432,     0.32533,     0.32633,     0.32733,     0.32833,     0.32933,     0.33033,     0.33133,     0.33233,     0.33333,     0.33433,     0.33534,\n",
              "           0.33634,     0.33734,     0.33834,     0.33934,     0.34034,     0.34134,     0.34234,     0.34334,     0.34434,     0.34535,     0.34635,     0.34735,     0.34835,     0.34935,     0.35035,     0.35135,     0.35235,     0.35335,     0.35435,     0.35536,     0.35636,     0.35736,     0.35836,     0.35936,\n",
              "           0.36036,     0.36136,     0.36236,     0.36336,     0.36436,     0.36537,     0.36637,     0.36737,     0.36837,     0.36937,     0.37037,     0.37137,     0.37237,     0.37337,     0.37437,     0.37538,     0.37638,     0.37738,     0.37838,     0.37938,     0.38038,     0.38138,     0.38238,     0.38338,\n",
              "           0.38438,     0.38539,     0.38639,     0.38739,     0.38839,     0.38939,     0.39039,     0.39139,     0.39239,     0.39339,     0.39439,      0.3954,      0.3964,      0.3974,      0.3984,      0.3994,      0.4004,      0.4014,      0.4024,      0.4034,      0.4044,     0.40541,     0.40641,     0.40741,\n",
              "           0.40841,     0.40941,     0.41041,     0.41141,     0.41241,     0.41341,     0.41441,     0.41542,     0.41642,     0.41742,     0.41842,     0.41942,     0.42042,     0.42142,     0.42242,     0.42342,     0.42442,     0.42543,     0.42643,     0.42743,     0.42843,     0.42943,     0.43043,     0.43143,\n",
              "           0.43243,     0.43343,     0.43443,     0.43544,     0.43644,     0.43744,     0.43844,     0.43944,     0.44044,     0.44144,     0.44244,     0.44344,     0.44444,     0.44545,     0.44645,     0.44745,     0.44845,     0.44945,     0.45045,     0.45145,     0.45245,     0.45345,     0.45445,     0.45546,\n",
              "           0.45646,     0.45746,     0.45846,     0.45946,     0.46046,     0.46146,     0.46246,     0.46346,     0.46446,     0.46547,     0.46647,     0.46747,     0.46847,     0.46947,     0.47047,     0.47147,     0.47247,     0.47347,     0.47447,     0.47548,     0.47648,     0.47748,     0.47848,     0.47948,\n",
              "           0.48048,     0.48148,     0.48248,     0.48348,     0.48448,     0.48549,     0.48649,     0.48749,     0.48849,     0.48949,     0.49049,     0.49149,     0.49249,     0.49349,     0.49449,      0.4955,      0.4965,      0.4975,      0.4985,      0.4995,      0.5005,      0.5015,      0.5025,      0.5035,\n",
              "            0.5045,     0.50551,     0.50651,     0.50751,     0.50851,     0.50951,     0.51051,     0.51151,     0.51251,     0.51351,     0.51451,     0.51552,     0.51652,     0.51752,     0.51852,     0.51952,     0.52052,     0.52152,     0.52252,     0.52352,     0.52452,     0.52553,     0.52653,     0.52753,\n",
              "           0.52853,     0.52953,     0.53053,     0.53153,     0.53253,     0.53353,     0.53453,     0.53554,     0.53654,     0.53754,     0.53854,     0.53954,     0.54054,     0.54154,     0.54254,     0.54354,     0.54454,     0.54555,     0.54655,     0.54755,     0.54855,     0.54955,     0.55055,     0.55155,\n",
              "           0.55255,     0.55355,     0.55455,     0.55556,     0.55656,     0.55756,     0.55856,     0.55956,     0.56056,     0.56156,     0.56256,     0.56356,     0.56456,     0.56557,     0.56657,     0.56757,     0.56857,     0.56957,     0.57057,     0.57157,     0.57257,     0.57357,     0.57457,     0.57558,\n",
              "           0.57658,     0.57758,     0.57858,     0.57958,     0.58058,     0.58158,     0.58258,     0.58358,     0.58458,     0.58559,     0.58659,     0.58759,     0.58859,     0.58959,     0.59059,     0.59159,     0.59259,     0.59359,     0.59459,      0.5956,      0.5966,      0.5976,      0.5986,      0.5996,\n",
              "            0.6006,      0.6016,      0.6026,      0.6036,      0.6046,     0.60561,     0.60661,     0.60761,     0.60861,     0.60961,     0.61061,     0.61161,     0.61261,     0.61361,     0.61461,     0.61562,     0.61662,     0.61762,     0.61862,     0.61962,     0.62062,     0.62162,     0.62262,     0.62362,\n",
              "           0.62462,     0.62563,     0.62663,     0.62763,     0.62863,     0.62963,     0.63063,     0.63163,     0.63263,     0.63363,     0.63463,     0.63564,     0.63664,     0.63764,     0.63864,     0.63964,     0.64064,     0.64164,     0.64264,     0.64364,     0.64464,     0.64565,     0.64665,     0.64765,\n",
              "           0.64865,     0.64965,     0.65065,     0.65165,     0.65265,     0.65365,     0.65465,     0.65566,     0.65666,     0.65766,     0.65866,     0.65966,     0.66066,     0.66166,     0.66266,     0.66366,     0.66466,     0.66567,     0.66667,     0.66767,     0.66867,     0.66967,     0.67067,     0.67167,\n",
              "           0.67267,     0.67367,     0.67467,     0.67568,     0.67668,     0.67768,     0.67868,     0.67968,     0.68068,     0.68168,     0.68268,     0.68368,     0.68468,     0.68569,     0.68669,     0.68769,     0.68869,     0.68969,     0.69069,     0.69169,     0.69269,     0.69369,     0.69469,      0.6957,\n",
              "            0.6967,      0.6977,      0.6987,      0.6997,      0.7007,      0.7017,      0.7027,      0.7037,      0.7047,     0.70571,     0.70671,     0.70771,     0.70871,     0.70971,     0.71071,     0.71171,     0.71271,     0.71371,     0.71471,     0.71572,     0.71672,     0.71772,     0.71872,     0.71972,\n",
              "           0.72072,     0.72172,     0.72272,     0.72372,     0.72472,     0.72573,     0.72673,     0.72773,     0.72873,     0.72973,     0.73073,     0.73173,     0.73273,     0.73373,     0.73473,     0.73574,     0.73674,     0.73774,     0.73874,     0.73974,     0.74074,     0.74174,     0.74274,     0.74374,\n",
              "           0.74474,     0.74575,     0.74675,     0.74775,     0.74875,     0.74975,     0.75075,     0.75175,     0.75275,     0.75375,     0.75475,     0.75576,     0.75676,     0.75776,     0.75876,     0.75976,     0.76076,     0.76176,     0.76276,     0.76376,     0.76476,     0.76577,     0.76677,     0.76777,\n",
              "           0.76877,     0.76977,     0.77077,     0.77177,     0.77277,     0.77377,     0.77477,     0.77578,     0.77678,     0.77778,     0.77878,     0.77978,     0.78078,     0.78178,     0.78278,     0.78378,     0.78478,     0.78579,     0.78679,     0.78779,     0.78879,     0.78979,     0.79079,     0.79179,\n",
              "           0.79279,     0.79379,     0.79479,      0.7958,      0.7968,      0.7978,      0.7988,      0.7998,      0.8008,      0.8018,      0.8028,      0.8038,      0.8048,     0.80581,     0.80681,     0.80781,     0.80881,     0.80981,     0.81081,     0.81181,     0.81281,     0.81381,     0.81481,     0.81582,\n",
              "           0.81682,     0.81782,     0.81882,     0.81982,     0.82082,     0.82182,     0.82282,     0.82382,     0.82482,     0.82583,     0.82683,     0.82783,     0.82883,     0.82983,     0.83083,     0.83183,     0.83283,     0.83383,     0.83483,     0.83584,     0.83684,     0.83784,     0.83884,     0.83984,\n",
              "           0.84084,     0.84184,     0.84284,     0.84384,     0.84484,     0.84585,     0.84685,     0.84785,     0.84885,     0.84985,     0.85085,     0.85185,     0.85285,     0.85385,     0.85485,     0.85586,     0.85686,     0.85786,     0.85886,     0.85986,     0.86086,     0.86186,     0.86286,     0.86386,\n",
              "           0.86486,     0.86587,     0.86687,     0.86787,     0.86887,     0.86987,     0.87087,     0.87187,     0.87287,     0.87387,     0.87487,     0.87588,     0.87688,     0.87788,     0.87888,     0.87988,     0.88088,     0.88188,     0.88288,     0.88388,     0.88488,     0.88589,     0.88689,     0.88789,\n",
              "           0.88889,     0.88989,     0.89089,     0.89189,     0.89289,     0.89389,     0.89489,      0.8959,      0.8969,      0.8979,      0.8989,      0.8999,      0.9009,      0.9019,      0.9029,      0.9039,      0.9049,     0.90591,     0.90691,     0.90791,     0.90891,     0.90991,     0.91091,     0.91191,\n",
              "           0.91291,     0.91391,     0.91491,     0.91592,     0.91692,     0.91792,     0.91892,     0.91992,     0.92092,     0.92192,     0.92292,     0.92392,     0.92492,     0.92593,     0.92693,     0.92793,     0.92893,     0.92993,     0.93093,     0.93193,     0.93293,     0.93393,     0.93493,     0.93594,\n",
              "           0.93694,     0.93794,     0.93894,     0.93994,     0.94094,     0.94194,     0.94294,     0.94394,     0.94494,     0.94595,     0.94695,     0.94795,     0.94895,     0.94995,     0.95095,     0.95195,     0.95295,     0.95395,     0.95495,     0.95596,     0.95696,     0.95796,     0.95896,     0.95996,\n",
              "           0.96096,     0.96196,     0.96296,     0.96396,     0.96496,     0.96597,     0.96697,     0.96797,     0.96897,     0.96997,     0.97097,     0.97197,     0.97297,     0.97397,     0.97497,     0.97598,     0.97698,     0.97798,     0.97898,     0.97998,     0.98098,     0.98198,     0.98298,     0.98398,\n",
              "           0.98498,     0.98599,     0.98699,     0.98799,     0.98899,     0.98999,     0.99099,     0.99199,     0.99299,     0.99399,     0.99499,       0.996,       0.997,       0.998,       0.999,           1]), array([[    0.18889,     0.18889,      0.4075,     0.50759,     0.56973,     0.61702,     0.64916,     0.66124,     0.68098,     0.68791,     0.70555,     0.72486,     0.73135,     0.73857,     0.74548,     0.75805,     0.76422,     0.77058,     0.78698,     0.80616,     0.82015,     0.82205,     0.82395,\n",
              "            0.83353,     0.83567,       0.837,     0.83752,     0.83804,     0.83856,     0.83908,      0.8396,     0.84012,     0.84064,     0.84069,     0.83938,     0.83806,     0.83675,     0.83543,     0.83672,     0.83904,     0.83982,     0.84033,     0.84085,     0.84136,     0.84188,     0.84239,\n",
              "             0.8429,     0.84342,     0.83792,     0.83926,      0.8406,     0.84194,     0.84299,       0.844,     0.84501,     0.84601,     0.84796,     0.85103,     0.85458,     0.85677,     0.85839,     0.86001,     0.86092,     0.86173,     0.86254,     0.86335,     0.86415,     0.86503,     0.86655,\n",
              "            0.86806,     0.86957,      0.8711,     0.87263,     0.87415,     0.87454,     0.87478,     0.87503,     0.87528,     0.87553,     0.87577,     0.87602,     0.87627,     0.87651,     0.87676,       0.877,     0.87725,      0.8775,     0.87774,     0.87799,     0.87823,     0.87848,     0.87872,\n",
              "            0.87897,     0.87926,     0.87963,        0.88,     0.88037,     0.88073,      0.8811,     0.88147,     0.88184,      0.8822,     0.88257,     0.88294,      0.8833,     0.88367,     0.88448,     0.88784,     0.88931,     0.88993,     0.89054,     0.89115,     0.89176,     0.89238,     0.89299,\n",
              "             0.8936,     0.89412,     0.89459,     0.89506,     0.89552,     0.89599,     0.89646,     0.89692,     0.89739,     0.89785,     0.89831,     0.89878,     0.89904,     0.89924,     0.89944,     0.89964,     0.89985,     0.90005,     0.90025,     0.90046,     0.90066,     0.90086,     0.90106,\n",
              "            0.90127,     0.90147,     0.90167,     0.90187,     0.90207,     0.90228,     0.90248,     0.90268,     0.90288,     0.90308,     0.90328,     0.90348,     0.90369,     0.90389,     0.90446,     0.90523,       0.906,     0.90677,     0.90753,     0.90829,     0.90906,     0.90933,     0.90958,\n",
              "            0.90983,     0.91009,     0.91034,     0.91059,     0.91084,     0.91109,     0.91134,     0.91159,     0.91184,     0.91209,     0.91234,     0.91259,     0.91284,     0.91309,     0.91334,     0.91359,     0.91384,     0.91409,     0.91427,     0.91417,     0.91408,     0.91399,      0.9139,\n",
              "            0.91381,     0.91372,     0.91363,     0.91354,     0.91345,     0.91336,     0.91326,     0.91317,     0.91308,     0.91299,      0.9129,     0.91281,     0.91272,     0.91263,     0.91254,     0.91244,     0.91235,     0.91226,     0.91217,     0.91208,     0.91199,      0.9119,     0.91181,\n",
              "            0.91171,     0.91162,     0.91153,     0.91144,     0.91135,     0.91126,     0.91117,     0.91107,     0.91098,     0.91089,      0.9108,     0.91071,     0.91062,     0.91053,     0.91043,     0.91034,     0.91025,     0.91016,     0.91007,     0.90998,     0.90989,     0.90979,      0.9097,\n",
              "            0.90961,     0.90952,     0.90943,     0.90934,     0.90924,     0.90915,     0.90906,     0.90897,     0.90888,     0.90879,     0.90869,      0.9086,     0.90851,     0.90842,     0.90833,     0.90824,     0.90814,     0.90805,     0.90838,     0.90873,     0.90909,     0.90944,     0.90979,\n",
              "            0.91015,      0.9105,     0.91085,      0.9112,     0.91156,     0.91191,     0.91226,     0.91261,     0.91296,     0.91334,     0.91412,      0.9149,     0.91568,     0.91646,     0.91723,     0.91801,     0.91858,     0.91848,     0.91838,     0.91829,     0.91819,     0.91809,     0.91799,\n",
              "            0.91789,     0.91779,     0.91769,     0.91759,     0.91749,     0.91739,      0.9173,      0.9172,      0.9171,       0.917,      0.9169,      0.9168,      0.9167,      0.9166,      0.9165,      0.9164,      0.9163,     0.91621,     0.91611,     0.91601,     0.91591,     0.91581,     0.91571,\n",
              "            0.91561,     0.91551,     0.91541,     0.91531,     0.91521,     0.91511,     0.91501,     0.91491,     0.91481,     0.91472,     0.91462,     0.91452,     0.91442,     0.91432,     0.91422,     0.91412,     0.91402,     0.91392,     0.91382,     0.91372,     0.91362,     0.91352,     0.91342,\n",
              "            0.91332,     0.91322,     0.91312,     0.91302,     0.91292,     0.91282,     0.91272,     0.91262,     0.91252,     0.91242,     0.91232,     0.91217,     0.91197,     0.91177,     0.91157,     0.91137,     0.91117,     0.91097,     0.91077,     0.91057,     0.91037,     0.91017,     0.90997,\n",
              "            0.90977,     0.90957,     0.90937,     0.90917,     0.90897,     0.90877,     0.90857,     0.90837,     0.90817,     0.90797,     0.90777,     0.90757,     0.90737,     0.90717,     0.90696,     0.90676,     0.90656,     0.90636,     0.90616,     0.90596,     0.90679,     0.90826,     0.90973,\n",
              "            0.91118,     0.91113,     0.91101,     0.91089,     0.91077,     0.91065,     0.91053,     0.91041,     0.91029,     0.91017,     0.91006,     0.90994,     0.90982,      0.9097,     0.90958,     0.90946,     0.90934,     0.90922,      0.9091,     0.90898,     0.90886,     0.90874,     0.90862,\n",
              "             0.9085,     0.90838,     0.90826,     0.90814,     0.90802,      0.9079,     0.90778,     0.90766,     0.90755,     0.90743,     0.90731,     0.90719,     0.90707,     0.90695,     0.90683,     0.90671,     0.90659,     0.90647,     0.90635,     0.90623,     0.90611,     0.90599,     0.90587,\n",
              "            0.90575,     0.90563,     0.90551,     0.90539,     0.90527,     0.90514,     0.90502,      0.9049,     0.90478,     0.90498,     0.90526,     0.90553,      0.9058,     0.90607,     0.90634,     0.90662,     0.90689,     0.90716,     0.90743,      0.9077,     0.90797,     0.90824,     0.90851,\n",
              "            0.90878,     0.90905,     0.90932,     0.90959,     0.90986,     0.91013,     0.91007,     0.90994,     0.90981,     0.90968,     0.90954,     0.90941,     0.90928,     0.90915,     0.90902,     0.90888,     0.90875,     0.90862,     0.90849,     0.90835,     0.90822,     0.90809,     0.90796,\n",
              "            0.90783,     0.90769,     0.90756,     0.90743,      0.9073,     0.90716,     0.90703,      0.9069,     0.90677,     0.90663,      0.9065,     0.90637,     0.90623,      0.9061,     0.90597,     0.90584,      0.9057,     0.90557,     0.90544,      0.9053,     0.90517,     0.90504,     0.90491,\n",
              "            0.90477,     0.90464,     0.90451,     0.90437,     0.90424,     0.90411,     0.90397,     0.90384,     0.90371,     0.90352,     0.90323,     0.90294,     0.90264,     0.90235,     0.90205,     0.90175,     0.90146,     0.90116,     0.90087,     0.90057,     0.90028,     0.89998,     0.89968,\n",
              "            0.89939,     0.89909,     0.89879,      0.8985,      0.8982,      0.8979,      0.8976,     0.89731,     0.89701,     0.89708,     0.89721,     0.89734,     0.89747,      0.8976,     0.89773,     0.89786,     0.89799,     0.89812,     0.89825,     0.89838,     0.89851,     0.89864,     0.89876,\n",
              "            0.89889,     0.89902,     0.89915,     0.89928,     0.89941,     0.89954,     0.89967,      0.8998,     0.89993,     0.90005,     0.90018,     0.90031,     0.90044,     0.90057,      0.9007,     0.90083,     0.90095,     0.90108,     0.90121,     0.90134,     0.90147,      0.9016,     0.90173,\n",
              "            0.90185,     0.90198,     0.90211,     0.90224,     0.90237,     0.90207,     0.90121,     0.90035,     0.89949,     0.89863,     0.89776,      0.8969,     0.89603,     0.89557,     0.89535,     0.89513,     0.89491,     0.89468,     0.89446,     0.89424,     0.89402,      0.8938,     0.89358,\n",
              "            0.89336,     0.89314,     0.89291,     0.89269,     0.89247,     0.89225,     0.89203,     0.89181,     0.89158,     0.89136,     0.89114,     0.89092,     0.89069,     0.89047,     0.89025,     0.89003,      0.8898,     0.88958,     0.88936,     0.88914,     0.88891,     0.88868,     0.88844,\n",
              "            0.88821,     0.88798,     0.88774,     0.88751,     0.88727,     0.88704,      0.8868,     0.88656,     0.88633,     0.88609,     0.88586,     0.88562,     0.88539,     0.88515,     0.88492,     0.88468,     0.88444,     0.88421,     0.88397,     0.88373,      0.8835,     0.88326,     0.88302,\n",
              "            0.88279,     0.88255,     0.88231,     0.88208,     0.88174,     0.88134,     0.88095,     0.88055,     0.88015,     0.87976,     0.87936,     0.87896,     0.87857,     0.87817,     0.87777,     0.87737,     0.87697,     0.87657,     0.87617,     0.87577,     0.87537,     0.87498,      0.8746,\n",
              "            0.87422,     0.87384,     0.87346,     0.87307,     0.87269,     0.87231,     0.87193,     0.87155,     0.87117,     0.87079,      0.8704,     0.87002,     0.86964,     0.86926,     0.86887,     0.86849,     0.86811,     0.86776,     0.86745,     0.86714,     0.86683,     0.86652,      0.8662,\n",
              "            0.86589,     0.86558,     0.86527,     0.86496,     0.86464,     0.86433,     0.86402,     0.86371,     0.86339,     0.86308,     0.86277,     0.86245,     0.86214,     0.86183,     0.86151,      0.8612,     0.86088,     0.86125,     0.86205,     0.86286,     0.86366,     0.86446,     0.86526,\n",
              "            0.86606,     0.86801,     0.87029,     0.87171,     0.87145,      0.8712,     0.87094,     0.87069,     0.87043,     0.87017,     0.86992,     0.86966,      0.8694,     0.86915,     0.86889,     0.86863,     0.86838,     0.86812,     0.86786,      0.8676,     0.86735,     0.86709,     0.86683,\n",
              "            0.86657,     0.86631,     0.86606,      0.8658,     0.86554,     0.86528,     0.86502,     0.86476,     0.86447,     0.86331,     0.86215,     0.86099,     0.85983,     0.85866,     0.85749,     0.85617,     0.85479,     0.85339,       0.852,      0.8506,      0.8495,     0.84896,     0.84843,\n",
              "             0.8479,     0.84736,     0.84683,      0.8463,     0.84576,     0.84523,     0.84469,     0.84415,     0.84362,     0.84308,     0.84254,     0.84174,     0.83978,     0.83782,     0.83585,      0.8342,     0.83336,     0.83253,     0.83169,     0.83086,     0.83002,     0.82918,     0.82834,\n",
              "            0.82749,     0.82667,     0.82708,     0.82749,      0.8279,     0.82831,     0.82872,     0.82912,     0.82953,     0.82994,     0.83034,     0.83075,     0.83115,     0.83155,     0.83196,     0.83028,     0.82488,     0.82363,     0.82285,     0.82207,     0.82129,     0.82051,     0.81973,\n",
              "            0.81895,     0.81817,     0.81738,      0.8166,     0.80806,     0.80707,     0.80608,     0.80509,      0.8041,     0.80311,     0.80212,     0.80112,     0.80013,     0.80031,     0.80067,     0.80103,     0.80139,     0.80175,      0.8021,     0.80246,     0.80282,     0.80317,     0.80353,\n",
              "            0.80388,     0.80424,     0.80459,     0.80494,      0.8053,     0.80466,     0.80124,     0.79781,     0.79244,     0.78747,     0.78395,     0.78042,     0.77897,      0.7777,     0.77643,     0.77515,     0.77387,     0.77259,     0.77128,     0.76964,       0.768,     0.76635,      0.7647,\n",
              "            0.76304,     0.76193,     0.76101,      0.7601,     0.75918,     0.75826,     0.75734,     0.75642,      0.7555,     0.75457,     0.75365,     0.75062,     0.74751,     0.74424,     0.73795,     0.72973,     0.72568,     0.72528,     0.72487,     0.72447,     0.72407,     0.72366,     0.72326,\n",
              "            0.72285,     0.72245,     0.72204,     0.72164,     0.72123,     0.72082,     0.72042,     0.72001,      0.7196,      0.7192,     0.71879,     0.71838,     0.71797,     0.71757,     0.71716,     0.71675,     0.71588,     0.71307,     0.71024,      0.7074,      0.7058,     0.70455,      0.7033,\n",
              "            0.70204,     0.70079,     0.69953,     0.69827,       0.697,     0.68536,     0.68364,     0.68191,     0.68019,     0.67845,      0.6654,     0.65522,       0.648,     0.64402,     0.64158,     0.63913,     0.63667,     0.62845,     0.61794,     0.60004,     0.59536,     0.59064,     0.58302,\n",
              "              0.575,     0.56689,     0.55868,     0.54825,     0.53785,     0.52985,     0.52899,     0.52813,     0.52727,     0.52641,     0.52555,     0.52468,     0.52382,     0.52295,     0.52208,     0.52122,     0.52035,     0.51948,     0.51861,     0.51773,     0.51597,     0.51305,     0.51011,\n",
              "            0.50717,     0.50417,     0.50035,     0.49651,     0.49265,      0.4826,     0.47636,     0.47405,     0.47174,     0.46941,     0.46708,     0.46475,     0.43049,     0.42312,     0.41354,     0.39557,     0.36429,     0.35198,     0.33859,     0.31378,     0.29112,     0.27833,     0.25589,\n",
              "            0.24419,     0.23681,     0.22937,     0.22475,     0.22161,     0.21847,     0.21531,     0.21214,     0.20896,     0.20693,     0.20519,     0.20344,     0.20169,     0.19994,     0.19818,     0.19642,     0.19466,     0.19289,     0.19112,     0.18877,     0.17894,       0.169,     0.15896,\n",
              "            0.14707,     0.12942,     0.12419,     0.11894,     0.11365,     0.10678,    0.096036,    0.086413,    0.079111,    0.071753,    0.065997,    0.062561,    0.059114,    0.055654,    0.052182,    0.048697,     0.04527,    0.042737,    0.040197,    0.037651,    0.035097,    0.032538,    0.029971,\n",
              "           0.027398,    0.024818,           0,           0,           0,           0,           0,           0,           0,           0,           0]]), 'Confidence', 'F1'], [array([          0,    0.001001,    0.002002,    0.003003,    0.004004,    0.005005,    0.006006,    0.007007,    0.008008,    0.009009,     0.01001,    0.011011,    0.012012,    0.013013,    0.014014,    0.015015,    0.016016,    0.017017,    0.018018,    0.019019,     0.02002,    0.021021,    0.022022,    0.023023,\n",
              "          0.024024,    0.025025,    0.026026,    0.027027,    0.028028,    0.029029,     0.03003,    0.031031,    0.032032,    0.033033,    0.034034,    0.035035,    0.036036,    0.037037,    0.038038,    0.039039,     0.04004,    0.041041,    0.042042,    0.043043,    0.044044,    0.045045,    0.046046,    0.047047,\n",
              "          0.048048,    0.049049,     0.05005,    0.051051,    0.052052,    0.053053,    0.054054,    0.055055,    0.056056,    0.057057,    0.058058,    0.059059,     0.06006,    0.061061,    0.062062,    0.063063,    0.064064,    0.065065,    0.066066,    0.067067,    0.068068,    0.069069,     0.07007,    0.071071,\n",
              "          0.072072,    0.073073,    0.074074,    0.075075,    0.076076,    0.077077,    0.078078,    0.079079,     0.08008,    0.081081,    0.082082,    0.083083,    0.084084,    0.085085,    0.086086,    0.087087,    0.088088,    0.089089,     0.09009,    0.091091,    0.092092,    0.093093,    0.094094,    0.095095,\n",
              "          0.096096,    0.097097,    0.098098,    0.099099,      0.1001,      0.1011,      0.1021,      0.1031,      0.1041,     0.10511,     0.10611,     0.10711,     0.10811,     0.10911,     0.11011,     0.11111,     0.11211,     0.11311,     0.11411,     0.11512,     0.11612,     0.11712,     0.11812,     0.11912,\n",
              "           0.12012,     0.12112,     0.12212,     0.12312,     0.12412,     0.12513,     0.12613,     0.12713,     0.12813,     0.12913,     0.13013,     0.13113,     0.13213,     0.13313,     0.13413,     0.13514,     0.13614,     0.13714,     0.13814,     0.13914,     0.14014,     0.14114,     0.14214,     0.14314,\n",
              "           0.14414,     0.14515,     0.14615,     0.14715,     0.14815,     0.14915,     0.15015,     0.15115,     0.15215,     0.15315,     0.15415,     0.15516,     0.15616,     0.15716,     0.15816,     0.15916,     0.16016,     0.16116,     0.16216,     0.16316,     0.16416,     0.16517,     0.16617,     0.16717,\n",
              "           0.16817,     0.16917,     0.17017,     0.17117,     0.17217,     0.17317,     0.17417,     0.17518,     0.17618,     0.17718,     0.17818,     0.17918,     0.18018,     0.18118,     0.18218,     0.18318,     0.18418,     0.18519,     0.18619,     0.18719,     0.18819,     0.18919,     0.19019,     0.19119,\n",
              "           0.19219,     0.19319,     0.19419,      0.1952,      0.1962,      0.1972,      0.1982,      0.1992,      0.2002,      0.2012,      0.2022,      0.2032,      0.2042,     0.20521,     0.20621,     0.20721,     0.20821,     0.20921,     0.21021,     0.21121,     0.21221,     0.21321,     0.21421,     0.21522,\n",
              "           0.21622,     0.21722,     0.21822,     0.21922,     0.22022,     0.22122,     0.22222,     0.22322,     0.22422,     0.22523,     0.22623,     0.22723,     0.22823,     0.22923,     0.23023,     0.23123,     0.23223,     0.23323,     0.23423,     0.23524,     0.23624,     0.23724,     0.23824,     0.23924,\n",
              "           0.24024,     0.24124,     0.24224,     0.24324,     0.24424,     0.24525,     0.24625,     0.24725,     0.24825,     0.24925,     0.25025,     0.25125,     0.25225,     0.25325,     0.25425,     0.25526,     0.25626,     0.25726,     0.25826,     0.25926,     0.26026,     0.26126,     0.26226,     0.26326,\n",
              "           0.26426,     0.26527,     0.26627,     0.26727,     0.26827,     0.26927,     0.27027,     0.27127,     0.27227,     0.27327,     0.27427,     0.27528,     0.27628,     0.27728,     0.27828,     0.27928,     0.28028,     0.28128,     0.28228,     0.28328,     0.28428,     0.28529,     0.28629,     0.28729,\n",
              "           0.28829,     0.28929,     0.29029,     0.29129,     0.29229,     0.29329,     0.29429,      0.2953,      0.2963,      0.2973,      0.2983,      0.2993,      0.3003,      0.3013,      0.3023,      0.3033,      0.3043,     0.30531,     0.30631,     0.30731,     0.30831,     0.30931,     0.31031,     0.31131,\n",
              "           0.31231,     0.31331,     0.31431,     0.31532,     0.31632,     0.31732,     0.31832,     0.31932,     0.32032,     0.32132,     0.32232,     0.32332,     0.32432,     0.32533,     0.32633,     0.32733,     0.32833,     0.32933,     0.33033,     0.33133,     0.33233,     0.33333,     0.33433,     0.33534,\n",
              "           0.33634,     0.33734,     0.33834,     0.33934,     0.34034,     0.34134,     0.34234,     0.34334,     0.34434,     0.34535,     0.34635,     0.34735,     0.34835,     0.34935,     0.35035,     0.35135,     0.35235,     0.35335,     0.35435,     0.35536,     0.35636,     0.35736,     0.35836,     0.35936,\n",
              "           0.36036,     0.36136,     0.36236,     0.36336,     0.36436,     0.36537,     0.36637,     0.36737,     0.36837,     0.36937,     0.37037,     0.37137,     0.37237,     0.37337,     0.37437,     0.37538,     0.37638,     0.37738,     0.37838,     0.37938,     0.38038,     0.38138,     0.38238,     0.38338,\n",
              "           0.38438,     0.38539,     0.38639,     0.38739,     0.38839,     0.38939,     0.39039,     0.39139,     0.39239,     0.39339,     0.39439,      0.3954,      0.3964,      0.3974,      0.3984,      0.3994,      0.4004,      0.4014,      0.4024,      0.4034,      0.4044,     0.40541,     0.40641,     0.40741,\n",
              "           0.40841,     0.40941,     0.41041,     0.41141,     0.41241,     0.41341,     0.41441,     0.41542,     0.41642,     0.41742,     0.41842,     0.41942,     0.42042,     0.42142,     0.42242,     0.42342,     0.42442,     0.42543,     0.42643,     0.42743,     0.42843,     0.42943,     0.43043,     0.43143,\n",
              "           0.43243,     0.43343,     0.43443,     0.43544,     0.43644,     0.43744,     0.43844,     0.43944,     0.44044,     0.44144,     0.44244,     0.44344,     0.44444,     0.44545,     0.44645,     0.44745,     0.44845,     0.44945,     0.45045,     0.45145,     0.45245,     0.45345,     0.45445,     0.45546,\n",
              "           0.45646,     0.45746,     0.45846,     0.45946,     0.46046,     0.46146,     0.46246,     0.46346,     0.46446,     0.46547,     0.46647,     0.46747,     0.46847,     0.46947,     0.47047,     0.47147,     0.47247,     0.47347,     0.47447,     0.47548,     0.47648,     0.47748,     0.47848,     0.47948,\n",
              "           0.48048,     0.48148,     0.48248,     0.48348,     0.48448,     0.48549,     0.48649,     0.48749,     0.48849,     0.48949,     0.49049,     0.49149,     0.49249,     0.49349,     0.49449,      0.4955,      0.4965,      0.4975,      0.4985,      0.4995,      0.5005,      0.5015,      0.5025,      0.5035,\n",
              "            0.5045,     0.50551,     0.50651,     0.50751,     0.50851,     0.50951,     0.51051,     0.51151,     0.51251,     0.51351,     0.51451,     0.51552,     0.51652,     0.51752,     0.51852,     0.51952,     0.52052,     0.52152,     0.52252,     0.52352,     0.52452,     0.52553,     0.52653,     0.52753,\n",
              "           0.52853,     0.52953,     0.53053,     0.53153,     0.53253,     0.53353,     0.53453,     0.53554,     0.53654,     0.53754,     0.53854,     0.53954,     0.54054,     0.54154,     0.54254,     0.54354,     0.54454,     0.54555,     0.54655,     0.54755,     0.54855,     0.54955,     0.55055,     0.55155,\n",
              "           0.55255,     0.55355,     0.55455,     0.55556,     0.55656,     0.55756,     0.55856,     0.55956,     0.56056,     0.56156,     0.56256,     0.56356,     0.56456,     0.56557,     0.56657,     0.56757,     0.56857,     0.56957,     0.57057,     0.57157,     0.57257,     0.57357,     0.57457,     0.57558,\n",
              "           0.57658,     0.57758,     0.57858,     0.57958,     0.58058,     0.58158,     0.58258,     0.58358,     0.58458,     0.58559,     0.58659,     0.58759,     0.58859,     0.58959,     0.59059,     0.59159,     0.59259,     0.59359,     0.59459,      0.5956,      0.5966,      0.5976,      0.5986,      0.5996,\n",
              "            0.6006,      0.6016,      0.6026,      0.6036,      0.6046,     0.60561,     0.60661,     0.60761,     0.60861,     0.60961,     0.61061,     0.61161,     0.61261,     0.61361,     0.61461,     0.61562,     0.61662,     0.61762,     0.61862,     0.61962,     0.62062,     0.62162,     0.62262,     0.62362,\n",
              "           0.62462,     0.62563,     0.62663,     0.62763,     0.62863,     0.62963,     0.63063,     0.63163,     0.63263,     0.63363,     0.63463,     0.63564,     0.63664,     0.63764,     0.63864,     0.63964,     0.64064,     0.64164,     0.64264,     0.64364,     0.64464,     0.64565,     0.64665,     0.64765,\n",
              "           0.64865,     0.64965,     0.65065,     0.65165,     0.65265,     0.65365,     0.65465,     0.65566,     0.65666,     0.65766,     0.65866,     0.65966,     0.66066,     0.66166,     0.66266,     0.66366,     0.66466,     0.66567,     0.66667,     0.66767,     0.66867,     0.66967,     0.67067,     0.67167,\n",
              "           0.67267,     0.67367,     0.67467,     0.67568,     0.67668,     0.67768,     0.67868,     0.67968,     0.68068,     0.68168,     0.68268,     0.68368,     0.68468,     0.68569,     0.68669,     0.68769,     0.68869,     0.68969,     0.69069,     0.69169,     0.69269,     0.69369,     0.69469,      0.6957,\n",
              "            0.6967,      0.6977,      0.6987,      0.6997,      0.7007,      0.7017,      0.7027,      0.7037,      0.7047,     0.70571,     0.70671,     0.70771,     0.70871,     0.70971,     0.71071,     0.71171,     0.71271,     0.71371,     0.71471,     0.71572,     0.71672,     0.71772,     0.71872,     0.71972,\n",
              "           0.72072,     0.72172,     0.72272,     0.72372,     0.72472,     0.72573,     0.72673,     0.72773,     0.72873,     0.72973,     0.73073,     0.73173,     0.73273,     0.73373,     0.73473,     0.73574,     0.73674,     0.73774,     0.73874,     0.73974,     0.74074,     0.74174,     0.74274,     0.74374,\n",
              "           0.74474,     0.74575,     0.74675,     0.74775,     0.74875,     0.74975,     0.75075,     0.75175,     0.75275,     0.75375,     0.75475,     0.75576,     0.75676,     0.75776,     0.75876,     0.75976,     0.76076,     0.76176,     0.76276,     0.76376,     0.76476,     0.76577,     0.76677,     0.76777,\n",
              "           0.76877,     0.76977,     0.77077,     0.77177,     0.77277,     0.77377,     0.77477,     0.77578,     0.77678,     0.77778,     0.77878,     0.77978,     0.78078,     0.78178,     0.78278,     0.78378,     0.78478,     0.78579,     0.78679,     0.78779,     0.78879,     0.78979,     0.79079,     0.79179,\n",
              "           0.79279,     0.79379,     0.79479,      0.7958,      0.7968,      0.7978,      0.7988,      0.7998,      0.8008,      0.8018,      0.8028,      0.8038,      0.8048,     0.80581,     0.80681,     0.80781,     0.80881,     0.80981,     0.81081,     0.81181,     0.81281,     0.81381,     0.81481,     0.81582,\n",
              "           0.81682,     0.81782,     0.81882,     0.81982,     0.82082,     0.82182,     0.82282,     0.82382,     0.82482,     0.82583,     0.82683,     0.82783,     0.82883,     0.82983,     0.83083,     0.83183,     0.83283,     0.83383,     0.83483,     0.83584,     0.83684,     0.83784,     0.83884,     0.83984,\n",
              "           0.84084,     0.84184,     0.84284,     0.84384,     0.84484,     0.84585,     0.84685,     0.84785,     0.84885,     0.84985,     0.85085,     0.85185,     0.85285,     0.85385,     0.85485,     0.85586,     0.85686,     0.85786,     0.85886,     0.85986,     0.86086,     0.86186,     0.86286,     0.86386,\n",
              "           0.86486,     0.86587,     0.86687,     0.86787,     0.86887,     0.86987,     0.87087,     0.87187,     0.87287,     0.87387,     0.87487,     0.87588,     0.87688,     0.87788,     0.87888,     0.87988,     0.88088,     0.88188,     0.88288,     0.88388,     0.88488,     0.88589,     0.88689,     0.88789,\n",
              "           0.88889,     0.88989,     0.89089,     0.89189,     0.89289,     0.89389,     0.89489,      0.8959,      0.8969,      0.8979,      0.8989,      0.8999,      0.9009,      0.9019,      0.9029,      0.9039,      0.9049,     0.90591,     0.90691,     0.90791,     0.90891,     0.90991,     0.91091,     0.91191,\n",
              "           0.91291,     0.91391,     0.91491,     0.91592,     0.91692,     0.91792,     0.91892,     0.91992,     0.92092,     0.92192,     0.92292,     0.92392,     0.92492,     0.92593,     0.92693,     0.92793,     0.92893,     0.92993,     0.93093,     0.93193,     0.93293,     0.93393,     0.93493,     0.93594,\n",
              "           0.93694,     0.93794,     0.93894,     0.93994,     0.94094,     0.94194,     0.94294,     0.94394,     0.94494,     0.94595,     0.94695,     0.94795,     0.94895,     0.94995,     0.95095,     0.95195,     0.95295,     0.95395,     0.95495,     0.95596,     0.95696,     0.95796,     0.95896,     0.95996,\n",
              "           0.96096,     0.96196,     0.96296,     0.96396,     0.96496,     0.96597,     0.96697,     0.96797,     0.96897,     0.96997,     0.97097,     0.97197,     0.97297,     0.97397,     0.97497,     0.97598,     0.97698,     0.97798,     0.97898,     0.97998,     0.98098,     0.98198,     0.98298,     0.98398,\n",
              "           0.98498,     0.98599,     0.98699,     0.98799,     0.98899,     0.98999,     0.99099,     0.99199,     0.99299,     0.99399,     0.99499,       0.996,       0.997,       0.998,       0.999,           1]), array([[    0.10442,     0.10442,     0.25827,     0.34586,     0.40623,     0.45608,      0.4921,     0.50612,     0.52962,     0.53805,     0.55995,     0.58467,     0.59316,     0.60271,     0.61198,      0.6291,     0.63765,     0.64655,     0.66998,     0.69827,     0.71952,     0.72246,     0.72541,\n",
              "            0.74038,     0.74377,     0.74587,      0.7467,     0.74753,     0.74836,     0.74919,     0.75002,     0.75085,     0.75168,     0.75216,     0.75166,     0.75115,     0.75065,     0.75014,     0.75269,     0.75646,     0.75773,     0.75857,     0.75941,     0.76025,     0.76109,     0.76192,\n",
              "            0.76276,      0.7636,     0.76227,      0.7645,     0.76672,     0.76895,     0.77071,      0.7724,     0.77408,     0.77577,     0.77905,     0.78426,     0.79031,     0.79406,     0.79685,     0.79965,     0.80122,     0.80263,     0.80403,     0.80543,     0.80683,     0.80838,     0.81103,\n",
              "            0.81368,     0.81633,     0.81904,     0.82174,     0.82445,     0.82514,     0.82558,     0.82602,     0.82646,      0.8269,     0.82734,     0.82778,     0.82822,     0.82866,      0.8291,     0.82954,     0.82998,     0.83042,     0.83086,      0.8313,     0.83174,     0.83218,     0.83262,\n",
              "            0.83306,     0.83359,     0.83425,     0.83491,     0.83557,     0.83624,      0.8369,     0.83756,     0.83823,     0.83889,     0.83955,     0.84022,     0.84088,     0.84154,     0.84302,     0.84914,     0.85184,     0.85297,     0.85409,     0.85522,     0.85635,     0.85748,     0.85861,\n",
              "            0.85974,     0.86071,     0.86158,     0.86245,     0.86331,     0.86418,     0.86505,     0.86591,     0.86678,     0.86764,     0.86851,     0.86938,     0.86986,     0.87024,     0.87062,       0.871,     0.87138,     0.87177,     0.87215,     0.87253,     0.87291,     0.87329,     0.87367,\n",
              "            0.87405,     0.87443,     0.87481,     0.87519,     0.87557,     0.87595,     0.87633,     0.87671,     0.87709,     0.87747,     0.87785,     0.87823,     0.87861,     0.87899,     0.88009,     0.88154,       0.883,     0.88445,     0.88591,     0.88737,     0.88882,     0.88935,     0.88983,\n",
              "            0.89031,     0.89079,     0.89128,     0.89176,     0.89224,     0.89272,      0.8932,     0.89368,     0.89417,     0.89465,     0.89513,     0.89561,     0.89609,     0.89658,     0.89706,     0.89754,     0.89802,      0.8985,     0.89887,     0.89886,     0.89884,     0.89882,     0.89881,\n",
              "            0.89879,     0.89877,     0.89875,     0.89874,     0.89872,      0.8987,     0.89869,     0.89867,     0.89865,     0.89864,     0.89862,      0.8986,     0.89859,     0.89857,     0.89855,     0.89854,     0.89852,      0.8985,     0.89849,     0.89847,     0.89845,     0.89844,     0.89842,\n",
              "             0.8984,     0.89838,     0.89837,     0.89835,     0.89833,     0.89832,      0.8983,     0.89828,     0.89827,     0.89825,     0.89823,     0.89822,      0.8982,     0.89818,     0.89817,     0.89815,     0.89813,     0.89812,      0.8981,     0.89808,     0.89806,     0.89805,     0.89803,\n",
              "            0.89801,       0.898,     0.89798,     0.89796,     0.89795,     0.89793,     0.89791,      0.8979,     0.89788,     0.89786,     0.89785,     0.89783,     0.89781,      0.8978,     0.89778,     0.89776,     0.89775,     0.89773,     0.89837,     0.89907,     0.89976,     0.90045,     0.90115,\n",
              "            0.90184,     0.90254,     0.90323,     0.90392,     0.90462,     0.90531,       0.906,      0.9067,     0.90739,     0.90813,     0.90968,     0.91122,     0.91277,     0.91432,     0.91586,     0.91741,      0.9186,     0.91859,     0.91857,     0.91856,     0.91854,     0.91853,     0.91851,\n",
              "             0.9185,     0.91848,     0.91847,     0.91845,     0.91844,     0.91842,     0.91841,     0.91839,     0.91838,     0.91836,     0.91835,     0.91833,     0.91832,      0.9183,     0.91829,     0.91827,     0.91826,     0.91824,     0.91823,     0.91821,      0.9182,     0.91818,     0.91817,\n",
              "            0.91815,     0.91813,     0.91812,      0.9181,     0.91809,     0.91807,     0.91806,     0.91804,     0.91803,     0.91801,       0.918,     0.91798,     0.91797,     0.91795,     0.91794,     0.91792,     0.91791,     0.91789,     0.91788,     0.91786,     0.91785,     0.91783,     0.91782,\n",
              "             0.9178,     0.91779,     0.91777,     0.91776,     0.91774,     0.91773,     0.91771,      0.9177,     0.91768,     0.91767,     0.91765,     0.91763,      0.9176,     0.91757,     0.91754,     0.91751,     0.91748,     0.91745,     0.91741,     0.91738,     0.91735,     0.91732,     0.91729,\n",
              "            0.91726,     0.91723,      0.9172,     0.91717,     0.91714,     0.91711,     0.91708,     0.91705,     0.91702,     0.91699,     0.91695,     0.91692,     0.91689,     0.91686,     0.91683,      0.9168,     0.91677,     0.91674,     0.91671,     0.91668,     0.91853,     0.92155,     0.92457,\n",
              "            0.92759,      0.9277,     0.92768,     0.92766,     0.92765,     0.92763,     0.92761,      0.9276,     0.92758,     0.92756,     0.92755,     0.92753,     0.92752,      0.9275,     0.92748,     0.92747,     0.92745,     0.92743,     0.92742,      0.9274,     0.92739,     0.92737,     0.92735,\n",
              "            0.92734,     0.92732,      0.9273,     0.92729,     0.92727,     0.92726,     0.92724,     0.92722,     0.92721,     0.92719,     0.92717,     0.92716,     0.92714,     0.92713,     0.92711,     0.92709,     0.92708,     0.92706,     0.92704,     0.92703,     0.92701,       0.927,     0.92698,\n",
              "            0.92696,     0.92695,     0.92693,     0.92691,      0.9269,     0.92688,     0.92686,     0.92685,     0.92683,      0.9273,     0.92787,     0.92844,     0.92901,     0.92958,     0.93016,     0.93073,      0.9313,     0.93187,     0.93244,     0.93302,     0.93359,     0.93416,     0.93473,\n",
              "            0.93531,     0.93588,     0.93645,     0.93702,     0.93759,     0.93817,     0.93826,     0.93824,     0.93823,     0.93821,      0.9382,     0.93818,     0.93817,     0.93815,     0.93813,     0.93812,      0.9381,     0.93809,     0.93807,     0.93806,     0.93804,     0.93803,     0.93801,\n",
              "            0.93799,     0.93798,     0.93796,     0.93795,     0.93793,     0.93792,      0.9379,     0.93788,     0.93787,     0.93785,     0.93784,     0.93782,     0.93781,     0.93779,     0.93778,     0.93776,     0.93774,     0.93773,     0.93771,      0.9377,     0.93768,     0.93767,     0.93765,\n",
              "            0.93764,     0.93762,      0.9376,     0.93759,     0.93757,     0.93756,     0.93754,     0.93753,     0.93751,     0.93749,     0.93745,     0.93742,     0.93738,     0.93735,     0.93731,     0.93728,     0.93724,     0.93721,     0.93717,     0.93714,      0.9371,     0.93707,     0.93703,\n",
              "              0.937,     0.93696,     0.93693,     0.93689,     0.93685,     0.93682,     0.93678,     0.93675,     0.93671,     0.93695,     0.93724,     0.93752,      0.9378,     0.93809,     0.93837,     0.93865,     0.93893,     0.93922,      0.9395,     0.93978,     0.94007,     0.94035,     0.94063,\n",
              "            0.94092,      0.9412,     0.94148,     0.94176,     0.94205,     0.94233,     0.94261,      0.9429,     0.94318,     0.94346,     0.94375,     0.94403,     0.94431,     0.94459,     0.94488,     0.94516,     0.94544,     0.94573,     0.94601,     0.94629,     0.94658,     0.94686,     0.94714,\n",
              "            0.94742,     0.94771,     0.94799,     0.94827,     0.94856,     0.94868,      0.9486,     0.94851,     0.94843,     0.94834,     0.94825,     0.94817,     0.94808,     0.94804,     0.94802,     0.94799,     0.94797,     0.94795,     0.94793,      0.9479,     0.94788,     0.94786,     0.94784,\n",
              "            0.94782,     0.94779,     0.94777,     0.94775,     0.94773,      0.9477,     0.94768,     0.94766,     0.94764,     0.94762,     0.94759,     0.94757,     0.94755,     0.94753,      0.9475,     0.94748,     0.94746,     0.94744,     0.94742,     0.94739,     0.94737,     0.94735,     0.94732,\n",
              "             0.9473,     0.94728,     0.94725,     0.94723,      0.9472,     0.94718,     0.94716,     0.94713,     0.94711,     0.94708,     0.94706,     0.94704,     0.94701,     0.94699,     0.94696,     0.94694,     0.94692,     0.94689,     0.94687,     0.94684,     0.94682,      0.9468,     0.94677,\n",
              "            0.94675,     0.94672,      0.9467,     0.94668,     0.94664,      0.9466,     0.94656,     0.94652,     0.94648,     0.94644,     0.94639,     0.94635,     0.94631,     0.94627,     0.94623,     0.94619,     0.94615,     0.94611,     0.94607,     0.94603,     0.94598,     0.94594,      0.9459,\n",
              "            0.94586,     0.94582,     0.94578,     0.94574,      0.9457,     0.94566,     0.94562,     0.94558,     0.94554,      0.9455,     0.94546,     0.94542,     0.94538,     0.94534,      0.9453,     0.94526,     0.94522,     0.94519,     0.94515,     0.94512,     0.94509,     0.94506,     0.94502,\n",
              "            0.94499,     0.94496,     0.94492,     0.94489,     0.94486,     0.94482,     0.94479,     0.94476,     0.94472,     0.94469,     0.94466,     0.94462,     0.94459,     0.94456,     0.94452,     0.94449,     0.94446,     0.94562,     0.94756,     0.94951,     0.95146,     0.95341,     0.95536,\n",
              "             0.9573,     0.96208,     0.96769,     0.97142,     0.97141,     0.97139,     0.97138,     0.97137,     0.97135,     0.97134,     0.97132,     0.97131,     0.97129,     0.97128,     0.97126,     0.97125,     0.97123,     0.97122,      0.9712,     0.97119,     0.97117,     0.97116,     0.97115,\n",
              "            0.97113,     0.97112,      0.9711,     0.97109,     0.97107,     0.97106,     0.97104,     0.97103,     0.97101,     0.97094,     0.97088,     0.97081,     0.97074,     0.97068,     0.97061,     0.97053,     0.97045,     0.97037,     0.97029,      0.9702,     0.97014,     0.97011,     0.97007,\n",
              "            0.97004,     0.97001,     0.96998,     0.96995,     0.96991,     0.96988,     0.96985,     0.96982,     0.96979,     0.96975,     0.96972,     0.96967,     0.96955,     0.96944,     0.96932,     0.96922,     0.96916,     0.96911,     0.96906,     0.96901,     0.96896,      0.9689,     0.96885,\n",
              "             0.9688,     0.96877,      0.9699,     0.97102,     0.97215,     0.97327,      0.9744,     0.97553,     0.97665,     0.97778,      0.9789,     0.98003,     0.98116,     0.98228,     0.98341,     0.98406,     0.98389,     0.98385,     0.98382,      0.9838,     0.98377,     0.98374,     0.98372,\n",
              "            0.98369,     0.98367,     0.98364,     0.98362,     0.98333,     0.98329,     0.98326,     0.98323,     0.98319,     0.98316,     0.98312,     0.98309,     0.98306,       0.984,     0.98508,     0.98617,     0.98726,     0.98834,     0.98943,     0.99051,      0.9916,     0.99269,     0.99377,\n",
              "            0.99486,     0.99594,     0.99703,     0.99811,      0.9992,           1,           1,           1,           1,           1,           1,           1,           1,           1,           1,           1,           1,           1,           1,           1,           1,           1,           1,\n",
              "                  1,           1,           1,           1,           1,           1,           1,           1,           1,           1,           1,           1,           1,           1,           1,           1,           1,           1,           1,           1,           1,           1,           1,\n",
              "                  1,           1,           1,           1,           1,           1,           1,           1,           1,           1,           1,           1,           1,           1,           1,           1,           1,           1,           1,           1,           1,           1,           1,\n",
              "                  1,           1,           1,           1,           1,           1,           1,           1,           1,           1,           1,           1,           1,           1,           1,           1,           1,           1,           1,           1,           1,           1,           1,\n",
              "                  1,           1,           1,           1,           1,           1,           1,           1,           1,           1,           1,           1,           1,           1,           1,           1,           1,           1,           1,           1,           1,           1,           1,\n",
              "                  1,           1,           1,           1,           1,           1,           1,           1,           1,           1,           1,           1,           1,           1,           1,           1,           1,           1,           1,           1,           1,           1,           1,\n",
              "                  1,           1,           1,           1,           1,           1,           1,           1,           1,           1,           1,           1,           1,           1,           1,           1,           1,           1,           1,           1,           1,           1,           1,\n",
              "                  1,           1,           1,           1,           1,           1,           1,           1,           1,           1,           1,           1,           1,           1,           1,           1,           1,           1,           1,           1,           1,           1,           1,\n",
              "                  1,           1,           1,           1,           1,           1,           1,           1,           1,           1,           1]]), 'Confidence', 'Precision'], [array([          0,    0.001001,    0.002002,    0.003003,    0.004004,    0.005005,    0.006006,    0.007007,    0.008008,    0.009009,     0.01001,    0.011011,    0.012012,    0.013013,    0.014014,    0.015015,    0.016016,    0.017017,    0.018018,    0.019019,     0.02002,    0.021021,    0.022022,    0.023023,\n",
              "          0.024024,    0.025025,    0.026026,    0.027027,    0.028028,    0.029029,     0.03003,    0.031031,    0.032032,    0.033033,    0.034034,    0.035035,    0.036036,    0.037037,    0.038038,    0.039039,     0.04004,    0.041041,    0.042042,    0.043043,    0.044044,    0.045045,    0.046046,    0.047047,\n",
              "          0.048048,    0.049049,     0.05005,    0.051051,    0.052052,    0.053053,    0.054054,    0.055055,    0.056056,    0.057057,    0.058058,    0.059059,     0.06006,    0.061061,    0.062062,    0.063063,    0.064064,    0.065065,    0.066066,    0.067067,    0.068068,    0.069069,     0.07007,    0.071071,\n",
              "          0.072072,    0.073073,    0.074074,    0.075075,    0.076076,    0.077077,    0.078078,    0.079079,     0.08008,    0.081081,    0.082082,    0.083083,    0.084084,    0.085085,    0.086086,    0.087087,    0.088088,    0.089089,     0.09009,    0.091091,    0.092092,    0.093093,    0.094094,    0.095095,\n",
              "          0.096096,    0.097097,    0.098098,    0.099099,      0.1001,      0.1011,      0.1021,      0.1031,      0.1041,     0.10511,     0.10611,     0.10711,     0.10811,     0.10911,     0.11011,     0.11111,     0.11211,     0.11311,     0.11411,     0.11512,     0.11612,     0.11712,     0.11812,     0.11912,\n",
              "           0.12012,     0.12112,     0.12212,     0.12312,     0.12412,     0.12513,     0.12613,     0.12713,     0.12813,     0.12913,     0.13013,     0.13113,     0.13213,     0.13313,     0.13413,     0.13514,     0.13614,     0.13714,     0.13814,     0.13914,     0.14014,     0.14114,     0.14214,     0.14314,\n",
              "           0.14414,     0.14515,     0.14615,     0.14715,     0.14815,     0.14915,     0.15015,     0.15115,     0.15215,     0.15315,     0.15415,     0.15516,     0.15616,     0.15716,     0.15816,     0.15916,     0.16016,     0.16116,     0.16216,     0.16316,     0.16416,     0.16517,     0.16617,     0.16717,\n",
              "           0.16817,     0.16917,     0.17017,     0.17117,     0.17217,     0.17317,     0.17417,     0.17518,     0.17618,     0.17718,     0.17818,     0.17918,     0.18018,     0.18118,     0.18218,     0.18318,     0.18418,     0.18519,     0.18619,     0.18719,     0.18819,     0.18919,     0.19019,     0.19119,\n",
              "           0.19219,     0.19319,     0.19419,      0.1952,      0.1962,      0.1972,      0.1982,      0.1992,      0.2002,      0.2012,      0.2022,      0.2032,      0.2042,     0.20521,     0.20621,     0.20721,     0.20821,     0.20921,     0.21021,     0.21121,     0.21221,     0.21321,     0.21421,     0.21522,\n",
              "           0.21622,     0.21722,     0.21822,     0.21922,     0.22022,     0.22122,     0.22222,     0.22322,     0.22422,     0.22523,     0.22623,     0.22723,     0.22823,     0.22923,     0.23023,     0.23123,     0.23223,     0.23323,     0.23423,     0.23524,     0.23624,     0.23724,     0.23824,     0.23924,\n",
              "           0.24024,     0.24124,     0.24224,     0.24324,     0.24424,     0.24525,     0.24625,     0.24725,     0.24825,     0.24925,     0.25025,     0.25125,     0.25225,     0.25325,     0.25425,     0.25526,     0.25626,     0.25726,     0.25826,     0.25926,     0.26026,     0.26126,     0.26226,     0.26326,\n",
              "           0.26426,     0.26527,     0.26627,     0.26727,     0.26827,     0.26927,     0.27027,     0.27127,     0.27227,     0.27327,     0.27427,     0.27528,     0.27628,     0.27728,     0.27828,     0.27928,     0.28028,     0.28128,     0.28228,     0.28328,     0.28428,     0.28529,     0.28629,     0.28729,\n",
              "           0.28829,     0.28929,     0.29029,     0.29129,     0.29229,     0.29329,     0.29429,      0.2953,      0.2963,      0.2973,      0.2983,      0.2993,      0.3003,      0.3013,      0.3023,      0.3033,      0.3043,     0.30531,     0.30631,     0.30731,     0.30831,     0.30931,     0.31031,     0.31131,\n",
              "           0.31231,     0.31331,     0.31431,     0.31532,     0.31632,     0.31732,     0.31832,     0.31932,     0.32032,     0.32132,     0.32232,     0.32332,     0.32432,     0.32533,     0.32633,     0.32733,     0.32833,     0.32933,     0.33033,     0.33133,     0.33233,     0.33333,     0.33433,     0.33534,\n",
              "           0.33634,     0.33734,     0.33834,     0.33934,     0.34034,     0.34134,     0.34234,     0.34334,     0.34434,     0.34535,     0.34635,     0.34735,     0.34835,     0.34935,     0.35035,     0.35135,     0.35235,     0.35335,     0.35435,     0.35536,     0.35636,     0.35736,     0.35836,     0.35936,\n",
              "           0.36036,     0.36136,     0.36236,     0.36336,     0.36436,     0.36537,     0.36637,     0.36737,     0.36837,     0.36937,     0.37037,     0.37137,     0.37237,     0.37337,     0.37437,     0.37538,     0.37638,     0.37738,     0.37838,     0.37938,     0.38038,     0.38138,     0.38238,     0.38338,\n",
              "           0.38438,     0.38539,     0.38639,     0.38739,     0.38839,     0.38939,     0.39039,     0.39139,     0.39239,     0.39339,     0.39439,      0.3954,      0.3964,      0.3974,      0.3984,      0.3994,      0.4004,      0.4014,      0.4024,      0.4034,      0.4044,     0.40541,     0.40641,     0.40741,\n",
              "           0.40841,     0.40941,     0.41041,     0.41141,     0.41241,     0.41341,     0.41441,     0.41542,     0.41642,     0.41742,     0.41842,     0.41942,     0.42042,     0.42142,     0.42242,     0.42342,     0.42442,     0.42543,     0.42643,     0.42743,     0.42843,     0.42943,     0.43043,     0.43143,\n",
              "           0.43243,     0.43343,     0.43443,     0.43544,     0.43644,     0.43744,     0.43844,     0.43944,     0.44044,     0.44144,     0.44244,     0.44344,     0.44444,     0.44545,     0.44645,     0.44745,     0.44845,     0.44945,     0.45045,     0.45145,     0.45245,     0.45345,     0.45445,     0.45546,\n",
              "           0.45646,     0.45746,     0.45846,     0.45946,     0.46046,     0.46146,     0.46246,     0.46346,     0.46446,     0.46547,     0.46647,     0.46747,     0.46847,     0.46947,     0.47047,     0.47147,     0.47247,     0.47347,     0.47447,     0.47548,     0.47648,     0.47748,     0.47848,     0.47948,\n",
              "           0.48048,     0.48148,     0.48248,     0.48348,     0.48448,     0.48549,     0.48649,     0.48749,     0.48849,     0.48949,     0.49049,     0.49149,     0.49249,     0.49349,     0.49449,      0.4955,      0.4965,      0.4975,      0.4985,      0.4995,      0.5005,      0.5015,      0.5025,      0.5035,\n",
              "            0.5045,     0.50551,     0.50651,     0.50751,     0.50851,     0.50951,     0.51051,     0.51151,     0.51251,     0.51351,     0.51451,     0.51552,     0.51652,     0.51752,     0.51852,     0.51952,     0.52052,     0.52152,     0.52252,     0.52352,     0.52452,     0.52553,     0.52653,     0.52753,\n",
              "           0.52853,     0.52953,     0.53053,     0.53153,     0.53253,     0.53353,     0.53453,     0.53554,     0.53654,     0.53754,     0.53854,     0.53954,     0.54054,     0.54154,     0.54254,     0.54354,     0.54454,     0.54555,     0.54655,     0.54755,     0.54855,     0.54955,     0.55055,     0.55155,\n",
              "           0.55255,     0.55355,     0.55455,     0.55556,     0.55656,     0.55756,     0.55856,     0.55956,     0.56056,     0.56156,     0.56256,     0.56356,     0.56456,     0.56557,     0.56657,     0.56757,     0.56857,     0.56957,     0.57057,     0.57157,     0.57257,     0.57357,     0.57457,     0.57558,\n",
              "           0.57658,     0.57758,     0.57858,     0.57958,     0.58058,     0.58158,     0.58258,     0.58358,     0.58458,     0.58559,     0.58659,     0.58759,     0.58859,     0.58959,     0.59059,     0.59159,     0.59259,     0.59359,     0.59459,      0.5956,      0.5966,      0.5976,      0.5986,      0.5996,\n",
              "            0.6006,      0.6016,      0.6026,      0.6036,      0.6046,     0.60561,     0.60661,     0.60761,     0.60861,     0.60961,     0.61061,     0.61161,     0.61261,     0.61361,     0.61461,     0.61562,     0.61662,     0.61762,     0.61862,     0.61962,     0.62062,     0.62162,     0.62262,     0.62362,\n",
              "           0.62462,     0.62563,     0.62663,     0.62763,     0.62863,     0.62963,     0.63063,     0.63163,     0.63263,     0.63363,     0.63463,     0.63564,     0.63664,     0.63764,     0.63864,     0.63964,     0.64064,     0.64164,     0.64264,     0.64364,     0.64464,     0.64565,     0.64665,     0.64765,\n",
              "           0.64865,     0.64965,     0.65065,     0.65165,     0.65265,     0.65365,     0.65465,     0.65566,     0.65666,     0.65766,     0.65866,     0.65966,     0.66066,     0.66166,     0.66266,     0.66366,     0.66466,     0.66567,     0.66667,     0.66767,     0.66867,     0.66967,     0.67067,     0.67167,\n",
              "           0.67267,     0.67367,     0.67467,     0.67568,     0.67668,     0.67768,     0.67868,     0.67968,     0.68068,     0.68168,     0.68268,     0.68368,     0.68468,     0.68569,     0.68669,     0.68769,     0.68869,     0.68969,     0.69069,     0.69169,     0.69269,     0.69369,     0.69469,      0.6957,\n",
              "            0.6967,      0.6977,      0.6987,      0.6997,      0.7007,      0.7017,      0.7027,      0.7037,      0.7047,     0.70571,     0.70671,     0.70771,     0.70871,     0.70971,     0.71071,     0.71171,     0.71271,     0.71371,     0.71471,     0.71572,     0.71672,     0.71772,     0.71872,     0.71972,\n",
              "           0.72072,     0.72172,     0.72272,     0.72372,     0.72472,     0.72573,     0.72673,     0.72773,     0.72873,     0.72973,     0.73073,     0.73173,     0.73273,     0.73373,     0.73473,     0.73574,     0.73674,     0.73774,     0.73874,     0.73974,     0.74074,     0.74174,     0.74274,     0.74374,\n",
              "           0.74474,     0.74575,     0.74675,     0.74775,     0.74875,     0.74975,     0.75075,     0.75175,     0.75275,     0.75375,     0.75475,     0.75576,     0.75676,     0.75776,     0.75876,     0.75976,     0.76076,     0.76176,     0.76276,     0.76376,     0.76476,     0.76577,     0.76677,     0.76777,\n",
              "           0.76877,     0.76977,     0.77077,     0.77177,     0.77277,     0.77377,     0.77477,     0.77578,     0.77678,     0.77778,     0.77878,     0.77978,     0.78078,     0.78178,     0.78278,     0.78378,     0.78478,     0.78579,     0.78679,     0.78779,     0.78879,     0.78979,     0.79079,     0.79179,\n",
              "           0.79279,     0.79379,     0.79479,      0.7958,      0.7968,      0.7978,      0.7988,      0.7998,      0.8008,      0.8018,      0.8028,      0.8038,      0.8048,     0.80581,     0.80681,     0.80781,     0.80881,     0.80981,     0.81081,     0.81181,     0.81281,     0.81381,     0.81481,     0.81582,\n",
              "           0.81682,     0.81782,     0.81882,     0.81982,     0.82082,     0.82182,     0.82282,     0.82382,     0.82482,     0.82583,     0.82683,     0.82783,     0.82883,     0.82983,     0.83083,     0.83183,     0.83283,     0.83383,     0.83483,     0.83584,     0.83684,     0.83784,     0.83884,     0.83984,\n",
              "           0.84084,     0.84184,     0.84284,     0.84384,     0.84484,     0.84585,     0.84685,     0.84785,     0.84885,     0.84985,     0.85085,     0.85185,     0.85285,     0.85385,     0.85485,     0.85586,     0.85686,     0.85786,     0.85886,     0.85986,     0.86086,     0.86186,     0.86286,     0.86386,\n",
              "           0.86486,     0.86587,     0.86687,     0.86787,     0.86887,     0.86987,     0.87087,     0.87187,     0.87287,     0.87387,     0.87487,     0.87588,     0.87688,     0.87788,     0.87888,     0.87988,     0.88088,     0.88188,     0.88288,     0.88388,     0.88488,     0.88589,     0.88689,     0.88789,\n",
              "           0.88889,     0.88989,     0.89089,     0.89189,     0.89289,     0.89389,     0.89489,      0.8959,      0.8969,      0.8979,      0.8989,      0.8999,      0.9009,      0.9019,      0.9029,      0.9039,      0.9049,     0.90591,     0.90691,     0.90791,     0.90891,     0.90991,     0.91091,     0.91191,\n",
              "           0.91291,     0.91391,     0.91491,     0.91592,     0.91692,     0.91792,     0.91892,     0.91992,     0.92092,     0.92192,     0.92292,     0.92392,     0.92492,     0.92593,     0.92693,     0.92793,     0.92893,     0.92993,     0.93093,     0.93193,     0.93293,     0.93393,     0.93493,     0.93594,\n",
              "           0.93694,     0.93794,     0.93894,     0.93994,     0.94094,     0.94194,     0.94294,     0.94394,     0.94494,     0.94595,     0.94695,     0.94795,     0.94895,     0.94995,     0.95095,     0.95195,     0.95295,     0.95395,     0.95495,     0.95596,     0.95696,     0.95796,     0.95896,     0.95996,\n",
              "           0.96096,     0.96196,     0.96296,     0.96396,     0.96496,     0.96597,     0.96697,     0.96797,     0.96897,     0.96997,     0.97097,     0.97197,     0.97297,     0.97397,     0.97497,     0.97598,     0.97698,     0.97798,     0.97898,     0.97998,     0.98098,     0.98198,     0.98298,     0.98398,\n",
              "           0.98498,     0.98599,     0.98699,     0.98799,     0.98899,     0.98999,     0.99099,     0.99199,     0.99299,     0.99399,     0.99499,       0.996,       0.997,       0.998,       0.999,           1]), array([[    0.98837,     0.98837,     0.96512,     0.95349,     0.95349,     0.95349,     0.95349,     0.95349,     0.95349,     0.95349,     0.95349,     0.95349,     0.95349,     0.95349,     0.95349,     0.95349,     0.95349,     0.95349,     0.95349,     0.95349,     0.95349,     0.95349,     0.95349,\n",
              "            0.95349,     0.95349,     0.95349,     0.95349,     0.95349,     0.95349,     0.95349,     0.95349,     0.95349,     0.95349,     0.95283,     0.95027,     0.94771,     0.94515,     0.94259,     0.94186,     0.94186,     0.94186,     0.94186,     0.94186,     0.94186,     0.94186,     0.94186,\n",
              "            0.94186,     0.94186,     0.93023,     0.93023,     0.93023,     0.93023,     0.93023,     0.93023,     0.93023,     0.93023,     0.93023,     0.93023,     0.93023,     0.93023,     0.93023,     0.93023,     0.93023,     0.93023,     0.93023,     0.93023,     0.93023,     0.93023,     0.93023,\n",
              "            0.93023,     0.93023,     0.93023,     0.93023,     0.93023,     0.93023,     0.93023,     0.93023,     0.93023,     0.93023,     0.93023,     0.93023,     0.93023,     0.93023,     0.93023,     0.93023,     0.93023,     0.93023,     0.93023,     0.93023,     0.93023,     0.93023,     0.93023,\n",
              "            0.93023,     0.93023,     0.93023,     0.93023,     0.93023,     0.93023,     0.93023,     0.93023,     0.93023,     0.93023,     0.93023,     0.93023,     0.93023,     0.93023,     0.93023,     0.93023,     0.93023,     0.93023,     0.93023,     0.93023,     0.93023,     0.93023,     0.93023,\n",
              "            0.93023,     0.93023,     0.93023,     0.93023,     0.93023,     0.93023,     0.93023,     0.93023,     0.93023,     0.93023,     0.93023,     0.93023,     0.93023,     0.93023,     0.93023,     0.93023,     0.93023,     0.93023,     0.93023,     0.93023,     0.93023,     0.93023,     0.93023,\n",
              "            0.93023,     0.93023,     0.93023,     0.93023,     0.93023,     0.93023,     0.93023,     0.93023,     0.93023,     0.93023,     0.93023,     0.93023,     0.93023,     0.93023,     0.93023,     0.93023,     0.93023,     0.93023,     0.93023,     0.93023,     0.93023,     0.93023,     0.93023,\n",
              "            0.93023,     0.93023,     0.93023,     0.93023,     0.93023,     0.93023,     0.93023,     0.93023,     0.93023,     0.93023,     0.93023,     0.93023,     0.93023,     0.93023,     0.93023,     0.93023,     0.93023,     0.93023,     0.93019,     0.93002,     0.92985,     0.92968,     0.92951,\n",
              "            0.92934,     0.92917,       0.929,     0.92883,     0.92866,     0.92849,     0.92832,     0.92815,     0.92798,     0.92781,     0.92764,     0.92747,      0.9273,     0.92713,     0.92696,     0.92679,     0.92662,     0.92645,     0.92628,     0.92611,     0.92594,     0.92577,      0.9256,\n",
              "            0.92543,     0.92526,     0.92509,     0.92492,     0.92475,     0.92458,     0.92441,     0.92423,     0.92406,     0.92389,     0.92372,     0.92355,     0.92338,     0.92321,     0.92304,     0.92287,      0.9227,     0.92253,     0.92236,     0.92219,     0.92202,     0.92185,     0.92168,\n",
              "            0.92151,     0.92134,     0.92117,       0.921,     0.92083,     0.92066,     0.92049,     0.92032,     0.92015,     0.91998,     0.91981,     0.91964,     0.91947,      0.9193,     0.91913,     0.91896,     0.91879,     0.91862,      0.9186,      0.9186,      0.9186,      0.9186,      0.9186,\n",
              "             0.9186,      0.9186,      0.9186,      0.9186,      0.9186,      0.9186,      0.9186,      0.9186,      0.9186,      0.9186,      0.9186,      0.9186,      0.9186,      0.9186,      0.9186,      0.9186,     0.91856,     0.91838,      0.9182,     0.91802,     0.91783,     0.91765,     0.91747,\n",
              "            0.91728,      0.9171,     0.91692,     0.91674,     0.91655,     0.91637,     0.91619,     0.91601,     0.91582,     0.91564,     0.91546,     0.91528,     0.91509,     0.91491,     0.91473,     0.91454,     0.91436,     0.91418,       0.914,     0.91381,     0.91363,     0.91345,     0.91327,\n",
              "            0.91308,      0.9129,     0.91272,     0.91254,     0.91235,     0.91217,     0.91199,      0.9118,     0.91162,     0.91144,     0.91126,     0.91107,     0.91089,     0.91071,     0.91053,     0.91034,     0.91016,     0.90998,      0.9098,     0.90961,     0.90943,     0.90925,     0.90906,\n",
              "            0.90888,      0.9087,     0.90852,     0.90833,     0.90815,     0.90797,     0.90779,      0.9076,     0.90742,     0.90724,     0.90706,     0.90677,     0.90641,     0.90604,     0.90568,     0.90531,     0.90495,     0.90459,     0.90422,     0.90386,     0.90349,     0.90313,     0.90277,\n",
              "             0.9024,     0.90204,     0.90167,     0.90131,     0.90095,     0.90058,     0.90022,     0.89985,     0.89949,     0.89913,     0.89876,      0.8984,     0.89804,     0.89767,     0.89731,     0.89694,     0.89658,     0.89622,     0.89585,     0.89549,     0.89535,     0.89535,     0.89535,\n",
              "            0.89535,     0.89514,     0.89493,     0.89471,      0.8945,     0.89428,     0.89407,     0.89385,     0.89364,     0.89342,     0.89321,       0.893,     0.89278,     0.89257,     0.89235,     0.89214,     0.89192,     0.89171,     0.89149,     0.89128,     0.89106,     0.89085,     0.89063,\n",
              "            0.89042,      0.8902,     0.88999,     0.88977,     0.88956,     0.88934,     0.88913,     0.88891,      0.8887,     0.88849,     0.88827,     0.88806,     0.88784,     0.88763,     0.88741,      0.8872,     0.88698,     0.88677,     0.88655,     0.88634,     0.88612,     0.88591,     0.88569,\n",
              "            0.88548,     0.88526,     0.88505,     0.88483,     0.88462,      0.8844,     0.88419,     0.88398,     0.88376,     0.88372,     0.88372,     0.88372,     0.88372,     0.88372,     0.88372,     0.88372,     0.88372,     0.88372,     0.88372,     0.88372,     0.88372,     0.88372,     0.88372,\n",
              "            0.88372,     0.88372,     0.88372,     0.88372,     0.88372,     0.88372,     0.88353,     0.88329,     0.88306,     0.88282,     0.88259,     0.88236,     0.88212,     0.88189,     0.88165,     0.88142,     0.88118,     0.88095,     0.88071,     0.88048,     0.88024,     0.88001,     0.87977,\n",
              "            0.87954,      0.8793,     0.87907,     0.87883,      0.8786,     0.87836,     0.87813,     0.87789,     0.87766,     0.87742,     0.87719,     0.87695,     0.87672,     0.87648,     0.87625,     0.87601,     0.87578,     0.87554,     0.87531,     0.87507,     0.87484,      0.8746,     0.87437,\n",
              "            0.87414,      0.8739,     0.87367,     0.87343,      0.8732,     0.87296,     0.87273,     0.87249,     0.87226,     0.87194,     0.87142,      0.8709,     0.87038,     0.86986,     0.86934,     0.86883,     0.86831,     0.86779,     0.86727,     0.86675,     0.86623,     0.86572,      0.8652,\n",
              "            0.86468,     0.86416,     0.86364,     0.86313,     0.86261,     0.86209,     0.86157,     0.86105,     0.86053,     0.86047,     0.86047,     0.86047,     0.86047,     0.86047,     0.86047,     0.86047,     0.86047,     0.86047,     0.86047,     0.86047,     0.86047,     0.86047,     0.86047,\n",
              "            0.86047,     0.86047,     0.86047,     0.86047,     0.86047,     0.86047,     0.86047,     0.86047,     0.86047,     0.86047,     0.86047,     0.86047,     0.86047,     0.86047,     0.86047,     0.86047,     0.86047,     0.86047,     0.86047,     0.86047,     0.86047,     0.86047,     0.86047,\n",
              "            0.86047,     0.86047,     0.86047,     0.86047,     0.86047,     0.85983,     0.85834,     0.85685,     0.85536,     0.85387,     0.85238,     0.85089,      0.8494,      0.8486,     0.84822,     0.84784,     0.84747,     0.84709,     0.84671,     0.84633,     0.84595,     0.84557,      0.8452,\n",
              "            0.84482,     0.84444,     0.84406,     0.84368,      0.8433,     0.84293,     0.84255,     0.84217,     0.84179,     0.84141,     0.84103,     0.84066,     0.84028,      0.8399,     0.83952,     0.83914,     0.83876,     0.83839,     0.83801,     0.83763,     0.83725,     0.83685,     0.83646,\n",
              "            0.83606,     0.83566,     0.83527,     0.83487,     0.83447,     0.83407,     0.83368,     0.83328,     0.83288,     0.83248,     0.83209,     0.83169,     0.83129,      0.8309,      0.8305,      0.8301,      0.8297,     0.82931,     0.82891,     0.82851,     0.82811,     0.82772,     0.82732,\n",
              "            0.82692,     0.82652,     0.82613,     0.82573,     0.82517,     0.82451,     0.82384,     0.82318,     0.82252,     0.82186,     0.82119,     0.82053,     0.81987,     0.81921,     0.81855,     0.81788,     0.81722,     0.81656,      0.8159,     0.81524,     0.81457,     0.81391,     0.81329,\n",
              "            0.81266,     0.81203,      0.8114,     0.81078,     0.81015,     0.80952,     0.80889,     0.80827,     0.80764,     0.80701,     0.80639,     0.80576,     0.80513,      0.8045,     0.80388,     0.80325,     0.80262,     0.80206,     0.80155,     0.80104,     0.80054,     0.80003,     0.79952,\n",
              "            0.79901,     0.79851,       0.798,     0.79749,     0.79699,     0.79648,     0.79597,     0.79546,     0.79496,     0.79445,     0.79394,     0.79344,     0.79293,     0.79242,     0.79191,     0.79141,      0.7909,      0.7907,      0.7907,      0.7907,      0.7907,      0.7907,      0.7907,\n",
              "             0.7907,      0.7907,      0.7907,     0.79056,     0.79015,     0.78974,     0.78933,     0.78892,     0.78851,     0.78809,     0.78768,     0.78727,     0.78686,     0.78645,     0.78604,     0.78563,     0.78522,     0.78481,      0.7844,     0.78398,     0.78357,     0.78316,     0.78275,\n",
              "            0.78234,     0.78193,     0.78152,     0.78111,      0.7807,     0.78029,     0.77987,     0.77946,     0.77899,     0.77716,     0.77533,     0.77349,     0.77166,     0.76982,     0.76799,     0.76592,     0.76376,     0.76159,     0.75942,     0.75726,     0.75554,     0.75472,     0.75389,\n",
              "            0.75307,     0.75225,     0.75143,     0.75061,     0.74978,     0.74896,     0.74814,     0.74732,      0.7465,     0.74567,     0.74485,     0.74362,     0.74064,     0.73766,     0.73468,      0.7322,     0.73094,     0.72969,     0.72843,     0.72718,     0.72593,     0.72467,     0.72342,\n",
              "            0.72216,     0.72093,     0.72093,     0.72093,     0.72093,     0.72093,     0.72093,     0.72093,     0.72093,     0.72093,     0.72093,     0.72093,     0.72093,     0.72093,     0.72093,     0.71807,     0.71012,     0.70828,     0.70715,     0.70601,     0.70488,     0.70374,     0.70261,\n",
              "            0.70147,     0.70034,      0.6992,     0.69807,     0.68581,     0.68441,     0.68301,     0.68161,     0.68021,      0.6788,      0.6774,       0.676,      0.6746,     0.67442,     0.67442,     0.67442,     0.67442,     0.67442,     0.67442,     0.67442,     0.67442,     0.67442,     0.67442,\n",
              "            0.67442,     0.67442,     0.67442,     0.67442,     0.67442,     0.67316,     0.66839,     0.66363,     0.65624,     0.64944,     0.64467,     0.63991,     0.63796,     0.63626,     0.63456,     0.63286,     0.63115,     0.62945,      0.6277,     0.62554,     0.62337,      0.6212,     0.61904,\n",
              "            0.61687,     0.61541,     0.61422,     0.61303,     0.61184,     0.61064,     0.60945,     0.60826,     0.60707,     0.60588,     0.60468,     0.60079,     0.59682,     0.59267,     0.58472,     0.57446,     0.56947,     0.56897,     0.56847,     0.56798,     0.56748,     0.56698,     0.56649,\n",
              "            0.56599,     0.56549,       0.565,      0.5645,       0.564,     0.56351,     0.56301,     0.56251,     0.56202,     0.56152,     0.56102,     0.56053,     0.56003,     0.55953,     0.55904,     0.55854,     0.55749,     0.55408,     0.55068,     0.54727,     0.54535,     0.54386,     0.54237,\n",
              "            0.54088,     0.53939,      0.5379,     0.53641,     0.53492,     0.52132,     0.51934,     0.51735,     0.51536,     0.51338,     0.49858,     0.48723,     0.47929,     0.47494,     0.47229,     0.46965,       0.467,      0.4582,     0.44711,     0.42862,     0.42385,     0.41908,     0.41145,\n",
              "            0.40351,     0.39556,     0.38762,     0.37765,     0.36785,     0.36041,     0.35961,     0.35882,     0.35803,     0.35723,     0.35644,     0.35564,     0.35485,     0.35405,     0.35326,     0.35246,     0.35167,     0.35087,     0.35008,     0.34928,     0.34768,     0.34503,     0.34238,\n",
              "            0.33973,     0.33705,     0.33364,     0.33024,     0.32683,     0.31804,     0.31265,     0.31066,     0.30868,     0.30669,      0.3047,     0.30272,     0.27428,     0.26832,     0.26067,     0.24655,     0.22271,     0.21358,      0.2038,     0.18608,     0.17036,     0.16166,     0.14672,\n",
              "            0.13908,     0.13431,     0.12954,      0.1266,     0.12461,     0.12263,     0.12064,     0.11866,     0.11667,     0.11541,     0.11432,     0.11324,     0.11216,     0.11107,     0.10999,     0.10891,     0.10782,     0.10674,     0.10566,     0.10422,    0.098261,    0.092302,    0.086342,\n",
              "            0.07937,    0.069188,    0.066209,    0.063229,    0.060249,    0.056399,     0.05044,    0.045158,    0.041185,    0.037212,    0.034124,    0.032291,    0.030457,    0.028623,     0.02679,    0.024956,    0.023159,    0.021835,    0.020511,    0.019186,    0.017862,    0.016538,    0.015214,\n",
              "           0.013889,    0.012565,           0,           0,           0,           0,           0,           0,           0,           0,           0]]), 'Confidence', 'Recall']]\n",
              "fitness: np.float64(0.7459983859706438)\n",
              "keys: ['metrics/precision(B)', 'metrics/recall(B)', 'metrics/mAP50(B)', 'metrics/mAP50-95(B)']\n",
              "maps: array([    0.72377])\n",
              "names: {0: 'ball'}\n",
              "nt_per_class: array([86])\n",
              "nt_per_image: array([80])\n",
              "results_dict: {'metrics/precision(B)': np.float64(0.9181349171553111), 'metrics/recall(B)': np.float64(0.9129007382148253), 'metrics/mAP50(B)': np.float64(0.9460744365889681), 'metrics/mAP50-95(B)': np.float64(0.7237677136797188), 'fitness': np.float64(0.7459983859706438)}\n",
              "save_dir: PosixPath('runs/detect/train')\n",
              "speed: {'preprocess': 0.34743213749948154, 'inference': 2.6772526249999373, 'loss': 0.0004253874990922668, 'postprocess': 5.04056951249936}\n",
              "stats: {'tp': [], 'conf': [], 'pred_cls': [], 'target_cls': [], 'target_img': []}\n",
              "task: 'detect'"
            ]
          },
          "metadata": {},
          "execution_count": 9
        }
      ],
      "source": [
        "from ultralytics import YOLO\n",
        "\n",
        "model = YOLO(\"yolov8n.pt\")\n",
        "model.train(data=\"/content/basketball-1/data.yaml\", epochs=50)\n"
      ]
    },
    {
      "cell_type": "code",
      "execution_count": null,
      "metadata": {
        "colab": {
          "base_uri": "https://localhost:8080/"
        },
        "id": "kGvk7psA8V3L",
        "outputId": "164302d9-b034-423e-ca2e-72b5ef235bf1"
      },
      "outputs": [
        {
          "output_type": "stream",
          "name": "stdout",
          "text": [
            "Ultralytics 8.3.167 🚀 Python-3.11.13 torch-2.6.0+cu124 CUDA:0 (Tesla T4, 15095MiB)\n",
            "Model summary (fused): 72 layers, 3,005,843 parameters, 0 gradients, 8.1 GFLOPs\n",
            "\u001b[34m\u001b[1mval: \u001b[0mFast image access ✅ (ping: 0.0±0.0 ms, read: 832.7±373.2 MB/s, size: 22.3 KB)\n"
          ]
        },
        {
          "output_type": "stream",
          "name": "stderr",
          "text": [
            "\u001b[34m\u001b[1mval: \u001b[0mScanning /content/basketball-1/valid/labels.cache... 80 images, 0 backgrounds, 0 corrupt: 100%|██████████| 80/80 [00:00<?, ?it/s]"
          ]
        },
        {
          "output_type": "stream",
          "name": "stdout",
          "text": [
            "WARNING ⚠️ Box and segment counts should be equal, but got len(segments) = 1, len(boxes) = 86. To resolve this only boxes will be used and all segments will be removed. To avoid this please supply either a detect or segment dataset, not a detect-segment mixed dataset.\n"
          ]
        },
        {
          "output_type": "stream",
          "name": "stderr",
          "text": [
            "\n",
            "                 Class     Images  Instances      Box(P          R      mAP50  mAP50-95): 100%|██████████| 5/5 [00:02<00:00,  2.25it/s]\n"
          ]
        },
        {
          "output_type": "stream",
          "name": "stdout",
          "text": [
            "                   all         80         86      0.918      0.913      0.946      0.724\n",
            "Speed: 4.6ms preprocess, 7.6ms inference, 0.0ms loss, 2.1ms postprocess per image\n",
            "Results saved to \u001b[1mruns/detect/val\u001b[0m\n"
          ]
        },
        {
          "output_type": "execute_result",
          "data": {
            "text/plain": [
              "ultralytics.utils.metrics.DetMetrics object with attributes:\n",
              "\n",
              "ap_class_index: array([0])\n",
              "box: ultralytics.utils.metrics.Metric object\n",
              "confusion_matrix: <ultralytics.utils.metrics.ConfusionMatrix object at 0x7ab5b075f050>\n",
              "curves: ['Precision-Recall(B)', 'F1-Confidence(B)', 'Precision-Confidence(B)', 'Recall-Confidence(B)']\n",
              "curves_results: [[array([          0,    0.001001,    0.002002,    0.003003,    0.004004,    0.005005,    0.006006,    0.007007,    0.008008,    0.009009,     0.01001,    0.011011,    0.012012,    0.013013,    0.014014,    0.015015,    0.016016,    0.017017,    0.018018,    0.019019,     0.02002,    0.021021,    0.022022,    0.023023,\n",
              "          0.024024,    0.025025,    0.026026,    0.027027,    0.028028,    0.029029,     0.03003,    0.031031,    0.032032,    0.033033,    0.034034,    0.035035,    0.036036,    0.037037,    0.038038,    0.039039,     0.04004,    0.041041,    0.042042,    0.043043,    0.044044,    0.045045,    0.046046,    0.047047,\n",
              "          0.048048,    0.049049,     0.05005,    0.051051,    0.052052,    0.053053,    0.054054,    0.055055,    0.056056,    0.057057,    0.058058,    0.059059,     0.06006,    0.061061,    0.062062,    0.063063,    0.064064,    0.065065,    0.066066,    0.067067,    0.068068,    0.069069,     0.07007,    0.071071,\n",
              "          0.072072,    0.073073,    0.074074,    0.075075,    0.076076,    0.077077,    0.078078,    0.079079,     0.08008,    0.081081,    0.082082,    0.083083,    0.084084,    0.085085,    0.086086,    0.087087,    0.088088,    0.089089,     0.09009,    0.091091,    0.092092,    0.093093,    0.094094,    0.095095,\n",
              "          0.096096,    0.097097,    0.098098,    0.099099,      0.1001,      0.1011,      0.1021,      0.1031,      0.1041,     0.10511,     0.10611,     0.10711,     0.10811,     0.10911,     0.11011,     0.11111,     0.11211,     0.11311,     0.11411,     0.11512,     0.11612,     0.11712,     0.11812,     0.11912,\n",
              "           0.12012,     0.12112,     0.12212,     0.12312,     0.12412,     0.12513,     0.12613,     0.12713,     0.12813,     0.12913,     0.13013,     0.13113,     0.13213,     0.13313,     0.13413,     0.13514,     0.13614,     0.13714,     0.13814,     0.13914,     0.14014,     0.14114,     0.14214,     0.14314,\n",
              "           0.14414,     0.14515,     0.14615,     0.14715,     0.14815,     0.14915,     0.15015,     0.15115,     0.15215,     0.15315,     0.15415,     0.15516,     0.15616,     0.15716,     0.15816,     0.15916,     0.16016,     0.16116,     0.16216,     0.16316,     0.16416,     0.16517,     0.16617,     0.16717,\n",
              "           0.16817,     0.16917,     0.17017,     0.17117,     0.17217,     0.17317,     0.17417,     0.17518,     0.17618,     0.17718,     0.17818,     0.17918,     0.18018,     0.18118,     0.18218,     0.18318,     0.18418,     0.18519,     0.18619,     0.18719,     0.18819,     0.18919,     0.19019,     0.19119,\n",
              "           0.19219,     0.19319,     0.19419,      0.1952,      0.1962,      0.1972,      0.1982,      0.1992,      0.2002,      0.2012,      0.2022,      0.2032,      0.2042,     0.20521,     0.20621,     0.20721,     0.20821,     0.20921,     0.21021,     0.21121,     0.21221,     0.21321,     0.21421,     0.21522,\n",
              "           0.21622,     0.21722,     0.21822,     0.21922,     0.22022,     0.22122,     0.22222,     0.22322,     0.22422,     0.22523,     0.22623,     0.22723,     0.22823,     0.22923,     0.23023,     0.23123,     0.23223,     0.23323,     0.23423,     0.23524,     0.23624,     0.23724,     0.23824,     0.23924,\n",
              "           0.24024,     0.24124,     0.24224,     0.24324,     0.24424,     0.24525,     0.24625,     0.24725,     0.24825,     0.24925,     0.25025,     0.25125,     0.25225,     0.25325,     0.25425,     0.25526,     0.25626,     0.25726,     0.25826,     0.25926,     0.26026,     0.26126,     0.26226,     0.26326,\n",
              "           0.26426,     0.26527,     0.26627,     0.26727,     0.26827,     0.26927,     0.27027,     0.27127,     0.27227,     0.27327,     0.27427,     0.27528,     0.27628,     0.27728,     0.27828,     0.27928,     0.28028,     0.28128,     0.28228,     0.28328,     0.28428,     0.28529,     0.28629,     0.28729,\n",
              "           0.28829,     0.28929,     0.29029,     0.29129,     0.29229,     0.29329,     0.29429,      0.2953,      0.2963,      0.2973,      0.2983,      0.2993,      0.3003,      0.3013,      0.3023,      0.3033,      0.3043,     0.30531,     0.30631,     0.30731,     0.30831,     0.30931,     0.31031,     0.31131,\n",
              "           0.31231,     0.31331,     0.31431,     0.31532,     0.31632,     0.31732,     0.31832,     0.31932,     0.32032,     0.32132,     0.32232,     0.32332,     0.32432,     0.32533,     0.32633,     0.32733,     0.32833,     0.32933,     0.33033,     0.33133,     0.33233,     0.33333,     0.33433,     0.33534,\n",
              "           0.33634,     0.33734,     0.33834,     0.33934,     0.34034,     0.34134,     0.34234,     0.34334,     0.34434,     0.34535,     0.34635,     0.34735,     0.34835,     0.34935,     0.35035,     0.35135,     0.35235,     0.35335,     0.35435,     0.35536,     0.35636,     0.35736,     0.35836,     0.35936,\n",
              "           0.36036,     0.36136,     0.36236,     0.36336,     0.36436,     0.36537,     0.36637,     0.36737,     0.36837,     0.36937,     0.37037,     0.37137,     0.37237,     0.37337,     0.37437,     0.37538,     0.37638,     0.37738,     0.37838,     0.37938,     0.38038,     0.38138,     0.38238,     0.38338,\n",
              "           0.38438,     0.38539,     0.38639,     0.38739,     0.38839,     0.38939,     0.39039,     0.39139,     0.39239,     0.39339,     0.39439,      0.3954,      0.3964,      0.3974,      0.3984,      0.3994,      0.4004,      0.4014,      0.4024,      0.4034,      0.4044,     0.40541,     0.40641,     0.40741,\n",
              "           0.40841,     0.40941,     0.41041,     0.41141,     0.41241,     0.41341,     0.41441,     0.41542,     0.41642,     0.41742,     0.41842,     0.41942,     0.42042,     0.42142,     0.42242,     0.42342,     0.42442,     0.42543,     0.42643,     0.42743,     0.42843,     0.42943,     0.43043,     0.43143,\n",
              "           0.43243,     0.43343,     0.43443,     0.43544,     0.43644,     0.43744,     0.43844,     0.43944,     0.44044,     0.44144,     0.44244,     0.44344,     0.44444,     0.44545,     0.44645,     0.44745,     0.44845,     0.44945,     0.45045,     0.45145,     0.45245,     0.45345,     0.45445,     0.45546,\n",
              "           0.45646,     0.45746,     0.45846,     0.45946,     0.46046,     0.46146,     0.46246,     0.46346,     0.46446,     0.46547,     0.46647,     0.46747,     0.46847,     0.46947,     0.47047,     0.47147,     0.47247,     0.47347,     0.47447,     0.47548,     0.47648,     0.47748,     0.47848,     0.47948,\n",
              "           0.48048,     0.48148,     0.48248,     0.48348,     0.48448,     0.48549,     0.48649,     0.48749,     0.48849,     0.48949,     0.49049,     0.49149,     0.49249,     0.49349,     0.49449,      0.4955,      0.4965,      0.4975,      0.4985,      0.4995,      0.5005,      0.5015,      0.5025,      0.5035,\n",
              "            0.5045,     0.50551,     0.50651,     0.50751,     0.50851,     0.50951,     0.51051,     0.51151,     0.51251,     0.51351,     0.51451,     0.51552,     0.51652,     0.51752,     0.51852,     0.51952,     0.52052,     0.52152,     0.52252,     0.52352,     0.52452,     0.52553,     0.52653,     0.52753,\n",
              "           0.52853,     0.52953,     0.53053,     0.53153,     0.53253,     0.53353,     0.53453,     0.53554,     0.53654,     0.53754,     0.53854,     0.53954,     0.54054,     0.54154,     0.54254,     0.54354,     0.54454,     0.54555,     0.54655,     0.54755,     0.54855,     0.54955,     0.55055,     0.55155,\n",
              "           0.55255,     0.55355,     0.55455,     0.55556,     0.55656,     0.55756,     0.55856,     0.55956,     0.56056,     0.56156,     0.56256,     0.56356,     0.56456,     0.56557,     0.56657,     0.56757,     0.56857,     0.56957,     0.57057,     0.57157,     0.57257,     0.57357,     0.57457,     0.57558,\n",
              "           0.57658,     0.57758,     0.57858,     0.57958,     0.58058,     0.58158,     0.58258,     0.58358,     0.58458,     0.58559,     0.58659,     0.58759,     0.58859,     0.58959,     0.59059,     0.59159,     0.59259,     0.59359,     0.59459,      0.5956,      0.5966,      0.5976,      0.5986,      0.5996,\n",
              "            0.6006,      0.6016,      0.6026,      0.6036,      0.6046,     0.60561,     0.60661,     0.60761,     0.60861,     0.60961,     0.61061,     0.61161,     0.61261,     0.61361,     0.61461,     0.61562,     0.61662,     0.61762,     0.61862,     0.61962,     0.62062,     0.62162,     0.62262,     0.62362,\n",
              "           0.62462,     0.62563,     0.62663,     0.62763,     0.62863,     0.62963,     0.63063,     0.63163,     0.63263,     0.63363,     0.63463,     0.63564,     0.63664,     0.63764,     0.63864,     0.63964,     0.64064,     0.64164,     0.64264,     0.64364,     0.64464,     0.64565,     0.64665,     0.64765,\n",
              "           0.64865,     0.64965,     0.65065,     0.65165,     0.65265,     0.65365,     0.65465,     0.65566,     0.65666,     0.65766,     0.65866,     0.65966,     0.66066,     0.66166,     0.66266,     0.66366,     0.66466,     0.66567,     0.66667,     0.66767,     0.66867,     0.66967,     0.67067,     0.67167,\n",
              "           0.67267,     0.67367,     0.67467,     0.67568,     0.67668,     0.67768,     0.67868,     0.67968,     0.68068,     0.68168,     0.68268,     0.68368,     0.68468,     0.68569,     0.68669,     0.68769,     0.68869,     0.68969,     0.69069,     0.69169,     0.69269,     0.69369,     0.69469,      0.6957,\n",
              "            0.6967,      0.6977,      0.6987,      0.6997,      0.7007,      0.7017,      0.7027,      0.7037,      0.7047,     0.70571,     0.70671,     0.70771,     0.70871,     0.70971,     0.71071,     0.71171,     0.71271,     0.71371,     0.71471,     0.71572,     0.71672,     0.71772,     0.71872,     0.71972,\n",
              "           0.72072,     0.72172,     0.72272,     0.72372,     0.72472,     0.72573,     0.72673,     0.72773,     0.72873,     0.72973,     0.73073,     0.73173,     0.73273,     0.73373,     0.73473,     0.73574,     0.73674,     0.73774,     0.73874,     0.73974,     0.74074,     0.74174,     0.74274,     0.74374,\n",
              "           0.74474,     0.74575,     0.74675,     0.74775,     0.74875,     0.74975,     0.75075,     0.75175,     0.75275,     0.75375,     0.75475,     0.75576,     0.75676,     0.75776,     0.75876,     0.75976,     0.76076,     0.76176,     0.76276,     0.76376,     0.76476,     0.76577,     0.76677,     0.76777,\n",
              "           0.76877,     0.76977,     0.77077,     0.77177,     0.77277,     0.77377,     0.77477,     0.77578,     0.77678,     0.77778,     0.77878,     0.77978,     0.78078,     0.78178,     0.78278,     0.78378,     0.78478,     0.78579,     0.78679,     0.78779,     0.78879,     0.78979,     0.79079,     0.79179,\n",
              "           0.79279,     0.79379,     0.79479,      0.7958,      0.7968,      0.7978,      0.7988,      0.7998,      0.8008,      0.8018,      0.8028,      0.8038,      0.8048,     0.80581,     0.80681,     0.80781,     0.80881,     0.80981,     0.81081,     0.81181,     0.81281,     0.81381,     0.81481,     0.81582,\n",
              "           0.81682,     0.81782,     0.81882,     0.81982,     0.82082,     0.82182,     0.82282,     0.82382,     0.82482,     0.82583,     0.82683,     0.82783,     0.82883,     0.82983,     0.83083,     0.83183,     0.83283,     0.83383,     0.83483,     0.83584,     0.83684,     0.83784,     0.83884,     0.83984,\n",
              "           0.84084,     0.84184,     0.84284,     0.84384,     0.84484,     0.84585,     0.84685,     0.84785,     0.84885,     0.84985,     0.85085,     0.85185,     0.85285,     0.85385,     0.85485,     0.85586,     0.85686,     0.85786,     0.85886,     0.85986,     0.86086,     0.86186,     0.86286,     0.86386,\n",
              "           0.86486,     0.86587,     0.86687,     0.86787,     0.86887,     0.86987,     0.87087,     0.87187,     0.87287,     0.87387,     0.87487,     0.87588,     0.87688,     0.87788,     0.87888,     0.87988,     0.88088,     0.88188,     0.88288,     0.88388,     0.88488,     0.88589,     0.88689,     0.88789,\n",
              "           0.88889,     0.88989,     0.89089,     0.89189,     0.89289,     0.89389,     0.89489,      0.8959,      0.8969,      0.8979,      0.8989,      0.8999,      0.9009,      0.9019,      0.9029,      0.9039,      0.9049,     0.90591,     0.90691,     0.90791,     0.90891,     0.90991,     0.91091,     0.91191,\n",
              "           0.91291,     0.91391,     0.91491,     0.91592,     0.91692,     0.91792,     0.91892,     0.91992,     0.92092,     0.92192,     0.92292,     0.92392,     0.92492,     0.92593,     0.92693,     0.92793,     0.92893,     0.92993,     0.93093,     0.93193,     0.93293,     0.93393,     0.93493,     0.93594,\n",
              "           0.93694,     0.93794,     0.93894,     0.93994,     0.94094,     0.94194,     0.94294,     0.94394,     0.94494,     0.94595,     0.94695,     0.94795,     0.94895,     0.94995,     0.95095,     0.95195,     0.95295,     0.95395,     0.95495,     0.95596,     0.95696,     0.95796,     0.95896,     0.95996,\n",
              "           0.96096,     0.96196,     0.96296,     0.96396,     0.96496,     0.96597,     0.96697,     0.96797,     0.96897,     0.96997,     0.97097,     0.97197,     0.97297,     0.97397,     0.97497,     0.97598,     0.97698,     0.97798,     0.97898,     0.97998,     0.98098,     0.98198,     0.98298,     0.98398,\n",
              "           0.98498,     0.98599,     0.98699,     0.98799,     0.98899,     0.98999,     0.99099,     0.99199,     0.99299,     0.99399,     0.99499,       0.996,       0.997,       0.998,       0.999,           1]), array([[          1,           1,           1,           1,           1,           1,           1,           1,           1,           1,           1,           1,           1,           1,           1,           1,           1,           1,           1,           1,           1,           1,           1,\n",
              "                  1,           1,           1,           1,           1,           1,           1,           1,           1,           1,           1,           1,           1,           1,           1,           1,           1,           1,           1,           1,           1,           1,           1,\n",
              "                  1,           1,           1,           1,           1,           1,           1,           1,           1,           1,           1,           1,           1,           1,           1,           1,           1,           1,           1,           1,           1,           1,           1,\n",
              "                  1,           1,           1,           1,           1,           1,           1,           1,           1,           1,           1,           1,           1,           1,           1,           1,           1,           1,           1,           1,           1,           1,           1,\n",
              "                  1,           1,           1,           1,           1,           1,           1,           1,           1,           1,           1,           1,           1,           1,           1,           1,           1,           1,           1,           1,           1,           1,           1,\n",
              "                  1,           1,           1,           1,           1,           1,           1,           1,           1,           1,           1,           1,           1,           1,           1,           1,           1,           1,           1,           1,           1,           1,           1,\n",
              "                  1,           1,           1,           1,           1,           1,           1,           1,           1,           1,           1,           1,           1,           1,           1,           1,           1,           1,           1,           1,           1,           1,           1,\n",
              "                  1,           1,           1,           1,           1,           1,           1,           1,           1,           1,           1,           1,           1,           1,           1,           1,           1,           1,           1,           1,           1,           1,           1,\n",
              "                  1,           1,           1,           1,           1,           1,           1,           1,           1,           1,           1,           1,           1,           1,           1,           1,           1,           1,           1,           1,           1,           1,           1,\n",
              "                  1,           1,           1,           1,           1,           1,           1,           1,           1,           1,           1,           1,           1,           1,           1,           1,           1,           1,           1,           1,           1,           1,           1,\n",
              "                  1,           1,           1,           1,           1,           1,           1,           1,           1,           1,           1,           1,           1,           1,           1,           1,           1,           1,           1,           1,           1,           1,           1,\n",
              "                  1,           1,           1,           1,           1,           1,           1,           1,           1,           1,           1,           1,           1,           1,           1,           1,           1,           1,           1,           1,           1,           1,           1,\n",
              "                  1,           1,           1,           1,           1,           1,           1,           1,           1,           1,           1,           1,           1,           1,           1,           1,           1,           1,           1,           1,           1,           1,           1,\n",
              "                  1,           1,           1,           1,           1,           1,           1,           1,           1,           1,           1,           1,           1,           1,           1,           1,           1,           1,           1,           1,           1,           1,           1,\n",
              "                  1,           1,           1,           1,           1,           1,           1,           1,           1,           1,           1,           1,           1,           1,           1,           1,           1,           1,           1,           1,           1,           1,           1,\n",
              "                  1,           1,           1,           1,           1,           1,           1,           1,           1,           1,           1,           1,           1,           1,           1,           1,           1,           1,           1,           1,           1,           1,           1,\n",
              "                  1,           1,           1,           1,           1,           1,           1,           1,           1,           1,           1,           1,           1,           1,           1,           1,           1,           1,           1,           1,           1,           1,           1,\n",
              "                  1,           1,           1,           1,           1,           1,           1,           1,           1,           1,           1,           1,           1,           1,           1,           1,           1,           1,           1,           1,           1,           1,           1,\n",
              "                  1,           1,           1,           1,           1,           1,           1,           1,           1,           1,           1,           1,           1,           1,           1,           1,           1,           1,           1,           1,           1,           1,           1,\n",
              "                  1,           1,           1,           1,           1,           1,           1,           1,           1,           1,           1,           1,           1,           1,           1,           1,           1,           1,           1,           1,           1,           1,           1,\n",
              "                  1,           1,           1,           1,           1,           1,           1,           1,           1,           1,           1,           1,           1,           1,           1,           1,           1,           1,           1,           1,           1,           1,           1,\n",
              "                  1,           1,           1,           1,           1,           1,           1,           1,           1,           1,           1,           1,           1,           1,           1,           1,           1,           1,           1,           1,           1,           1,           1,\n",
              "                  1,           1,           1,           1,           1,           1,           1,           1,           1,           1,           1,           1,           1,           1,           1,           1,           1,           1,           1,           1,           1,           1,           1,\n",
              "                  1,           1,           1,           1,           1,           1,           1,           1,           1,           1,           1,           1,           1,           1,           1,           1,           1,           1,           1,           1,           1,           1,           1,\n",
              "                  1,           1,           1,           1,           1,           1,           1,           1,           1,           1,           1,           1,           1,           1,           1,           1,           1,           1,           1,           1,           1,           1,           1,\n",
              "                  1,           1,           1,           1,           1,           1,           1,           1,           1,           1,           1,           1,           1,           1,           1,           1,           1,           1,           1,           1,           1,           1,           1,\n",
              "                  1,           1,           1,           1,           1,           1,           1,           1,           1,           1,           1,           1,           1,           1,           1,           1,           1,           1,           1,           1,           1,           1,           1,\n",
              "                  1,           1,           1,           1,           1,           1,           1,           1,           1,           1,           1,           1,           1,           1,           1,           1,           1,           1,           1,           1,           1,           1,           1,\n",
              "                  1,           1,           1,           1,           1,           1,           1,           1,           1,           1,           1,           1,           1,           1,           1,           1,           1,           1,           1,           1,           1,           1,           1,\n",
              "                  1,           1,           1,           1,           1,           1,           1,     0.98413,     0.98413,     0.98413,     0.98413,     0.98413,     0.98413,     0.98413,     0.98413,     0.98413,     0.98413,     0.98413,     0.98413,     0.98413,     0.98413,     0.98413,     0.98413,\n",
              "            0.98413,     0.98413,     0.98413,     0.98413,     0.98413,     0.98413,     0.98413,     0.98413,     0.98413,     0.98413,     0.98413,     0.98413,     0.98413,     0.98413,     0.98413,     0.98413,     0.98413,     0.98413,     0.98413,     0.98413,     0.98413,     0.98413,     0.98413,\n",
              "            0.98413,     0.98413,     0.98413,     0.98413,     0.98413,     0.98413,     0.98413,     0.98413,     0.97143,     0.97143,     0.97143,     0.97143,     0.97143,     0.97143,     0.97143,     0.97143,     0.97143,     0.97143,     0.97143,     0.97143,     0.97143,     0.97143,     0.97143,\n",
              "            0.97143,     0.97143,     0.97143,     0.97143,     0.97143,     0.97143,     0.97143,     0.97143,     0.97143,     0.97143,     0.97143,     0.97143,     0.97143,     0.97143,     0.97143,     0.97143,     0.97143,     0.97143,     0.97143,     0.97143,     0.97143,     0.97143,     0.97143,\n",
              "            0.97143,     0.97143,     0.97143,     0.97143,     0.97143,     0.97143,     0.97143,     0.97143,     0.97143,     0.97143,     0.97143,     0.97143,     0.97143,     0.97143,     0.97143,     0.97143,     0.97143,     0.97143,     0.97143,     0.97143,     0.97143,     0.97143,     0.97143,\n",
              "            0.97143,     0.97143,     0.97143,     0.97143,     0.97143,     0.97143,     0.97143,     0.97143,     0.94872,     0.94872,     0.94872,     0.94872,     0.94872,     0.94872,     0.94872,     0.94872,     0.94872,     0.94872,     0.94872,     0.94872,     0.94872,     0.94872,     0.94872,\n",
              "            0.94872,     0.94872,     0.94872,     0.94872,     0.94872,     0.94872,     0.94872,     0.94872,     0.94872,     0.94872,     0.94872,     0.94872,     0.94872,     0.94872,     0.94872,     0.94872,     0.94872,     0.94872,     0.94872,     0.94872,     0.94872,     0.94872,     0.94872,\n",
              "            0.94872,     0.94872,     0.94872,     0.94872,     0.94872,     0.94872,     0.94872,     0.94872,     0.94872,     0.94872,     0.94872,     0.94872,     0.94872,     0.94872,     0.94872,     0.94872,     0.94872,     0.94872,     0.94872,     0.94872,     0.94872,     0.94872,     0.94872,\n",
              "            0.94872,     0.94872,     0.94872,     0.94872,     0.94872,     0.94872,     0.94872,     0.94872,     0.94872,     0.93827,     0.93827,     0.93827,     0.93827,     0.93827,     0.93827,     0.93827,     0.93827,     0.93827,     0.93827,     0.93827,     0.93827,     0.93827,     0.93827,\n",
              "            0.93827,     0.93827,     0.93827,     0.93827,     0.93827,     0.93827,     0.93827,     0.93827,     0.93827,     0.92771,     0.92771,     0.92771,     0.92771,     0.92771,     0.92771,     0.92771,     0.92771,     0.92771,     0.92771,     0.92771,     0.92771,      0.9186,      0.9186,\n",
              "             0.9186,      0.9186,      0.9186,      0.9186,      0.9186,      0.9186,      0.9186,      0.9186,      0.9186,      0.9186,      0.9186,      0.9186,      0.9186,      0.9186,      0.9186,      0.9186,      0.9186,      0.9186,      0.9186,      0.9186,      0.9186,     0.89888,     0.89888,\n",
              "            0.89888,     0.89888,     0.89888,     0.89888,     0.89888,     0.89888,     0.89888,     0.89888,     0.89888,     0.89888,     0.77885,     0.77885,     0.77885,     0.77885,     0.77885,     0.77885,     0.77885,     0.77885,     0.77885,     0.77885,     0.77885,     0.75926,     0.75926,\n",
              "            0.75926,     0.75926,     0.75926,     0.75926,     0.75926,     0.75926,     0.75926,     0.75926,     0.75926,     0.75926,     0.31439,     0.31439,     0.31439,     0.31439,     0.31439,     0.31439,     0.31439,     0.31439,     0.31439,     0.31439,     0.31439,     0.31439,     0.21429,\n",
              "            0.21429,     0.21429,     0.21429,     0.21429,     0.21429,     0.21429,     0.21429,     0.21429,     0.21429,     0.21429,     0.18085,     0.18085,     0.18085,     0.18085,     0.18085,     0.18085,     0.18085,     0.18085,     0.18085,     0.18085,     0.18085,     0.18085,    0.097564,\n",
              "           0.088695,    0.079825,    0.070956,    0.062086,    0.053217,    0.044347,    0.035478,    0.026608,    0.017739,   0.0088695,           0]]), 'Recall', 'Precision'], [array([          0,    0.001001,    0.002002,    0.003003,    0.004004,    0.005005,    0.006006,    0.007007,    0.008008,    0.009009,     0.01001,    0.011011,    0.012012,    0.013013,    0.014014,    0.015015,    0.016016,    0.017017,    0.018018,    0.019019,     0.02002,    0.021021,    0.022022,    0.023023,\n",
              "          0.024024,    0.025025,    0.026026,    0.027027,    0.028028,    0.029029,     0.03003,    0.031031,    0.032032,    0.033033,    0.034034,    0.035035,    0.036036,    0.037037,    0.038038,    0.039039,     0.04004,    0.041041,    0.042042,    0.043043,    0.044044,    0.045045,    0.046046,    0.047047,\n",
              "          0.048048,    0.049049,     0.05005,    0.051051,    0.052052,    0.053053,    0.054054,    0.055055,    0.056056,    0.057057,    0.058058,    0.059059,     0.06006,    0.061061,    0.062062,    0.063063,    0.064064,    0.065065,    0.066066,    0.067067,    0.068068,    0.069069,     0.07007,    0.071071,\n",
              "          0.072072,    0.073073,    0.074074,    0.075075,    0.076076,    0.077077,    0.078078,    0.079079,     0.08008,    0.081081,    0.082082,    0.083083,    0.084084,    0.085085,    0.086086,    0.087087,    0.088088,    0.089089,     0.09009,    0.091091,    0.092092,    0.093093,    0.094094,    0.095095,\n",
              "          0.096096,    0.097097,    0.098098,    0.099099,      0.1001,      0.1011,      0.1021,      0.1031,      0.1041,     0.10511,     0.10611,     0.10711,     0.10811,     0.10911,     0.11011,     0.11111,     0.11211,     0.11311,     0.11411,     0.11512,     0.11612,     0.11712,     0.11812,     0.11912,\n",
              "           0.12012,     0.12112,     0.12212,     0.12312,     0.12412,     0.12513,     0.12613,     0.12713,     0.12813,     0.12913,     0.13013,     0.13113,     0.13213,     0.13313,     0.13413,     0.13514,     0.13614,     0.13714,     0.13814,     0.13914,     0.14014,     0.14114,     0.14214,     0.14314,\n",
              "           0.14414,     0.14515,     0.14615,     0.14715,     0.14815,     0.14915,     0.15015,     0.15115,     0.15215,     0.15315,     0.15415,     0.15516,     0.15616,     0.15716,     0.15816,     0.15916,     0.16016,     0.16116,     0.16216,     0.16316,     0.16416,     0.16517,     0.16617,     0.16717,\n",
              "           0.16817,     0.16917,     0.17017,     0.17117,     0.17217,     0.17317,     0.17417,     0.17518,     0.17618,     0.17718,     0.17818,     0.17918,     0.18018,     0.18118,     0.18218,     0.18318,     0.18418,     0.18519,     0.18619,     0.18719,     0.18819,     0.18919,     0.19019,     0.19119,\n",
              "           0.19219,     0.19319,     0.19419,      0.1952,      0.1962,      0.1972,      0.1982,      0.1992,      0.2002,      0.2012,      0.2022,      0.2032,      0.2042,     0.20521,     0.20621,     0.20721,     0.20821,     0.20921,     0.21021,     0.21121,     0.21221,     0.21321,     0.21421,     0.21522,\n",
              "           0.21622,     0.21722,     0.21822,     0.21922,     0.22022,     0.22122,     0.22222,     0.22322,     0.22422,     0.22523,     0.22623,     0.22723,     0.22823,     0.22923,     0.23023,     0.23123,     0.23223,     0.23323,     0.23423,     0.23524,     0.23624,     0.23724,     0.23824,     0.23924,\n",
              "           0.24024,     0.24124,     0.24224,     0.24324,     0.24424,     0.24525,     0.24625,     0.24725,     0.24825,     0.24925,     0.25025,     0.25125,     0.25225,     0.25325,     0.25425,     0.25526,     0.25626,     0.25726,     0.25826,     0.25926,     0.26026,     0.26126,     0.26226,     0.26326,\n",
              "           0.26426,     0.26527,     0.26627,     0.26727,     0.26827,     0.26927,     0.27027,     0.27127,     0.27227,     0.27327,     0.27427,     0.27528,     0.27628,     0.27728,     0.27828,     0.27928,     0.28028,     0.28128,     0.28228,     0.28328,     0.28428,     0.28529,     0.28629,     0.28729,\n",
              "           0.28829,     0.28929,     0.29029,     0.29129,     0.29229,     0.29329,     0.29429,      0.2953,      0.2963,      0.2973,      0.2983,      0.2993,      0.3003,      0.3013,      0.3023,      0.3033,      0.3043,     0.30531,     0.30631,     0.30731,     0.30831,     0.30931,     0.31031,     0.31131,\n",
              "           0.31231,     0.31331,     0.31431,     0.31532,     0.31632,     0.31732,     0.31832,     0.31932,     0.32032,     0.32132,     0.32232,     0.32332,     0.32432,     0.32533,     0.32633,     0.32733,     0.32833,     0.32933,     0.33033,     0.33133,     0.33233,     0.33333,     0.33433,     0.33534,\n",
              "           0.33634,     0.33734,     0.33834,     0.33934,     0.34034,     0.34134,     0.34234,     0.34334,     0.34434,     0.34535,     0.34635,     0.34735,     0.34835,     0.34935,     0.35035,     0.35135,     0.35235,     0.35335,     0.35435,     0.35536,     0.35636,     0.35736,     0.35836,     0.35936,\n",
              "           0.36036,     0.36136,     0.36236,     0.36336,     0.36436,     0.36537,     0.36637,     0.36737,     0.36837,     0.36937,     0.37037,     0.37137,     0.37237,     0.37337,     0.37437,     0.37538,     0.37638,     0.37738,     0.37838,     0.37938,     0.38038,     0.38138,     0.38238,     0.38338,\n",
              "           0.38438,     0.38539,     0.38639,     0.38739,     0.38839,     0.38939,     0.39039,     0.39139,     0.39239,     0.39339,     0.39439,      0.3954,      0.3964,      0.3974,      0.3984,      0.3994,      0.4004,      0.4014,      0.4024,      0.4034,      0.4044,     0.40541,     0.40641,     0.40741,\n",
              "           0.40841,     0.40941,     0.41041,     0.41141,     0.41241,     0.41341,     0.41441,     0.41542,     0.41642,     0.41742,     0.41842,     0.41942,     0.42042,     0.42142,     0.42242,     0.42342,     0.42442,     0.42543,     0.42643,     0.42743,     0.42843,     0.42943,     0.43043,     0.43143,\n",
              "           0.43243,     0.43343,     0.43443,     0.43544,     0.43644,     0.43744,     0.43844,     0.43944,     0.44044,     0.44144,     0.44244,     0.44344,     0.44444,     0.44545,     0.44645,     0.44745,     0.44845,     0.44945,     0.45045,     0.45145,     0.45245,     0.45345,     0.45445,     0.45546,\n",
              "           0.45646,     0.45746,     0.45846,     0.45946,     0.46046,     0.46146,     0.46246,     0.46346,     0.46446,     0.46547,     0.46647,     0.46747,     0.46847,     0.46947,     0.47047,     0.47147,     0.47247,     0.47347,     0.47447,     0.47548,     0.47648,     0.47748,     0.47848,     0.47948,\n",
              "           0.48048,     0.48148,     0.48248,     0.48348,     0.48448,     0.48549,     0.48649,     0.48749,     0.48849,     0.48949,     0.49049,     0.49149,     0.49249,     0.49349,     0.49449,      0.4955,      0.4965,      0.4975,      0.4985,      0.4995,      0.5005,      0.5015,      0.5025,      0.5035,\n",
              "            0.5045,     0.50551,     0.50651,     0.50751,     0.50851,     0.50951,     0.51051,     0.51151,     0.51251,     0.51351,     0.51451,     0.51552,     0.51652,     0.51752,     0.51852,     0.51952,     0.52052,     0.52152,     0.52252,     0.52352,     0.52452,     0.52553,     0.52653,     0.52753,\n",
              "           0.52853,     0.52953,     0.53053,     0.53153,     0.53253,     0.53353,     0.53453,     0.53554,     0.53654,     0.53754,     0.53854,     0.53954,     0.54054,     0.54154,     0.54254,     0.54354,     0.54454,     0.54555,     0.54655,     0.54755,     0.54855,     0.54955,     0.55055,     0.55155,\n",
              "           0.55255,     0.55355,     0.55455,     0.55556,     0.55656,     0.55756,     0.55856,     0.55956,     0.56056,     0.56156,     0.56256,     0.56356,     0.56456,     0.56557,     0.56657,     0.56757,     0.56857,     0.56957,     0.57057,     0.57157,     0.57257,     0.57357,     0.57457,     0.57558,\n",
              "           0.57658,     0.57758,     0.57858,     0.57958,     0.58058,     0.58158,     0.58258,     0.58358,     0.58458,     0.58559,     0.58659,     0.58759,     0.58859,     0.58959,     0.59059,     0.59159,     0.59259,     0.59359,     0.59459,      0.5956,      0.5966,      0.5976,      0.5986,      0.5996,\n",
              "            0.6006,      0.6016,      0.6026,      0.6036,      0.6046,     0.60561,     0.60661,     0.60761,     0.60861,     0.60961,     0.61061,     0.61161,     0.61261,     0.61361,     0.61461,     0.61562,     0.61662,     0.61762,     0.61862,     0.61962,     0.62062,     0.62162,     0.62262,     0.62362,\n",
              "           0.62462,     0.62563,     0.62663,     0.62763,     0.62863,     0.62963,     0.63063,     0.63163,     0.63263,     0.63363,     0.63463,     0.63564,     0.63664,     0.63764,     0.63864,     0.63964,     0.64064,     0.64164,     0.64264,     0.64364,     0.64464,     0.64565,     0.64665,     0.64765,\n",
              "           0.64865,     0.64965,     0.65065,     0.65165,     0.65265,     0.65365,     0.65465,     0.65566,     0.65666,     0.65766,     0.65866,     0.65966,     0.66066,     0.66166,     0.66266,     0.66366,     0.66466,     0.66567,     0.66667,     0.66767,     0.66867,     0.66967,     0.67067,     0.67167,\n",
              "           0.67267,     0.67367,     0.67467,     0.67568,     0.67668,     0.67768,     0.67868,     0.67968,     0.68068,     0.68168,     0.68268,     0.68368,     0.68468,     0.68569,     0.68669,     0.68769,     0.68869,     0.68969,     0.69069,     0.69169,     0.69269,     0.69369,     0.69469,      0.6957,\n",
              "            0.6967,      0.6977,      0.6987,      0.6997,      0.7007,      0.7017,      0.7027,      0.7037,      0.7047,     0.70571,     0.70671,     0.70771,     0.70871,     0.70971,     0.71071,     0.71171,     0.71271,     0.71371,     0.71471,     0.71572,     0.71672,     0.71772,     0.71872,     0.71972,\n",
              "           0.72072,     0.72172,     0.72272,     0.72372,     0.72472,     0.72573,     0.72673,     0.72773,     0.72873,     0.72973,     0.73073,     0.73173,     0.73273,     0.73373,     0.73473,     0.73574,     0.73674,     0.73774,     0.73874,     0.73974,     0.74074,     0.74174,     0.74274,     0.74374,\n",
              "           0.74474,     0.74575,     0.74675,     0.74775,     0.74875,     0.74975,     0.75075,     0.75175,     0.75275,     0.75375,     0.75475,     0.75576,     0.75676,     0.75776,     0.75876,     0.75976,     0.76076,     0.76176,     0.76276,     0.76376,     0.76476,     0.76577,     0.76677,     0.76777,\n",
              "           0.76877,     0.76977,     0.77077,     0.77177,     0.77277,     0.77377,     0.77477,     0.77578,     0.77678,     0.77778,     0.77878,     0.77978,     0.78078,     0.78178,     0.78278,     0.78378,     0.78478,     0.78579,     0.78679,     0.78779,     0.78879,     0.78979,     0.79079,     0.79179,\n",
              "           0.79279,     0.79379,     0.79479,      0.7958,      0.7968,      0.7978,      0.7988,      0.7998,      0.8008,      0.8018,      0.8028,      0.8038,      0.8048,     0.80581,     0.80681,     0.80781,     0.80881,     0.80981,     0.81081,     0.81181,     0.81281,     0.81381,     0.81481,     0.81582,\n",
              "           0.81682,     0.81782,     0.81882,     0.81982,     0.82082,     0.82182,     0.82282,     0.82382,     0.82482,     0.82583,     0.82683,     0.82783,     0.82883,     0.82983,     0.83083,     0.83183,     0.83283,     0.83383,     0.83483,     0.83584,     0.83684,     0.83784,     0.83884,     0.83984,\n",
              "           0.84084,     0.84184,     0.84284,     0.84384,     0.84484,     0.84585,     0.84685,     0.84785,     0.84885,     0.84985,     0.85085,     0.85185,     0.85285,     0.85385,     0.85485,     0.85586,     0.85686,     0.85786,     0.85886,     0.85986,     0.86086,     0.86186,     0.86286,     0.86386,\n",
              "           0.86486,     0.86587,     0.86687,     0.86787,     0.86887,     0.86987,     0.87087,     0.87187,     0.87287,     0.87387,     0.87487,     0.87588,     0.87688,     0.87788,     0.87888,     0.87988,     0.88088,     0.88188,     0.88288,     0.88388,     0.88488,     0.88589,     0.88689,     0.88789,\n",
              "           0.88889,     0.88989,     0.89089,     0.89189,     0.89289,     0.89389,     0.89489,      0.8959,      0.8969,      0.8979,      0.8989,      0.8999,      0.9009,      0.9019,      0.9029,      0.9039,      0.9049,     0.90591,     0.90691,     0.90791,     0.90891,     0.90991,     0.91091,     0.91191,\n",
              "           0.91291,     0.91391,     0.91491,     0.91592,     0.91692,     0.91792,     0.91892,     0.91992,     0.92092,     0.92192,     0.92292,     0.92392,     0.92492,     0.92593,     0.92693,     0.92793,     0.92893,     0.92993,     0.93093,     0.93193,     0.93293,     0.93393,     0.93493,     0.93594,\n",
              "           0.93694,     0.93794,     0.93894,     0.93994,     0.94094,     0.94194,     0.94294,     0.94394,     0.94494,     0.94595,     0.94695,     0.94795,     0.94895,     0.94995,     0.95095,     0.95195,     0.95295,     0.95395,     0.95495,     0.95596,     0.95696,     0.95796,     0.95896,     0.95996,\n",
              "           0.96096,     0.96196,     0.96296,     0.96396,     0.96496,     0.96597,     0.96697,     0.96797,     0.96897,     0.96997,     0.97097,     0.97197,     0.97297,     0.97397,     0.97497,     0.97598,     0.97698,     0.97798,     0.97898,     0.97998,     0.98098,     0.98198,     0.98298,     0.98398,\n",
              "           0.98498,     0.98599,     0.98699,     0.98799,     0.98899,     0.98999,     0.99099,     0.99199,     0.99299,     0.99399,     0.99499,       0.996,       0.997,       0.998,       0.999,           1]), array([[    0.18661,     0.18729,     0.40814,     0.50946,     0.56883,     0.61886,     0.65158,     0.66264,     0.68046,     0.69374,     0.71196,     0.72792,     0.73702,     0.74166,     0.75115,     0.75487,     0.76718,      0.7778,      0.7888,     0.80659,     0.81905,     0.82532,     0.82756,\n",
              "            0.83723,      0.8394,     0.84116,     0.84169,     0.84223,     0.84276,     0.84329,     0.84382,     0.84435,     0.84488,     0.84524,     0.84399,     0.84274,     0.84148,     0.84023,     0.83986,     0.84134,     0.84281,     0.84395,     0.84449,     0.84503,     0.84556,      0.8461,\n",
              "            0.84664,     0.84718,     0.84771,     0.85232,     0.84966,     0.84699,     0.84728,     0.84813,     0.84898,     0.84983,     0.85067,     0.85185,     0.85331,     0.85476,     0.85649,     0.85861,     0.86043,     0.86132,     0.86221,      0.8631,     0.86399,     0.86487,     0.86611,\n",
              "            0.86734,     0.86857,     0.86992,     0.87174,     0.87355,     0.87444,     0.87466,     0.87488,      0.8751,     0.87532,     0.87554,     0.87576,     0.87598,      0.8762,     0.87642,     0.87664,     0.87686,     0.87708,     0.87729,     0.87751,     0.87773,     0.87795,     0.87817,\n",
              "            0.87839,      0.8786,     0.87882,     0.87904,     0.87938,     0.87979,      0.8802,      0.8806,     0.88101,     0.88142,     0.88183,     0.88223,     0.88264,     0.88304,     0.88345,     0.88385,     0.88595,     0.88878,     0.88934,     0.88981,     0.89027,     0.89074,     0.89121,\n",
              "            0.89167,     0.89214,      0.8926,     0.89307,     0.89353,     0.89401,     0.89452,     0.89503,     0.89554,     0.89604,     0.89655,     0.89706,     0.89757,     0.89807,     0.89858,     0.89897,     0.89921,     0.89945,     0.89969,     0.89993,     0.90017,     0.90041,     0.90065,\n",
              "            0.90088,     0.90112,     0.90136,      0.9016,     0.90184,     0.90207,     0.90231,     0.90255,     0.90279,     0.90302,     0.90326,      0.9035,     0.90373,       0.904,      0.9046,      0.9052,      0.9058,      0.9064,       0.907,      0.9076,      0.9082,      0.9088,     0.90923,\n",
              "            0.90949,     0.90976,     0.91002,     0.91029,     0.91055,     0.91081,     0.91108,     0.91134,     0.91161,     0.91187,     0.91213,      0.9124,     0.91266,     0.91292,     0.91319,     0.91345,     0.91371,     0.91397,     0.91424,     0.91422,     0.91413,     0.91404,     0.91396,\n",
              "            0.91387,     0.91379,      0.9137,     0.91361,     0.91353,     0.91344,     0.91335,     0.91327,     0.91318,      0.9131,     0.91301,     0.91292,     0.91284,     0.91275,     0.91266,     0.91258,     0.91249,     0.91241,     0.91232,     0.91223,     0.91215,     0.91206,     0.91197,\n",
              "            0.91189,      0.9118,     0.91172,     0.91163,     0.91154,     0.91146,     0.91137,     0.91128,      0.9112,     0.91111,     0.91102,     0.91094,     0.91085,     0.91076,     0.91068,     0.91059,     0.91051,     0.91042,     0.91033,     0.91025,     0.91016,     0.91007,     0.90999,\n",
              "             0.9099,     0.90981,     0.90973,     0.90964,     0.90955,     0.90947,     0.90938,     0.90929,     0.90921,     0.90912,     0.90903,     0.90895,     0.90886,     0.90877,     0.90869,      0.9086,     0.90851,     0.90843,     0.90834,     0.90825,     0.90817,     0.90808,     0.90832,\n",
              "            0.90875,     0.90918,     0.90961,     0.91004,     0.91048,     0.91091,     0.91134,     0.91176,     0.91219,     0.91262,     0.91305,     0.91361,     0.91434,     0.91508,     0.91581,     0.91654,     0.91726,     0.91799,     0.91859,      0.9185,     0.91841,     0.91832,     0.91823,\n",
              "            0.91814,     0.91805,     0.91796,     0.91787,     0.91778,     0.91769,      0.9176,     0.91751,     0.91741,     0.91732,     0.91723,     0.91714,     0.91705,     0.91696,     0.91687,     0.91678,     0.91669,      0.9166,     0.91651,     0.91642,     0.91633,     0.91624,     0.91615,\n",
              "            0.91606,     0.91596,     0.91587,     0.91578,     0.91569,      0.9156,     0.91551,     0.91542,     0.91533,     0.91524,     0.91515,     0.91506,     0.91497,     0.91487,     0.91478,     0.91469,      0.9146,     0.91451,     0.91442,     0.91433,     0.91424,     0.91415,     0.91406,\n",
              "            0.91397,     0.91387,     0.91378,     0.91369,      0.9136,     0.91351,     0.91342,     0.91333,     0.91324,     0.91315,     0.91305,     0.91296,     0.91287,     0.91278,     0.91269,      0.9126,     0.91251,     0.91242,     0.91232,     0.91216,     0.91193,      0.9117,     0.91146,\n",
              "            0.91123,       0.911,     0.91077,     0.91053,      0.9103,     0.91007,     0.90984,      0.9096,     0.90937,     0.90914,      0.9089,     0.90867,     0.90844,      0.9082,     0.90797,     0.90774,      0.9075,     0.90727,     0.90704,      0.9068,     0.90657,     0.90633,      0.9061,\n",
              "            0.90601,     0.90776,      0.9095,     0.91123,     0.91112,     0.91101,     0.91089,     0.91077,     0.91065,     0.91053,     0.91041,     0.91029,     0.91017,     0.91005,     0.90993,     0.90981,     0.90969,     0.90957,     0.90945,     0.90933,     0.90921,      0.9091,     0.90898,\n",
              "            0.90886,     0.90874,     0.90862,      0.9085,     0.90838,     0.90826,     0.90814,     0.90802,      0.9079,     0.90778,     0.90766,     0.90754,     0.90742,      0.9073,     0.90718,     0.90706,     0.90694,     0.90682,      0.9067,     0.90658,     0.90646,     0.90634,     0.90622,\n",
              "             0.9061,     0.90598,     0.90586,     0.90574,     0.90562,      0.9055,     0.90538,     0.90526,     0.90514,     0.90502,      0.9049,     0.90478,     0.90502,     0.90531,     0.90561,      0.9059,     0.90619,     0.90648,     0.90678,     0.90707,     0.90736,     0.90765,     0.90794,\n",
              "            0.90823,     0.90852,     0.90881,      0.9091,     0.90939,     0.90968,     0.90997,     0.91014,     0.91001,     0.90988,     0.90975,     0.90962,     0.90948,     0.90935,     0.90922,     0.90909,     0.90896,     0.90883,     0.90869,     0.90856,     0.90843,      0.9083,     0.90817,\n",
              "            0.90803,      0.9079,     0.90777,     0.90764,     0.90751,     0.90737,     0.90724,     0.90711,     0.90698,     0.90684,     0.90671,     0.90658,     0.90645,     0.90632,     0.90618,     0.90605,     0.90592,     0.90579,     0.90565,     0.90552,     0.90539,     0.90526,     0.90512,\n",
              "            0.90499,     0.90486,     0.90473,     0.90459,     0.90446,     0.90433,     0.90419,     0.90406,     0.90393,      0.9038,     0.90366,     0.90341,     0.90308,     0.90276,     0.90243,      0.9021,     0.90178,     0.90145,     0.90112,     0.90079,     0.90047,     0.90014,     0.89981,\n",
              "            0.89948,     0.89916,     0.89883,      0.8985,     0.89817,     0.89784,     0.89751,     0.89718,     0.89701,     0.89713,     0.89725,     0.89737,     0.89749,     0.89761,     0.89773,     0.89785,     0.89797,     0.89809,     0.89821,     0.89833,     0.89845,     0.89856,     0.89868,\n",
              "             0.8988,     0.89892,     0.89904,     0.89916,     0.89928,      0.8994,     0.89952,     0.89964,     0.89975,     0.89987,     0.89999,     0.90011,     0.90023,     0.90035,     0.90047,     0.90059,      0.9007,     0.90082,     0.90094,     0.90106,     0.90118,      0.9013,     0.90142,\n",
              "            0.90153,     0.90165,     0.90177,     0.90189,     0.90201,     0.90213,     0.90224,     0.90236,     0.90198,     0.90064,      0.8993,     0.89795,      0.8966,     0.89564,     0.89543,     0.89522,     0.89501,     0.89481,      0.8946,     0.89439,     0.89418,     0.89397,     0.89377,\n",
              "            0.89356,     0.89335,     0.89314,     0.89293,     0.89272,     0.89252,     0.89231,      0.8921,     0.89189,     0.89168,     0.89147,     0.89126,     0.89105,     0.89085,     0.89064,     0.89043,     0.89022,     0.89001,      0.8898,     0.88959,     0.88938,     0.88917,     0.88896,\n",
              "            0.88874,     0.88851,     0.88827,     0.88804,     0.88781,     0.88758,     0.88734,     0.88711,     0.88688,     0.88665,     0.88641,     0.88618,     0.88595,     0.88571,     0.88548,     0.88525,     0.88502,     0.88478,     0.88455,     0.88431,     0.88408,     0.88385,     0.88361,\n",
              "            0.88338,     0.88315,     0.88291,     0.88268,     0.88244,     0.88221,     0.88196,      0.8815,     0.88104,     0.88057,     0.88011,     0.87965,     0.87918,     0.87872,     0.87825,     0.87779,     0.87732,     0.87686,     0.87639,     0.87592,     0.87546,     0.87499,     0.87458,\n",
              "            0.87417,     0.87376,     0.87335,     0.87294,     0.87253,     0.87212,     0.87171,     0.87129,     0.87088,     0.87047,     0.87006,     0.86964,     0.86923,     0.86882,      0.8684,     0.86799,     0.86769,     0.86742,     0.86714,     0.86686,     0.86659,     0.86631,     0.86603,\n",
              "            0.86576,     0.86548,      0.8652,     0.86493,     0.86465,     0.86437,      0.8641,     0.86382,     0.86354,     0.86326,     0.86299,     0.86271,     0.86243,     0.86215,     0.86187,     0.86159,     0.86132,     0.86104,     0.86076,     0.86157,     0.86239,     0.86319,       0.864,\n",
              "            0.86481,     0.86561,     0.86661,     0.86835,     0.87007,     0.87179,     0.87152,     0.87124,     0.87096,     0.87068,      0.8704,     0.87012,     0.86984,     0.86956,     0.86928,       0.869,     0.86872,     0.86844,     0.86816,     0.86788,      0.8676,     0.86732,     0.86704,\n",
              "            0.86676,     0.86648,      0.8662,     0.86592,     0.86564,     0.86536,     0.86508,     0.86479,      0.8645,      0.8634,      0.8623,      0.8612,      0.8601,       0.859,     0.85789,      0.8567,     0.85533,     0.85395,     0.85258,      0.8512,     0.84982,     0.84915,     0.84857,\n",
              "            0.84798,      0.8474,     0.84681,     0.84623,     0.84564,     0.84505,     0.84447,     0.84388,     0.84329,      0.8427,     0.84211,     0.84054,     0.83896,     0.83738,     0.83579,     0.83432,     0.83356,      0.8328,     0.83203,     0.83127,      0.8305,     0.82974,     0.82897,\n",
              "             0.8282,     0.82743,     0.82667,     0.82713,     0.82759,     0.82805,     0.82851,     0.82897,     0.82942,     0.82988,     0.83034,     0.83079,     0.83125,      0.8317,     0.83215,     0.82704,     0.82393,      0.8232,     0.82247,     0.82173,       0.821,     0.82027,     0.81953,\n",
              "             0.8188,     0.81806,     0.81733,     0.81659,     0.80779,     0.80689,     0.80599,     0.80509,     0.80419,     0.80328,     0.80238,     0.80147,     0.80056,     0.80014,     0.80052,     0.80089,     0.80127,     0.80164,     0.80202,     0.80239,     0.80277,     0.80314,     0.80351,\n",
              "            0.80388,     0.80425,     0.80462,       0.805,     0.80536,      0.8036,     0.79954,     0.79566,     0.79203,     0.78831,     0.78384,     0.77993,     0.77875,     0.77756,     0.77637,     0.77517,     0.77398,     0.77278,     0.77158,     0.76991,     0.76817,     0.76642,     0.76467,\n",
              "            0.76292,     0.76185,     0.76093,     0.76002,      0.7591,     0.75818,     0.75726,     0.75634,     0.75542,      0.7545,     0.75346,     0.75036,     0.74725,     0.74387,     0.73865,     0.73315,     0.72714,     0.72559,     0.72518,     0.72476,     0.72434,     0.72392,      0.7235,\n",
              "            0.72309,     0.72267,     0.72225,     0.72183,     0.72141,     0.72099,     0.72057,     0.72015,     0.71973,     0.71931,     0.71889,     0.71846,     0.71804,     0.71762,      0.7172,     0.71678,     0.71599,     0.71322,     0.71044,     0.70764,     0.70589,     0.70461,     0.70334,\n",
              "            0.70205,     0.70077,     0.69948,     0.69819,     0.69322,      0.6854,     0.68363,     0.68185,     0.68006,     0.67827,     0.66455,     0.65113,     0.64526,     0.64317,     0.64108,     0.63898,     0.63687,     0.62636,     0.61783,     0.60383,     0.59527,     0.58822,     0.58029,\n",
              "            0.57307,     0.56604,     0.55938,     0.54758,     0.53785,     0.53207,     0.52936,     0.52847,     0.52759,      0.5267,     0.52581,     0.52492,     0.52403,     0.52314,     0.52224,     0.52135,     0.52046,     0.51956,     0.51866,     0.51776,      0.5159,     0.51268,     0.50945,\n",
              "            0.50621,     0.50296,     0.49971,     0.49645,     0.49317,     0.48412,      0.4763,     0.47383,     0.47136,     0.46888,      0.4664,     0.45694,     0.43064,     0.42377,     0.41439,     0.39217,     0.37163,      0.3557,     0.33937,     0.31791,     0.29225,     0.28105,     0.25633,\n",
              "            0.24528,     0.23776,      0.2303,     0.22512,     0.22197,      0.2188,     0.21563,     0.21244,     0.20924,     0.20708,     0.20532,     0.20357,      0.2018,     0.20004,     0.19827,      0.1965,     0.19473,     0.19295,     0.19117,     0.18893,     0.17833,     0.16768,     0.15715,\n",
              "            0.14461,     0.12991,     0.12478,     0.11962,     0.11443,     0.10821,    0.095157,    0.085214,    0.078171,    0.071076,    0.065718,    0.062224,    0.058716,    0.055196,    0.051663,    0.048117,     0.04482,     0.04229,    0.039754,    0.037212,    0.034663,    0.032107,    0.029545,\n",
              "           0.026976,      0.0244,           0,           0,           0,           0,           0,           0,           0,           0,           0]]), 'Confidence', 'F1'], [array([          0,    0.001001,    0.002002,    0.003003,    0.004004,    0.005005,    0.006006,    0.007007,    0.008008,    0.009009,     0.01001,    0.011011,    0.012012,    0.013013,    0.014014,    0.015015,    0.016016,    0.017017,    0.018018,    0.019019,     0.02002,    0.021021,    0.022022,    0.023023,\n",
              "          0.024024,    0.025025,    0.026026,    0.027027,    0.028028,    0.029029,     0.03003,    0.031031,    0.032032,    0.033033,    0.034034,    0.035035,    0.036036,    0.037037,    0.038038,    0.039039,     0.04004,    0.041041,    0.042042,    0.043043,    0.044044,    0.045045,    0.046046,    0.047047,\n",
              "          0.048048,    0.049049,     0.05005,    0.051051,    0.052052,    0.053053,    0.054054,    0.055055,    0.056056,    0.057057,    0.058058,    0.059059,     0.06006,    0.061061,    0.062062,    0.063063,    0.064064,    0.065065,    0.066066,    0.067067,    0.068068,    0.069069,     0.07007,    0.071071,\n",
              "          0.072072,    0.073073,    0.074074,    0.075075,    0.076076,    0.077077,    0.078078,    0.079079,     0.08008,    0.081081,    0.082082,    0.083083,    0.084084,    0.085085,    0.086086,    0.087087,    0.088088,    0.089089,     0.09009,    0.091091,    0.092092,    0.093093,    0.094094,    0.095095,\n",
              "          0.096096,    0.097097,    0.098098,    0.099099,      0.1001,      0.1011,      0.1021,      0.1031,      0.1041,     0.10511,     0.10611,     0.10711,     0.10811,     0.10911,     0.11011,     0.11111,     0.11211,     0.11311,     0.11411,     0.11512,     0.11612,     0.11712,     0.11812,     0.11912,\n",
              "           0.12012,     0.12112,     0.12212,     0.12312,     0.12412,     0.12513,     0.12613,     0.12713,     0.12813,     0.12913,     0.13013,     0.13113,     0.13213,     0.13313,     0.13413,     0.13514,     0.13614,     0.13714,     0.13814,     0.13914,     0.14014,     0.14114,     0.14214,     0.14314,\n",
              "           0.14414,     0.14515,     0.14615,     0.14715,     0.14815,     0.14915,     0.15015,     0.15115,     0.15215,     0.15315,     0.15415,     0.15516,     0.15616,     0.15716,     0.15816,     0.15916,     0.16016,     0.16116,     0.16216,     0.16316,     0.16416,     0.16517,     0.16617,     0.16717,\n",
              "           0.16817,     0.16917,     0.17017,     0.17117,     0.17217,     0.17317,     0.17417,     0.17518,     0.17618,     0.17718,     0.17818,     0.17918,     0.18018,     0.18118,     0.18218,     0.18318,     0.18418,     0.18519,     0.18619,     0.18719,     0.18819,     0.18919,     0.19019,     0.19119,\n",
              "           0.19219,     0.19319,     0.19419,      0.1952,      0.1962,      0.1972,      0.1982,      0.1992,      0.2002,      0.2012,      0.2022,      0.2032,      0.2042,     0.20521,     0.20621,     0.20721,     0.20821,     0.20921,     0.21021,     0.21121,     0.21221,     0.21321,     0.21421,     0.21522,\n",
              "           0.21622,     0.21722,     0.21822,     0.21922,     0.22022,     0.22122,     0.22222,     0.22322,     0.22422,     0.22523,     0.22623,     0.22723,     0.22823,     0.22923,     0.23023,     0.23123,     0.23223,     0.23323,     0.23423,     0.23524,     0.23624,     0.23724,     0.23824,     0.23924,\n",
              "           0.24024,     0.24124,     0.24224,     0.24324,     0.24424,     0.24525,     0.24625,     0.24725,     0.24825,     0.24925,     0.25025,     0.25125,     0.25225,     0.25325,     0.25425,     0.25526,     0.25626,     0.25726,     0.25826,     0.25926,     0.26026,     0.26126,     0.26226,     0.26326,\n",
              "           0.26426,     0.26527,     0.26627,     0.26727,     0.26827,     0.26927,     0.27027,     0.27127,     0.27227,     0.27327,     0.27427,     0.27528,     0.27628,     0.27728,     0.27828,     0.27928,     0.28028,     0.28128,     0.28228,     0.28328,     0.28428,     0.28529,     0.28629,     0.28729,\n",
              "           0.28829,     0.28929,     0.29029,     0.29129,     0.29229,     0.29329,     0.29429,      0.2953,      0.2963,      0.2973,      0.2983,      0.2993,      0.3003,      0.3013,      0.3023,      0.3033,      0.3043,     0.30531,     0.30631,     0.30731,     0.30831,     0.30931,     0.31031,     0.31131,\n",
              "           0.31231,     0.31331,     0.31431,     0.31532,     0.31632,     0.31732,     0.31832,     0.31932,     0.32032,     0.32132,     0.32232,     0.32332,     0.32432,     0.32533,     0.32633,     0.32733,     0.32833,     0.32933,     0.33033,     0.33133,     0.33233,     0.33333,     0.33433,     0.33534,\n",
              "           0.33634,     0.33734,     0.33834,     0.33934,     0.34034,     0.34134,     0.34234,     0.34334,     0.34434,     0.34535,     0.34635,     0.34735,     0.34835,     0.34935,     0.35035,     0.35135,     0.35235,     0.35335,     0.35435,     0.35536,     0.35636,     0.35736,     0.35836,     0.35936,\n",
              "           0.36036,     0.36136,     0.36236,     0.36336,     0.36436,     0.36537,     0.36637,     0.36737,     0.36837,     0.36937,     0.37037,     0.37137,     0.37237,     0.37337,     0.37437,     0.37538,     0.37638,     0.37738,     0.37838,     0.37938,     0.38038,     0.38138,     0.38238,     0.38338,\n",
              "           0.38438,     0.38539,     0.38639,     0.38739,     0.38839,     0.38939,     0.39039,     0.39139,     0.39239,     0.39339,     0.39439,      0.3954,      0.3964,      0.3974,      0.3984,      0.3994,      0.4004,      0.4014,      0.4024,      0.4034,      0.4044,     0.40541,     0.40641,     0.40741,\n",
              "           0.40841,     0.40941,     0.41041,     0.41141,     0.41241,     0.41341,     0.41441,     0.41542,     0.41642,     0.41742,     0.41842,     0.41942,     0.42042,     0.42142,     0.42242,     0.42342,     0.42442,     0.42543,     0.42643,     0.42743,     0.42843,     0.42943,     0.43043,     0.43143,\n",
              "           0.43243,     0.43343,     0.43443,     0.43544,     0.43644,     0.43744,     0.43844,     0.43944,     0.44044,     0.44144,     0.44244,     0.44344,     0.44444,     0.44545,     0.44645,     0.44745,     0.44845,     0.44945,     0.45045,     0.45145,     0.45245,     0.45345,     0.45445,     0.45546,\n",
              "           0.45646,     0.45746,     0.45846,     0.45946,     0.46046,     0.46146,     0.46246,     0.46346,     0.46446,     0.46547,     0.46647,     0.46747,     0.46847,     0.46947,     0.47047,     0.47147,     0.47247,     0.47347,     0.47447,     0.47548,     0.47648,     0.47748,     0.47848,     0.47948,\n",
              "           0.48048,     0.48148,     0.48248,     0.48348,     0.48448,     0.48549,     0.48649,     0.48749,     0.48849,     0.48949,     0.49049,     0.49149,     0.49249,     0.49349,     0.49449,      0.4955,      0.4965,      0.4975,      0.4985,      0.4995,      0.5005,      0.5015,      0.5025,      0.5035,\n",
              "            0.5045,     0.50551,     0.50651,     0.50751,     0.50851,     0.50951,     0.51051,     0.51151,     0.51251,     0.51351,     0.51451,     0.51552,     0.51652,     0.51752,     0.51852,     0.51952,     0.52052,     0.52152,     0.52252,     0.52352,     0.52452,     0.52553,     0.52653,     0.52753,\n",
              "           0.52853,     0.52953,     0.53053,     0.53153,     0.53253,     0.53353,     0.53453,     0.53554,     0.53654,     0.53754,     0.53854,     0.53954,     0.54054,     0.54154,     0.54254,     0.54354,     0.54454,     0.54555,     0.54655,     0.54755,     0.54855,     0.54955,     0.55055,     0.55155,\n",
              "           0.55255,     0.55355,     0.55455,     0.55556,     0.55656,     0.55756,     0.55856,     0.55956,     0.56056,     0.56156,     0.56256,     0.56356,     0.56456,     0.56557,     0.56657,     0.56757,     0.56857,     0.56957,     0.57057,     0.57157,     0.57257,     0.57357,     0.57457,     0.57558,\n",
              "           0.57658,     0.57758,     0.57858,     0.57958,     0.58058,     0.58158,     0.58258,     0.58358,     0.58458,     0.58559,     0.58659,     0.58759,     0.58859,     0.58959,     0.59059,     0.59159,     0.59259,     0.59359,     0.59459,      0.5956,      0.5966,      0.5976,      0.5986,      0.5996,\n",
              "            0.6006,      0.6016,      0.6026,      0.6036,      0.6046,     0.60561,     0.60661,     0.60761,     0.60861,     0.60961,     0.61061,     0.61161,     0.61261,     0.61361,     0.61461,     0.61562,     0.61662,     0.61762,     0.61862,     0.61962,     0.62062,     0.62162,     0.62262,     0.62362,\n",
              "           0.62462,     0.62563,     0.62663,     0.62763,     0.62863,     0.62963,     0.63063,     0.63163,     0.63263,     0.63363,     0.63463,     0.63564,     0.63664,     0.63764,     0.63864,     0.63964,     0.64064,     0.64164,     0.64264,     0.64364,     0.64464,     0.64565,     0.64665,     0.64765,\n",
              "           0.64865,     0.64965,     0.65065,     0.65165,     0.65265,     0.65365,     0.65465,     0.65566,     0.65666,     0.65766,     0.65866,     0.65966,     0.66066,     0.66166,     0.66266,     0.66366,     0.66466,     0.66567,     0.66667,     0.66767,     0.66867,     0.66967,     0.67067,     0.67167,\n",
              "           0.67267,     0.67367,     0.67467,     0.67568,     0.67668,     0.67768,     0.67868,     0.67968,     0.68068,     0.68168,     0.68268,     0.68368,     0.68468,     0.68569,     0.68669,     0.68769,     0.68869,     0.68969,     0.69069,     0.69169,     0.69269,     0.69369,     0.69469,      0.6957,\n",
              "            0.6967,      0.6977,      0.6987,      0.6997,      0.7007,      0.7017,      0.7027,      0.7037,      0.7047,     0.70571,     0.70671,     0.70771,     0.70871,     0.70971,     0.71071,     0.71171,     0.71271,     0.71371,     0.71471,     0.71572,     0.71672,     0.71772,     0.71872,     0.71972,\n",
              "           0.72072,     0.72172,     0.72272,     0.72372,     0.72472,     0.72573,     0.72673,     0.72773,     0.72873,     0.72973,     0.73073,     0.73173,     0.73273,     0.73373,     0.73473,     0.73574,     0.73674,     0.73774,     0.73874,     0.73974,     0.74074,     0.74174,     0.74274,     0.74374,\n",
              "           0.74474,     0.74575,     0.74675,     0.74775,     0.74875,     0.74975,     0.75075,     0.75175,     0.75275,     0.75375,     0.75475,     0.75576,     0.75676,     0.75776,     0.75876,     0.75976,     0.76076,     0.76176,     0.76276,     0.76376,     0.76476,     0.76577,     0.76677,     0.76777,\n",
              "           0.76877,     0.76977,     0.77077,     0.77177,     0.77277,     0.77377,     0.77477,     0.77578,     0.77678,     0.77778,     0.77878,     0.77978,     0.78078,     0.78178,     0.78278,     0.78378,     0.78478,     0.78579,     0.78679,     0.78779,     0.78879,     0.78979,     0.79079,     0.79179,\n",
              "           0.79279,     0.79379,     0.79479,      0.7958,      0.7968,      0.7978,      0.7988,      0.7998,      0.8008,      0.8018,      0.8028,      0.8038,      0.8048,     0.80581,     0.80681,     0.80781,     0.80881,     0.80981,     0.81081,     0.81181,     0.81281,     0.81381,     0.81481,     0.81582,\n",
              "           0.81682,     0.81782,     0.81882,     0.81982,     0.82082,     0.82182,     0.82282,     0.82382,     0.82482,     0.82583,     0.82683,     0.82783,     0.82883,     0.82983,     0.83083,     0.83183,     0.83283,     0.83383,     0.83483,     0.83584,     0.83684,     0.83784,     0.83884,     0.83984,\n",
              "           0.84084,     0.84184,     0.84284,     0.84384,     0.84484,     0.84585,     0.84685,     0.84785,     0.84885,     0.84985,     0.85085,     0.85185,     0.85285,     0.85385,     0.85485,     0.85586,     0.85686,     0.85786,     0.85886,     0.85986,     0.86086,     0.86186,     0.86286,     0.86386,\n",
              "           0.86486,     0.86587,     0.86687,     0.86787,     0.86887,     0.86987,     0.87087,     0.87187,     0.87287,     0.87387,     0.87487,     0.87588,     0.87688,     0.87788,     0.87888,     0.87988,     0.88088,     0.88188,     0.88288,     0.88388,     0.88488,     0.88589,     0.88689,     0.88789,\n",
              "           0.88889,     0.88989,     0.89089,     0.89189,     0.89289,     0.89389,     0.89489,      0.8959,      0.8969,      0.8979,      0.8989,      0.8999,      0.9009,      0.9019,      0.9029,      0.9039,      0.9049,     0.90591,     0.90691,     0.90791,     0.90891,     0.90991,     0.91091,     0.91191,\n",
              "           0.91291,     0.91391,     0.91491,     0.91592,     0.91692,     0.91792,     0.91892,     0.91992,     0.92092,     0.92192,     0.92292,     0.92392,     0.92492,     0.92593,     0.92693,     0.92793,     0.92893,     0.92993,     0.93093,     0.93193,     0.93293,     0.93393,     0.93493,     0.93594,\n",
              "           0.93694,     0.93794,     0.93894,     0.93994,     0.94094,     0.94194,     0.94294,     0.94394,     0.94494,     0.94595,     0.94695,     0.94795,     0.94895,     0.94995,     0.95095,     0.95195,     0.95295,     0.95395,     0.95495,     0.95596,     0.95696,     0.95796,     0.95896,     0.95996,\n",
              "           0.96096,     0.96196,     0.96296,     0.96396,     0.96496,     0.96597,     0.96697,     0.96797,     0.96897,     0.96997,     0.97097,     0.97197,     0.97297,     0.97397,     0.97497,     0.97598,     0.97698,     0.97798,     0.97898,     0.97998,     0.98098,     0.98198,     0.98298,     0.98398,\n",
              "           0.98498,     0.98599,     0.98699,     0.98799,     0.98899,     0.98999,     0.99099,     0.99199,     0.99299,     0.99399,     0.99499,       0.996,       0.997,       0.998,       0.999,           1]), array([[    0.10303,     0.10345,     0.25879,     0.34759,     0.40532,      0.4581,     0.49488,     0.50775,     0.52899,     0.54522,     0.56807,     0.58866,     0.60066,     0.60684,     0.61965,     0.62474,     0.64178,     0.65678,     0.67262,     0.69891,     0.71784,     0.72752,     0.73101,\n",
              "            0.74624,      0.7497,     0.75251,     0.75336,     0.75422,     0.75507,     0.75592,     0.75678,     0.75763,     0.75849,     0.75921,     0.75874,     0.75827,      0.7578,     0.75733,     0.75779,      0.7602,     0.76262,     0.76447,     0.76536,     0.76625,     0.76713,     0.76802,\n",
              "            0.76891,     0.76979,     0.77068,     0.77874,     0.77779,     0.77685,      0.7779,     0.77934,     0.78078,     0.78221,     0.78365,     0.78565,     0.78813,     0.79061,     0.79358,     0.79723,     0.80037,     0.80192,     0.80346,       0.805,     0.80655,      0.8081,     0.81026,\n",
              "            0.81242,     0.81458,     0.81695,     0.82016,     0.82337,     0.82497,     0.82536,     0.82575,     0.82614,     0.82653,     0.82692,     0.82732,     0.82771,      0.8281,     0.82849,     0.82888,     0.82927,     0.82967,     0.83006,     0.83045,     0.83084,     0.83123,     0.83162,\n",
              "            0.83201,     0.83241,      0.8328,     0.83319,      0.8338,     0.83453,     0.83527,       0.836,     0.83674,     0.83747,     0.83821,     0.83894,     0.83968,     0.84041,     0.84115,     0.84188,      0.8457,     0.85087,     0.85189,     0.85275,     0.85361,     0.85446,     0.85532,\n",
              "            0.85618,     0.85704,      0.8579,     0.85875,     0.85961,      0.8605,     0.86144,     0.86239,     0.86333,     0.86428,     0.86523,     0.86617,     0.86712,     0.86806,     0.86901,     0.86975,      0.8702,     0.87064,     0.87109,     0.87154,     0.87199,     0.87244,     0.87288,\n",
              "            0.87333,     0.87378,     0.87423,     0.87467,     0.87512,     0.87557,     0.87602,     0.87646,     0.87691,     0.87736,     0.87781,     0.87826,      0.8787,      0.8792,     0.88034,     0.88148,     0.88262,     0.88377,     0.88491,     0.88605,     0.88719,     0.88833,     0.88915,\n",
              "            0.88966,     0.89016,     0.89067,     0.89118,     0.89168,     0.89219,      0.8927,     0.89321,     0.89371,     0.89422,     0.89473,     0.89523,     0.89574,     0.89625,     0.89675,     0.89726,     0.89777,     0.89828,     0.89878,     0.89886,     0.89885,     0.89883,     0.89882,\n",
              "             0.8988,     0.89878,     0.89877,     0.89875,     0.89874,     0.89872,      0.8987,     0.89869,     0.89867,     0.89866,     0.89864,     0.89862,     0.89861,     0.89859,     0.89858,     0.89856,     0.89855,     0.89853,     0.89851,      0.8985,     0.89848,     0.89847,     0.89845,\n",
              "            0.89843,     0.89842,      0.8984,     0.89839,     0.89837,     0.89835,     0.89834,     0.89832,     0.89831,     0.89829,     0.89827,     0.89826,     0.89824,     0.89823,     0.89821,     0.89819,     0.89818,     0.89816,     0.89815,     0.89813,     0.89812,      0.8981,     0.89808,\n",
              "            0.89807,     0.89805,     0.89804,     0.89802,       0.898,     0.89799,     0.89797,     0.89796,     0.89794,     0.89792,     0.89791,     0.89789,     0.89788,     0.89786,     0.89784,     0.89783,     0.89781,      0.8978,     0.89778,     0.89777,     0.89775,     0.89773,     0.89826,\n",
              "            0.89911,     0.89995,      0.9008,     0.90164,     0.90249,     0.90333,     0.90418,     0.90503,     0.90587,     0.90672,     0.90756,     0.90867,     0.91012,     0.91157,     0.91302,     0.91448,     0.91593,     0.91738,      0.9186,     0.91859,     0.91858,     0.91856,     0.91855,\n",
              "            0.91853,     0.91852,     0.91851,     0.91849,     0.91848,     0.91847,     0.91845,     0.91844,     0.91842,     0.91841,      0.9184,     0.91838,     0.91837,     0.91835,     0.91834,     0.91833,     0.91831,      0.9183,     0.91829,     0.91827,     0.91826,     0.91824,     0.91823,\n",
              "            0.91822,      0.9182,     0.91819,     0.91818,     0.91816,     0.91815,     0.91813,     0.91812,     0.91811,     0.91809,     0.91808,     0.91807,     0.91805,     0.91804,     0.91802,     0.91801,       0.918,     0.91798,     0.91797,     0.91796,     0.91794,     0.91793,     0.91791,\n",
              "             0.9179,     0.91789,     0.91787,     0.91786,     0.91785,     0.91783,     0.91782,      0.9178,     0.91779,     0.91778,     0.91776,     0.91775,     0.91774,     0.91772,     0.91771,     0.91769,     0.91768,     0.91767,     0.91765,     0.91763,     0.91759,     0.91756,     0.91752,\n",
              "            0.91749,     0.91745,     0.91741,     0.91738,     0.91734,     0.91731,     0.91727,     0.91724,      0.9172,     0.91716,     0.91713,     0.91709,     0.91706,     0.91702,     0.91699,     0.91695,     0.91691,     0.91688,     0.91684,     0.91681,     0.91677,     0.91674,      0.9167,\n",
              "            0.91693,     0.92051,      0.9241,     0.92768,     0.92769,     0.92768,     0.92766,     0.92765,     0.92763,     0.92761,      0.9276,     0.92758,     0.92756,     0.92755,     0.92753,     0.92752,      0.9275,     0.92748,     0.92747,     0.92745,     0.92743,     0.92742,      0.9274,\n",
              "            0.92739,     0.92737,     0.92735,     0.92734,     0.92732,      0.9273,     0.92729,     0.92727,     0.92725,     0.92724,     0.92722,     0.92721,     0.92719,     0.92717,     0.92716,     0.92714,     0.92712,     0.92711,     0.92709,     0.92708,     0.92706,     0.92704,     0.92703,\n",
              "            0.92701,     0.92699,     0.92698,     0.92696,     0.92695,     0.92693,     0.92691,      0.9269,     0.92688,     0.92686,     0.92685,     0.92683,     0.92737,     0.92799,      0.9286,     0.92922,     0.92983,     0.93045,     0.93106,     0.93168,      0.9323,     0.93291,     0.93353,\n",
              "            0.93414,     0.93476,     0.93537,     0.93599,      0.9366,     0.93722,     0.93783,     0.93827,     0.93825,     0.93824,     0.93822,      0.9382,     0.93819,     0.93817,     0.93816,     0.93814,     0.93813,     0.93811,      0.9381,     0.93808,     0.93807,     0.93805,     0.93803,\n",
              "            0.93802,       0.938,     0.93799,     0.93797,     0.93796,     0.93794,     0.93793,     0.93791,     0.93789,     0.93788,     0.93786,     0.93785,     0.93783,     0.93782,      0.9378,     0.93779,     0.93777,     0.93775,     0.93774,     0.93772,     0.93771,     0.93769,     0.93768,\n",
              "            0.93766,     0.93765,     0.93763,     0.93761,      0.9376,     0.93758,     0.93757,     0.93755,     0.93754,     0.93752,     0.93751,     0.93748,     0.93744,      0.9374,     0.93736,     0.93732,     0.93728,     0.93724,      0.9372,     0.93716,     0.93712,     0.93709,     0.93705,\n",
              "            0.93701,     0.93697,     0.93693,     0.93689,     0.93685,     0.93681,     0.93677,     0.93673,      0.9368,     0.93706,     0.93732,     0.93758,     0.93785,     0.93811,     0.93837,     0.93863,     0.93889,     0.93915,     0.93941,     0.93967,     0.93993,     0.94019,     0.94046,\n",
              "            0.94072,     0.94098,     0.94124,      0.9415,     0.94176,     0.94202,     0.94228,     0.94254,      0.9428,     0.94307,     0.94333,     0.94359,     0.94385,     0.94411,     0.94437,     0.94463,     0.94489,     0.94515,     0.94541,     0.94568,     0.94594,      0.9462,     0.94646,\n",
              "            0.94672,     0.94698,     0.94724,      0.9475,     0.94776,     0.94802,     0.94829,     0.94855,     0.94867,     0.94854,     0.94841,     0.94827,     0.94814,     0.94804,     0.94802,       0.948,     0.94798,     0.94796,     0.94794,     0.94792,      0.9479,     0.94788,     0.94786,\n",
              "            0.94784,     0.94781,     0.94779,     0.94777,     0.94775,     0.94773,     0.94771,     0.94769,     0.94767,     0.94765,     0.94763,     0.94761,     0.94758,     0.94756,     0.94754,     0.94752,      0.9475,     0.94748,     0.94746,     0.94744,     0.94742,      0.9474,     0.94738,\n",
              "            0.94735,     0.94733,     0.94731,     0.94728,     0.94726,     0.94723,     0.94721,     0.94719,     0.94716,     0.94714,     0.94712,     0.94709,     0.94707,     0.94704,     0.94702,       0.947,     0.94697,     0.94695,     0.94693,      0.9469,     0.94688,     0.94686,     0.94683,\n",
              "            0.94681,     0.94678,     0.94676,     0.94674,     0.94671,     0.94669,     0.94666,     0.94662,     0.94657,     0.94652,     0.94647,     0.94642,     0.94638,     0.94633,     0.94628,     0.94623,     0.94618,     0.94614,     0.94609,     0.94604,     0.94599,     0.94594,      0.9459,\n",
              "            0.94586,     0.94582,     0.94577,     0.94573,     0.94569,     0.94564,      0.9456,     0.94556,     0.94551,     0.94547,     0.94543,     0.94538,     0.94534,      0.9453,     0.94526,     0.94521,     0.94518,     0.94515,     0.94512,     0.94509,     0.94506,     0.94503,       0.945,\n",
              "            0.94497,     0.94494,     0.94492,     0.94489,     0.94486,     0.94483,      0.9448,     0.94477,     0.94474,     0.94471,     0.94468,     0.94465,     0.94462,     0.94459,     0.94456,     0.94453,      0.9445,     0.94447,     0.94445,     0.94641,     0.94837,     0.95033,     0.95229,\n",
              "            0.95424,      0.9562,     0.95865,      0.9629,     0.96716,     0.97142,     0.97141,      0.9714,     0.97138,     0.97136,     0.97135,     0.97133,     0.97132,      0.9713,     0.97129,     0.97127,     0.97125,     0.97124,     0.97122,     0.97121,     0.97119,     0.97117,     0.97116,\n",
              "            0.97114,     0.97113,     0.97111,     0.97109,     0.97108,     0.97106,     0.97105,     0.97103,     0.97101,     0.97095,     0.97089,     0.97082,     0.97076,     0.97069,     0.97063,     0.97056,     0.97048,      0.9704,     0.97032,     0.97024,     0.97016,     0.97012,     0.97008,\n",
              "            0.97005,     0.97001,     0.96998,     0.96994,     0.96991,     0.96987,     0.96984,      0.9698,     0.96977,     0.96973,      0.9697,      0.9696,     0.96951,     0.96941,     0.96931,     0.96922,     0.96918,     0.96913,     0.96908,     0.96903,     0.96899,     0.96894,     0.96889,\n",
              "            0.96884,      0.9688,     0.96876,     0.97002,     0.97129,     0.97256,     0.97382,     0.97509,     0.97636,     0.97762,     0.97889,     0.98016,     0.98142,     0.98269,     0.98396,     0.98396,     0.98386,     0.98383,     0.98381,     0.98378,     0.98376,     0.98374,     0.98371,\n",
              "            0.98369,     0.98366,     0.98364,     0.98362,     0.98332,     0.98329,     0.98326,     0.98323,     0.98319,     0.98316,     0.98313,      0.9831,     0.98307,     0.98348,     0.98462,     0.98576,      0.9869,     0.98803,     0.98917,     0.99031,     0.99145,     0.99259,     0.99372,\n",
              "            0.99486,       0.996,     0.99714,     0.99827,     0.99941,           1,           1,           1,           1,           1,           1,           1,           1,           1,           1,           1,           1,           1,           1,           1,           1,           1,           1,\n",
              "                  1,           1,           1,           1,           1,           1,           1,           1,           1,           1,           1,           1,           1,           1,           1,           1,           1,           1,           1,           1,           1,           1,           1,\n",
              "                  1,           1,           1,           1,           1,           1,           1,           1,           1,           1,           1,           1,           1,           1,           1,           1,           1,           1,           1,           1,           1,           1,           1,\n",
              "                  1,           1,           1,           1,           1,           1,           1,           1,           1,           1,           1,           1,           1,           1,           1,           1,           1,           1,           1,           1,           1,           1,           1,\n",
              "                  1,           1,           1,           1,           1,           1,           1,           1,           1,           1,           1,           1,           1,           1,           1,           1,           1,           1,           1,           1,           1,           1,           1,\n",
              "                  1,           1,           1,           1,           1,           1,           1,           1,           1,           1,           1,           1,           1,           1,           1,           1,           1,           1,           1,           1,           1,           1,           1,\n",
              "                  1,           1,           1,           1,           1,           1,           1,           1,           1,           1,           1,           1,           1,           1,           1,           1,           1,           1,           1,           1,           1,           1,           1,\n",
              "                  1,           1,           1,           1,           1,           1,           1,           1,           1,           1,           1,           1,           1,           1,           1,           1,           1,           1,           1,           1,           1,           1,           1,\n",
              "                  1,           1,           1,           1,           1,           1,           1,           1,           1,           1,           1]]), 'Confidence', 'Precision'], [array([          0,    0.001001,    0.002002,    0.003003,    0.004004,    0.005005,    0.006006,    0.007007,    0.008008,    0.009009,     0.01001,    0.011011,    0.012012,    0.013013,    0.014014,    0.015015,    0.016016,    0.017017,    0.018018,    0.019019,     0.02002,    0.021021,    0.022022,    0.023023,\n",
              "          0.024024,    0.025025,    0.026026,    0.027027,    0.028028,    0.029029,     0.03003,    0.031031,    0.032032,    0.033033,    0.034034,    0.035035,    0.036036,    0.037037,    0.038038,    0.039039,     0.04004,    0.041041,    0.042042,    0.043043,    0.044044,    0.045045,    0.046046,    0.047047,\n",
              "          0.048048,    0.049049,     0.05005,    0.051051,    0.052052,    0.053053,    0.054054,    0.055055,    0.056056,    0.057057,    0.058058,    0.059059,     0.06006,    0.061061,    0.062062,    0.063063,    0.064064,    0.065065,    0.066066,    0.067067,    0.068068,    0.069069,     0.07007,    0.071071,\n",
              "          0.072072,    0.073073,    0.074074,    0.075075,    0.076076,    0.077077,    0.078078,    0.079079,     0.08008,    0.081081,    0.082082,    0.083083,    0.084084,    0.085085,    0.086086,    0.087087,    0.088088,    0.089089,     0.09009,    0.091091,    0.092092,    0.093093,    0.094094,    0.095095,\n",
              "          0.096096,    0.097097,    0.098098,    0.099099,      0.1001,      0.1011,      0.1021,      0.1031,      0.1041,     0.10511,     0.10611,     0.10711,     0.10811,     0.10911,     0.11011,     0.11111,     0.11211,     0.11311,     0.11411,     0.11512,     0.11612,     0.11712,     0.11812,     0.11912,\n",
              "           0.12012,     0.12112,     0.12212,     0.12312,     0.12412,     0.12513,     0.12613,     0.12713,     0.12813,     0.12913,     0.13013,     0.13113,     0.13213,     0.13313,     0.13413,     0.13514,     0.13614,     0.13714,     0.13814,     0.13914,     0.14014,     0.14114,     0.14214,     0.14314,\n",
              "           0.14414,     0.14515,     0.14615,     0.14715,     0.14815,     0.14915,     0.15015,     0.15115,     0.15215,     0.15315,     0.15415,     0.15516,     0.15616,     0.15716,     0.15816,     0.15916,     0.16016,     0.16116,     0.16216,     0.16316,     0.16416,     0.16517,     0.16617,     0.16717,\n",
              "           0.16817,     0.16917,     0.17017,     0.17117,     0.17217,     0.17317,     0.17417,     0.17518,     0.17618,     0.17718,     0.17818,     0.17918,     0.18018,     0.18118,     0.18218,     0.18318,     0.18418,     0.18519,     0.18619,     0.18719,     0.18819,     0.18919,     0.19019,     0.19119,\n",
              "           0.19219,     0.19319,     0.19419,      0.1952,      0.1962,      0.1972,      0.1982,      0.1992,      0.2002,      0.2012,      0.2022,      0.2032,      0.2042,     0.20521,     0.20621,     0.20721,     0.20821,     0.20921,     0.21021,     0.21121,     0.21221,     0.21321,     0.21421,     0.21522,\n",
              "           0.21622,     0.21722,     0.21822,     0.21922,     0.22022,     0.22122,     0.22222,     0.22322,     0.22422,     0.22523,     0.22623,     0.22723,     0.22823,     0.22923,     0.23023,     0.23123,     0.23223,     0.23323,     0.23423,     0.23524,     0.23624,     0.23724,     0.23824,     0.23924,\n",
              "           0.24024,     0.24124,     0.24224,     0.24324,     0.24424,     0.24525,     0.24625,     0.24725,     0.24825,     0.24925,     0.25025,     0.25125,     0.25225,     0.25325,     0.25425,     0.25526,     0.25626,     0.25726,     0.25826,     0.25926,     0.26026,     0.26126,     0.26226,     0.26326,\n",
              "           0.26426,     0.26527,     0.26627,     0.26727,     0.26827,     0.26927,     0.27027,     0.27127,     0.27227,     0.27327,     0.27427,     0.27528,     0.27628,     0.27728,     0.27828,     0.27928,     0.28028,     0.28128,     0.28228,     0.28328,     0.28428,     0.28529,     0.28629,     0.28729,\n",
              "           0.28829,     0.28929,     0.29029,     0.29129,     0.29229,     0.29329,     0.29429,      0.2953,      0.2963,      0.2973,      0.2983,      0.2993,      0.3003,      0.3013,      0.3023,      0.3033,      0.3043,     0.30531,     0.30631,     0.30731,     0.30831,     0.30931,     0.31031,     0.31131,\n",
              "           0.31231,     0.31331,     0.31431,     0.31532,     0.31632,     0.31732,     0.31832,     0.31932,     0.32032,     0.32132,     0.32232,     0.32332,     0.32432,     0.32533,     0.32633,     0.32733,     0.32833,     0.32933,     0.33033,     0.33133,     0.33233,     0.33333,     0.33433,     0.33534,\n",
              "           0.33634,     0.33734,     0.33834,     0.33934,     0.34034,     0.34134,     0.34234,     0.34334,     0.34434,     0.34535,     0.34635,     0.34735,     0.34835,     0.34935,     0.35035,     0.35135,     0.35235,     0.35335,     0.35435,     0.35536,     0.35636,     0.35736,     0.35836,     0.35936,\n",
              "           0.36036,     0.36136,     0.36236,     0.36336,     0.36436,     0.36537,     0.36637,     0.36737,     0.36837,     0.36937,     0.37037,     0.37137,     0.37237,     0.37337,     0.37437,     0.37538,     0.37638,     0.37738,     0.37838,     0.37938,     0.38038,     0.38138,     0.38238,     0.38338,\n",
              "           0.38438,     0.38539,     0.38639,     0.38739,     0.38839,     0.38939,     0.39039,     0.39139,     0.39239,     0.39339,     0.39439,      0.3954,      0.3964,      0.3974,      0.3984,      0.3994,      0.4004,      0.4014,      0.4024,      0.4034,      0.4044,     0.40541,     0.40641,     0.40741,\n",
              "           0.40841,     0.40941,     0.41041,     0.41141,     0.41241,     0.41341,     0.41441,     0.41542,     0.41642,     0.41742,     0.41842,     0.41942,     0.42042,     0.42142,     0.42242,     0.42342,     0.42442,     0.42543,     0.42643,     0.42743,     0.42843,     0.42943,     0.43043,     0.43143,\n",
              "           0.43243,     0.43343,     0.43443,     0.43544,     0.43644,     0.43744,     0.43844,     0.43944,     0.44044,     0.44144,     0.44244,     0.44344,     0.44444,     0.44545,     0.44645,     0.44745,     0.44845,     0.44945,     0.45045,     0.45145,     0.45245,     0.45345,     0.45445,     0.45546,\n",
              "           0.45646,     0.45746,     0.45846,     0.45946,     0.46046,     0.46146,     0.46246,     0.46346,     0.46446,     0.46547,     0.46647,     0.46747,     0.46847,     0.46947,     0.47047,     0.47147,     0.47247,     0.47347,     0.47447,     0.47548,     0.47648,     0.47748,     0.47848,     0.47948,\n",
              "           0.48048,     0.48148,     0.48248,     0.48348,     0.48448,     0.48549,     0.48649,     0.48749,     0.48849,     0.48949,     0.49049,     0.49149,     0.49249,     0.49349,     0.49449,      0.4955,      0.4965,      0.4975,      0.4985,      0.4995,      0.5005,      0.5015,      0.5025,      0.5035,\n",
              "            0.5045,     0.50551,     0.50651,     0.50751,     0.50851,     0.50951,     0.51051,     0.51151,     0.51251,     0.51351,     0.51451,     0.51552,     0.51652,     0.51752,     0.51852,     0.51952,     0.52052,     0.52152,     0.52252,     0.52352,     0.52452,     0.52553,     0.52653,     0.52753,\n",
              "           0.52853,     0.52953,     0.53053,     0.53153,     0.53253,     0.53353,     0.53453,     0.53554,     0.53654,     0.53754,     0.53854,     0.53954,     0.54054,     0.54154,     0.54254,     0.54354,     0.54454,     0.54555,     0.54655,     0.54755,     0.54855,     0.54955,     0.55055,     0.55155,\n",
              "           0.55255,     0.55355,     0.55455,     0.55556,     0.55656,     0.55756,     0.55856,     0.55956,     0.56056,     0.56156,     0.56256,     0.56356,     0.56456,     0.56557,     0.56657,     0.56757,     0.56857,     0.56957,     0.57057,     0.57157,     0.57257,     0.57357,     0.57457,     0.57558,\n",
              "           0.57658,     0.57758,     0.57858,     0.57958,     0.58058,     0.58158,     0.58258,     0.58358,     0.58458,     0.58559,     0.58659,     0.58759,     0.58859,     0.58959,     0.59059,     0.59159,     0.59259,     0.59359,     0.59459,      0.5956,      0.5966,      0.5976,      0.5986,      0.5996,\n",
              "            0.6006,      0.6016,      0.6026,      0.6036,      0.6046,     0.60561,     0.60661,     0.60761,     0.60861,     0.60961,     0.61061,     0.61161,     0.61261,     0.61361,     0.61461,     0.61562,     0.61662,     0.61762,     0.61862,     0.61962,     0.62062,     0.62162,     0.62262,     0.62362,\n",
              "           0.62462,     0.62563,     0.62663,     0.62763,     0.62863,     0.62963,     0.63063,     0.63163,     0.63263,     0.63363,     0.63463,     0.63564,     0.63664,     0.63764,     0.63864,     0.63964,     0.64064,     0.64164,     0.64264,     0.64364,     0.64464,     0.64565,     0.64665,     0.64765,\n",
              "           0.64865,     0.64965,     0.65065,     0.65165,     0.65265,     0.65365,     0.65465,     0.65566,     0.65666,     0.65766,     0.65866,     0.65966,     0.66066,     0.66166,     0.66266,     0.66366,     0.66466,     0.66567,     0.66667,     0.66767,     0.66867,     0.66967,     0.67067,     0.67167,\n",
              "           0.67267,     0.67367,     0.67467,     0.67568,     0.67668,     0.67768,     0.67868,     0.67968,     0.68068,     0.68168,     0.68268,     0.68368,     0.68468,     0.68569,     0.68669,     0.68769,     0.68869,     0.68969,     0.69069,     0.69169,     0.69269,     0.69369,     0.69469,      0.6957,\n",
              "            0.6967,      0.6977,      0.6987,      0.6997,      0.7007,      0.7017,      0.7027,      0.7037,      0.7047,     0.70571,     0.70671,     0.70771,     0.70871,     0.70971,     0.71071,     0.71171,     0.71271,     0.71371,     0.71471,     0.71572,     0.71672,     0.71772,     0.71872,     0.71972,\n",
              "           0.72072,     0.72172,     0.72272,     0.72372,     0.72472,     0.72573,     0.72673,     0.72773,     0.72873,     0.72973,     0.73073,     0.73173,     0.73273,     0.73373,     0.73473,     0.73574,     0.73674,     0.73774,     0.73874,     0.73974,     0.74074,     0.74174,     0.74274,     0.74374,\n",
              "           0.74474,     0.74575,     0.74675,     0.74775,     0.74875,     0.74975,     0.75075,     0.75175,     0.75275,     0.75375,     0.75475,     0.75576,     0.75676,     0.75776,     0.75876,     0.75976,     0.76076,     0.76176,     0.76276,     0.76376,     0.76476,     0.76577,     0.76677,     0.76777,\n",
              "           0.76877,     0.76977,     0.77077,     0.77177,     0.77277,     0.77377,     0.77477,     0.77578,     0.77678,     0.77778,     0.77878,     0.77978,     0.78078,     0.78178,     0.78278,     0.78378,     0.78478,     0.78579,     0.78679,     0.78779,     0.78879,     0.78979,     0.79079,     0.79179,\n",
              "           0.79279,     0.79379,     0.79479,      0.7958,      0.7968,      0.7978,      0.7988,      0.7998,      0.8008,      0.8018,      0.8028,      0.8038,      0.8048,     0.80581,     0.80681,     0.80781,     0.80881,     0.80981,     0.81081,     0.81181,     0.81281,     0.81381,     0.81481,     0.81582,\n",
              "           0.81682,     0.81782,     0.81882,     0.81982,     0.82082,     0.82182,     0.82282,     0.82382,     0.82482,     0.82583,     0.82683,     0.82783,     0.82883,     0.82983,     0.83083,     0.83183,     0.83283,     0.83383,     0.83483,     0.83584,     0.83684,     0.83784,     0.83884,     0.83984,\n",
              "           0.84084,     0.84184,     0.84284,     0.84384,     0.84484,     0.84585,     0.84685,     0.84785,     0.84885,     0.84985,     0.85085,     0.85185,     0.85285,     0.85385,     0.85485,     0.85586,     0.85686,     0.85786,     0.85886,     0.85986,     0.86086,     0.86186,     0.86286,     0.86386,\n",
              "           0.86486,     0.86587,     0.86687,     0.86787,     0.86887,     0.86987,     0.87087,     0.87187,     0.87287,     0.87387,     0.87487,     0.87588,     0.87688,     0.87788,     0.87888,     0.87988,     0.88088,     0.88188,     0.88288,     0.88388,     0.88488,     0.88589,     0.88689,     0.88789,\n",
              "           0.88889,     0.88989,     0.89089,     0.89189,     0.89289,     0.89389,     0.89489,      0.8959,      0.8969,      0.8979,      0.8989,      0.8999,      0.9009,      0.9019,      0.9029,      0.9039,      0.9049,     0.90591,     0.90691,     0.90791,     0.90891,     0.90991,     0.91091,     0.91191,\n",
              "           0.91291,     0.91391,     0.91491,     0.91592,     0.91692,     0.91792,     0.91892,     0.91992,     0.92092,     0.92192,     0.92292,     0.92392,     0.92492,     0.92593,     0.92693,     0.92793,     0.92893,     0.92993,     0.93093,     0.93193,     0.93293,     0.93393,     0.93493,     0.93594,\n",
              "           0.93694,     0.93794,     0.93894,     0.93994,     0.94094,     0.94194,     0.94294,     0.94394,     0.94494,     0.94595,     0.94695,     0.94795,     0.94895,     0.94995,     0.95095,     0.95195,     0.95295,     0.95395,     0.95495,     0.95596,     0.95696,     0.95796,     0.95896,     0.95996,\n",
              "           0.96096,     0.96196,     0.96296,     0.96396,     0.96496,     0.96597,     0.96697,     0.96797,     0.96897,     0.96997,     0.97097,     0.97197,     0.97297,     0.97397,     0.97497,     0.97598,     0.97698,     0.97798,     0.97898,     0.97998,     0.98098,     0.98198,     0.98298,     0.98398,\n",
              "           0.98498,     0.98599,     0.98699,     0.98799,     0.98899,     0.98999,     0.99099,     0.99199,     0.99299,     0.99399,     0.99499,       0.996,       0.997,       0.998,       0.999,           1]), array([[    0.98837,     0.98837,     0.96512,     0.95349,     0.95349,     0.95349,     0.95349,     0.95349,     0.95349,     0.95349,     0.95349,     0.95349,     0.95349,     0.95349,     0.95349,     0.95349,     0.95349,     0.95349,     0.95349,     0.95349,     0.95349,     0.95349,     0.95349,\n",
              "            0.95349,     0.95349,     0.95349,     0.95349,     0.95349,     0.95349,     0.95349,     0.95349,     0.95349,     0.95349,     0.95325,     0.95082,     0.94838,     0.94594,     0.94351,     0.94186,     0.94186,     0.94186,     0.94186,     0.94186,     0.94186,     0.94186,     0.94186,\n",
              "            0.94186,     0.94186,     0.94186,     0.94127,     0.93617,     0.93106,     0.93023,     0.93023,     0.93023,     0.93023,     0.93023,     0.93023,     0.93023,     0.93023,     0.93023,     0.93023,     0.93023,     0.93023,     0.93023,     0.93023,     0.93023,     0.93023,     0.93023,\n",
              "            0.93023,     0.93023,     0.93023,     0.93023,     0.93023,     0.93023,     0.93023,     0.93023,     0.93023,     0.93023,     0.93023,     0.93023,     0.93023,     0.93023,     0.93023,     0.93023,     0.93023,     0.93023,     0.93023,     0.93023,     0.93023,     0.93023,     0.93023,\n",
              "            0.93023,     0.93023,     0.93023,     0.93023,     0.93023,     0.93023,     0.93023,     0.93023,     0.93023,     0.93023,     0.93023,     0.93023,     0.93023,     0.93023,     0.93023,     0.93023,     0.93023,     0.93023,     0.93023,     0.93023,     0.93023,     0.93023,     0.93023,\n",
              "            0.93023,     0.93023,     0.93023,     0.93023,     0.93023,     0.93023,     0.93023,     0.93023,     0.93023,     0.93023,     0.93023,     0.93023,     0.93023,     0.93023,     0.93023,     0.93023,     0.93023,     0.93023,     0.93023,     0.93023,     0.93023,     0.93023,     0.93023,\n",
              "            0.93023,     0.93023,     0.93023,     0.93023,     0.93023,     0.93023,     0.93023,     0.93023,     0.93023,     0.93023,     0.93023,     0.93023,     0.93023,     0.93023,     0.93023,     0.93023,     0.93023,     0.93023,     0.93023,     0.93023,     0.93023,     0.93023,     0.93023,\n",
              "            0.93023,     0.93023,     0.93023,     0.93023,     0.93023,     0.93023,     0.93023,     0.93023,     0.93023,     0.93023,     0.93023,     0.93023,     0.93023,     0.93023,     0.93023,     0.93023,     0.93023,     0.93023,     0.93023,      0.9301,     0.92994,     0.92978,     0.92962,\n",
              "            0.92946,      0.9293,     0.92913,     0.92897,     0.92881,     0.92865,     0.92849,     0.92833,     0.92817,     0.92801,     0.92785,     0.92768,     0.92752,     0.92736,      0.9272,     0.92704,     0.92688,     0.92672,     0.92656,      0.9264,     0.92624,     0.92607,     0.92591,\n",
              "            0.92575,     0.92559,     0.92543,     0.92527,     0.92511,     0.92495,     0.92479,     0.92462,     0.92446,      0.9243,     0.92414,     0.92398,     0.92382,     0.92366,      0.9235,     0.92334,     0.92317,     0.92301,     0.92285,     0.92269,     0.92253,     0.92237,     0.92221,\n",
              "            0.92205,     0.92189,     0.92172,     0.92156,      0.9214,     0.92124,     0.92108,     0.92092,     0.92076,      0.9206,     0.92044,     0.92028,     0.92011,     0.91995,     0.91979,     0.91963,     0.91947,     0.91931,     0.91915,     0.91899,     0.91883,     0.91866,      0.9186,\n",
              "             0.9186,      0.9186,      0.9186,      0.9186,      0.9186,      0.9186,      0.9186,      0.9186,      0.9186,      0.9186,      0.9186,      0.9186,      0.9186,      0.9186,      0.9186,      0.9186,      0.9186,      0.9186,     0.91858,     0.91841,     0.91824,     0.91808,     0.91791,\n",
              "            0.91774,     0.91758,     0.91741,     0.91724,     0.91708,     0.91691,     0.91674,     0.91657,     0.91641,     0.91624,     0.91607,     0.91591,     0.91574,     0.91557,     0.91541,     0.91524,     0.91507,     0.91491,     0.91474,     0.91457,      0.9144,     0.91424,     0.91407,\n",
              "             0.9139,     0.91374,     0.91357,      0.9134,     0.91324,     0.91307,      0.9129,     0.91273,     0.91257,      0.9124,     0.91223,     0.91207,      0.9119,     0.91173,     0.91157,      0.9114,     0.91123,     0.91106,      0.9109,     0.91073,     0.91056,      0.9104,     0.91023,\n",
              "            0.91006,      0.9099,     0.90973,     0.90956,      0.9094,     0.90923,     0.90906,     0.90889,     0.90873,     0.90856,     0.90839,     0.90823,     0.90806,     0.90789,     0.90773,     0.90756,     0.90739,     0.90722,     0.90706,     0.90676,     0.90633,     0.90591,     0.90549,\n",
              "            0.90506,     0.90464,     0.90422,     0.90379,     0.90337,     0.90294,     0.90252,      0.9021,     0.90167,     0.90125,     0.90083,      0.9004,     0.89998,     0.89956,     0.89913,     0.89871,     0.89828,     0.89786,     0.89744,     0.89701,     0.89659,     0.89617,     0.89574,\n",
              "            0.89535,     0.89535,     0.89535,     0.89535,     0.89514,     0.89492,     0.89471,     0.89449,     0.89428,     0.89406,     0.89385,     0.89363,     0.89342,      0.8932,     0.89299,     0.89277,     0.89256,     0.89234,     0.89213,     0.89191,      0.8917,     0.89148,     0.89127,\n",
              "            0.89105,     0.89084,     0.89062,     0.89041,     0.89019,     0.88998,     0.88976,     0.88955,     0.88933,     0.88912,      0.8889,     0.88869,     0.88847,     0.88826,     0.88804,     0.88783,     0.88761,      0.8874,     0.88718,     0.88697,     0.88675,     0.88654,     0.88632,\n",
              "            0.88611,     0.88589,     0.88568,     0.88547,     0.88525,     0.88504,     0.88482,     0.88461,     0.88439,     0.88418,     0.88396,     0.88375,     0.88372,     0.88372,     0.88372,     0.88372,     0.88372,     0.88372,     0.88372,     0.88372,     0.88372,     0.88372,     0.88372,\n",
              "            0.88372,     0.88372,     0.88372,     0.88372,     0.88372,     0.88372,     0.88372,     0.88365,     0.88342,     0.88319,     0.88295,     0.88272,     0.88248,     0.88225,     0.88201,     0.88178,     0.88155,     0.88131,     0.88108,     0.88084,     0.88061,     0.88038,     0.88014,\n",
              "            0.87991,     0.87967,     0.87944,      0.8792,     0.87897,     0.87874,      0.8785,     0.87827,     0.87803,      0.8778,     0.87756,     0.87733,      0.8771,     0.87686,     0.87663,     0.87639,     0.87616,     0.87593,     0.87569,     0.87546,     0.87522,     0.87499,     0.87475,\n",
              "            0.87452,     0.87429,     0.87405,     0.87382,     0.87358,     0.87335,     0.87312,     0.87288,     0.87265,     0.87241,     0.87218,     0.87173,     0.87116,     0.87058,     0.87001,     0.86944,     0.86886,     0.86829,     0.86772,     0.86714,     0.86657,       0.866,     0.86542,\n",
              "            0.86485,     0.86428,      0.8637,     0.86313,     0.86256,     0.86198,     0.86141,     0.86084,     0.86047,     0.86047,     0.86047,     0.86047,     0.86047,     0.86047,     0.86047,     0.86047,     0.86047,     0.86047,     0.86047,     0.86047,     0.86047,     0.86047,     0.86047,\n",
              "            0.86047,     0.86047,     0.86047,     0.86047,     0.86047,     0.86047,     0.86047,     0.86047,     0.86047,     0.86047,     0.86047,     0.86047,     0.86047,     0.86047,     0.86047,     0.86047,     0.86047,     0.86047,     0.86047,     0.86047,     0.86047,     0.86047,     0.86047,\n",
              "            0.86047,     0.86047,     0.86047,     0.86047,     0.86047,     0.86047,     0.86047,     0.86047,     0.85967,     0.85735,     0.85502,      0.8527,     0.85038,     0.84872,     0.84836,     0.84801,     0.84765,     0.84729,     0.84694,     0.84658,     0.84623,     0.84587,     0.84552,\n",
              "            0.84516,      0.8448,     0.84445,     0.84409,     0.84374,     0.84338,     0.84303,     0.84267,     0.84231,     0.84196,      0.8416,     0.84125,     0.84089,     0.84053,     0.84018,     0.83982,     0.83947,     0.83911,     0.83876,      0.8384,     0.83804,     0.83769,     0.83733,\n",
              "            0.83695,     0.83656,     0.83617,     0.83577,     0.83538,     0.83499,     0.83459,      0.8342,     0.83381,     0.83342,     0.83302,     0.83263,     0.83224,     0.83184,     0.83145,     0.83106,     0.83067,     0.83027,     0.82988,     0.82949,      0.8291,      0.8287,     0.82831,\n",
              "            0.82792,     0.82752,     0.82713,     0.82674,     0.82635,     0.82595,     0.82554,     0.82476,     0.82399,     0.82322,     0.82244,     0.82167,      0.8209,     0.82012,     0.81935,     0.81858,      0.8178,     0.81703,     0.81626,     0.81548,     0.81471,     0.81394,     0.81326,\n",
              "            0.81258,     0.81191,     0.81123,     0.81055,     0.80988,      0.8092,     0.80852,     0.80785,     0.80717,     0.80649,     0.80581,     0.80514,     0.80446,     0.80378,     0.80311,     0.80243,     0.80195,      0.8015,     0.80105,      0.8006,     0.80015,      0.7997,     0.79925,\n",
              "             0.7988,     0.79835,      0.7979,     0.79745,       0.797,     0.79655,      0.7961,     0.79565,      0.7952,     0.79475,      0.7943,     0.79385,      0.7934,     0.79295,      0.7925,     0.79205,      0.7916,     0.79115,      0.7907,      0.7907,      0.7907,      0.7907,      0.7907,\n",
              "             0.7907,      0.7907,      0.7907,      0.7907,      0.7907,      0.7907,     0.79025,      0.7898,     0.78936,     0.78891,     0.78846,     0.78801,     0.78757,     0.78712,     0.78667,     0.78622,     0.78578,     0.78533,     0.78488,     0.78443,     0.78399,     0.78354,     0.78309,\n",
              "            0.78264,      0.7822,     0.78175,      0.7813,     0.78085,     0.78041,     0.77996,     0.77951,     0.77904,      0.7773,     0.77557,     0.77383,     0.77209,     0.77035,     0.76861,     0.76674,      0.7646,     0.76246,     0.76032,     0.75818,     0.75604,     0.75501,     0.75411,\n",
              "            0.75321,      0.7523,      0.7514,      0.7505,      0.7496,      0.7487,      0.7478,      0.7469,       0.746,     0.74509,     0.74419,      0.7418,      0.7394,       0.737,      0.7346,     0.73238,     0.73124,     0.73009,     0.72895,      0.7278,     0.72666,     0.72551,     0.72436,\n",
              "            0.72322,     0.72207,     0.72093,     0.72093,     0.72093,     0.72093,     0.72093,     0.72093,     0.72093,     0.72093,     0.72093,     0.72093,     0.72093,     0.72093,     0.72093,     0.71329,     0.70872,     0.70765,     0.70659,     0.70552,     0.70445,     0.70339,     0.70232,\n",
              "            0.70125,     0.70019,     0.69912,     0.69805,     0.68544,     0.68416,     0.68288,      0.6816,     0.68032,     0.67905,     0.67777,     0.67649,     0.67521,     0.67442,     0.67442,     0.67442,     0.67442,     0.67442,     0.67442,     0.67442,     0.67442,     0.67442,     0.67442,\n",
              "            0.67442,     0.67442,     0.67442,     0.67442,     0.67442,     0.67168,     0.66603,     0.66066,     0.65567,     0.65058,     0.64453,     0.63926,     0.63766,     0.63607,     0.63448,     0.63288,     0.63129,      0.6297,      0.6281,     0.62589,     0.62359,      0.6213,       0.619,\n",
              "            0.61671,     0.61531,     0.61412,     0.61293,     0.61174,     0.61054,     0.60935,     0.60816,     0.60697,     0.60578,     0.60444,     0.60047,     0.59649,     0.59219,     0.58561,     0.57872,     0.57127,     0.56936,     0.56884,     0.56833,     0.56782,      0.5673,     0.56679,\n",
              "            0.56628,     0.56576,     0.56525,     0.56474,     0.56422,     0.56371,      0.5632,     0.56268,     0.56217,     0.56165,     0.56114,     0.56063,     0.56011,      0.5596,     0.55909,     0.55857,     0.55762,     0.55427,     0.55091,     0.54756,     0.54546,     0.54394,     0.54242,\n",
              "             0.5409,     0.53937,     0.53785,     0.53633,     0.53048,     0.52138,     0.51933,     0.51727,     0.51522,     0.51317,     0.49763,     0.48272,     0.47629,     0.47402,     0.47175,     0.46948,     0.46721,     0.45599,       0.447,     0.43249,     0.42376,     0.41665,     0.40874,\n",
              "            0.40161,     0.39474,     0.38829,     0.37701,     0.36785,     0.36246,     0.35995,     0.35913,     0.35831,      0.3575,     0.35668,     0.35586,     0.35504,     0.35422,      0.3534,     0.35259,     0.35177,     0.35095,     0.35013,     0.34931,     0.34762,      0.3447,     0.34179,\n",
              "            0.33887,     0.33597,     0.33308,     0.33018,     0.32729,     0.31936,     0.31259,     0.31047,     0.30835,     0.30624,     0.30412,     0.29612,     0.27441,     0.26885,     0.26135,     0.24391,     0.22822,     0.21632,     0.20436,       0.189,     0.17113,      0.1635,     0.14701,\n",
              "            0.13979,     0.13492,     0.13013,     0.12684,     0.12484,     0.12284,     0.12084,     0.11884,     0.11684,      0.1155,     0.11441,     0.11332,     0.11223,     0.11114,     0.11005,     0.10896,     0.10787,     0.10678,     0.10569,     0.10432,    0.097896,    0.091515,    0.085273,\n",
              "           0.077942,    0.069466,    0.066539,    0.063613,    0.060687,    0.057201,    0.049956,    0.044503,    0.040675,    0.036847,    0.033976,    0.032111,    0.030246,    0.028381,    0.026516,    0.024652,    0.022924,    0.021602,     0.02028,    0.018959,    0.017637,    0.016316,    0.014994,\n",
              "           0.013672,    0.012351,           0,           0,           0,           0,           0,           0,           0,           0,           0]]), 'Confidence', 'Recall']]\n",
              "fitness: np.float64(0.7460436469328785)\n",
              "keys: ['metrics/precision(B)', 'metrics/recall(B)', 'metrics/mAP50(B)', 'metrics/mAP50-95(B)']\n",
              "maps: array([    0.72379])\n",
              "names: {0: 'ball'}\n",
              "nt_per_class: array([86])\n",
              "nt_per_image: array([80])\n",
              "results_dict: {'metrics/precision(B)': np.float64(0.9181487381355535), 'metrics/recall(B)': np.float64(0.9130685644034825), 'metrics/mAP50(B)': np.float64(0.9463711891744586), 'metrics/mAP50-95(B)': np.float64(0.7237850311282584), 'fitness': np.float64(0.7460436469328785)}\n",
              "save_dir: PosixPath('runs/detect/val')\n",
              "speed: {'preprocess': 4.574298337500693, 'inference': 7.649935562503174, 'loss': 0.0013693874976183906, 'postprocess': 2.106759437501182}\n",
              "stats: {'tp': [], 'conf': [], 'pred_cls': [], 'target_cls': [], 'target_img': []}\n",
              "task: 'detect'"
            ]
          },
          "metadata": {},
          "execution_count": 11
        }
      ],
      "source": [
        "model = YOLO(\"runs/detect/train/weights/best.pt\")\n",
        "model.val()"
      ]
    },
    {
      "cell_type": "code",
      "execution_count": null,
      "metadata": {
        "id": "B8QZl2-nb68W"
      },
      "outputs": [],
      "source": []
    },
    {
      "cell_type": "code",
      "metadata": {
        "colab": {
          "base_uri": "https://localhost:8080/"
        },
        "id": "e958a463",
        "outputId": "83b76dc2-2fdd-4c23-bdee-7676f423fc97"
      },
      "source": [
        "# The model.val() method returns a metrics object\n",
        "metrics = model.val()\n",
        "\n",
        "# Accessing the accuracy metrics\n",
        "print(f\"mAP50: {metrics.box.map50}\")\n",
        "print(f\"mAP50-95: {metrics.box.map}\")"
      ],
      "execution_count": null,
      "outputs": [
        {
          "output_type": "stream",
          "name": "stdout",
          "text": [
            "Ultralytics 8.3.167 🚀 Python-3.11.13 torch-2.6.0+cu124 CUDA:0 (Tesla T4, 15095MiB)\n",
            "\u001b[34m\u001b[1mval: \u001b[0mFast image access ✅ (ping: 0.0±0.0 ms, read: 562.6±306.6 MB/s, size: 21.9 KB)\n"
          ]
        },
        {
          "output_type": "stream",
          "name": "stderr",
          "text": [
            "\u001b[34m\u001b[1mval: \u001b[0mScanning /content/basketball-1/valid/labels.cache... 80 images, 0 backgrounds, 0 corrupt: 100%|██████████| 80/80 [00:00<?, ?it/s]"
          ]
        },
        {
          "output_type": "stream",
          "name": "stdout",
          "text": [
            "WARNING ⚠️ Box and segment counts should be equal, but got len(segments) = 1, len(boxes) = 86. To resolve this only boxes will be used and all segments will be removed. To avoid this please supply either a detect or segment dataset, not a detect-segment mixed dataset.\n"
          ]
        },
        {
          "output_type": "stream",
          "name": "stderr",
          "text": [
            "\n",
            "                 Class     Images  Instances      Box(P          R      mAP50  mAP50-95): 100%|██████████| 5/5 [00:02<00:00,  2.13it/s]\n"
          ]
        },
        {
          "output_type": "stream",
          "name": "stdout",
          "text": [
            "                   all         80         86      0.918      0.913      0.946      0.724\n",
            "Speed: 4.5ms preprocess, 7.7ms inference, 0.0ms loss, 3.9ms postprocess per image\n",
            "Results saved to \u001b[1mruns/detect/val2\u001b[0m\n",
            "mAP50: 0.9463711891744586\n",
            "mAP50-95: 0.7237850311282584\n"
          ]
        }
      ]
    }
  ],
  "metadata": {
    "accelerator": "GPU",
    "colab": {
      "gpuType": "T4",
      "provenance": [],
      "authorship_tag": "ABX9TyNaD93bPrMCBSsT+gxuOx8M",
      "include_colab_link": true
    },
    "kernelspec": {
      "display_name": "Python 3",
      "name": "python3"
    },
    "language_info": {
      "name": "python"
    }
  },
  "nbformat": 4,
  "nbformat_minor": 0
}